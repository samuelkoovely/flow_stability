{
 "cells": [
  {
   "cell_type": "code",
   "execution_count": 1,
   "metadata": {},
   "outputs": [
    {
     "name": "stdout",
     "output_type": "stream",
     "text": [
      "Could not load sparse_dot_mkl. Will use scipy.sparse for matrix products.\n"
     ]
    }
   ],
   "source": [
    "import sys\n",
    "import os\n",
    "\n",
    "\n",
    "\n",
    "import numpy as np\n",
    "from SynthTempNetwork import Individual, SynthTempNetwork\n",
    "from TemporalNetwork import ContTempNetwork, StaticTempNetwork\n",
    "from FlowStability import FlowIntegralClustering\n",
    "import pickle\n",
    "\n",
    "import matplotlib.pyplot as plt\n",
    "import matplotlib\n",
    "\n",
    "from scipy.sparse import (lil_matrix, dok_matrix, diags, eye, isspmatrix_csr, isspmatrix,\n",
    "                          csr_matrix, coo_matrix, csc_matrix)\n",
    "from scipy.sparse.linalg import eigsh "
   ]
  },
  {
   "cell_type": "code",
   "execution_count": 2,
   "metadata": {},
   "outputs": [],
   "source": [
    "inter_tau = 2\n",
    "activ_tau = 2\n",
    "t_start = 0\n",
    "n_groups = 27\n",
    "n_per_group = 3\n",
    "individuals = []\n",
    "\n",
    "\n",
    "p27 = 49/50\n",
    "p9 = 49/(3*50)\n",
    "p3 = 49/(9*50)\n",
    "\n",
    "deltat1 =100\n",
    "\n",
    "t_end = 3*deltat1\n",
    "\n",
    "\n",
    "\n",
    "\n",
    "def make_step_block_probs(deltat1, p27=0, p9=0, p3=0):\n",
    "    \"\"\" Returns a function that generate the block probability matrix as a function of time.\n",
    "    \n",
    "        `deltat1` is the length of the within step\n",
    "    \n",
    "        `deltat2` is the length of the echanging step\n",
    "        \n",
    "        `m1` is the prob of self-interaction (during deltat1)\n",
    "        \n",
    "        `p1` is the prob of cross-interaction (during deltat2)\n",
    "    \"\"\"\n",
    "\n",
    "\n",
    "    def block_mod_func(t):\n",
    "        k27 = (1/p27 -1)/26\n",
    "        pout27 = k27 * p27\n",
    "\n",
    "        k9 = (1/p9 - 3)/24\n",
    "        pout9 = k9 * p9\n",
    "\n",
    "        k3 = (1/p3 - 9)/18\n",
    "        pout3 = k3 * p3\n",
    "        \n",
    "        net27 = np.array([[p27, pout27, pout27, pout27, pout27, pout27, pout27, pout27, pout27, pout27, pout27, pout27, pout27, pout27, pout27, pout27, pout27, pout27, pout27, pout27, pout27, pout27, pout27, pout27, pout27, pout27, pout27],\n",
    "                         [pout27, p27, pout27, pout27, pout27, pout27, pout27, pout27, pout27, pout27, pout27, pout27, pout27, pout27, pout27, pout27, pout27, pout27, pout27, pout27, pout27, pout27, pout27, pout27, pout27, pout27, pout27],\n",
    "                         [pout27, pout27, p27, pout27, pout27, pout27, pout27, pout27, pout27, pout27, pout27, pout27, pout27, pout27, pout27, pout27, pout27, pout27, pout27, pout27, pout27, pout27, pout27, pout27, pout27, pout27, pout27],\n",
    "                         [pout27, pout27, pout27, p27, pout27, pout27, pout27, pout27, pout27, pout27, pout27, pout27, pout27, pout27, pout27, pout27, pout27, pout27, pout27, pout27, pout27, pout27, pout27, pout27, pout27, pout27, pout27],\n",
    "                         [pout27, pout27, pout27, pout27, p27, pout27, pout27, pout27, pout27, pout27, pout27, pout27, pout27, pout27, pout27, pout27, pout27, pout27, pout27, pout27, pout27, pout27, pout27, pout27, pout27, pout27, pout27],\n",
    "                         [pout27, pout27, pout27, pout27, pout27, p27, pout27, pout27, pout27, pout27, pout27, pout27, pout27, pout27, pout27, pout27, pout27, pout27, pout27, pout27, pout27, pout27, pout27, pout27, pout27, pout27, pout27],\n",
    "                         [pout27, pout27, pout27, pout27, pout27, pout27, p27, pout27, pout27, pout27, pout27, pout27, pout27, pout27, pout27, pout27, pout27, pout27, pout27, pout27, pout27, pout27, pout27, pout27, pout27, pout27, pout27],\n",
    "                         [pout27, pout27, pout27, pout27, pout27, pout27, pout27, p27, pout27, pout27, pout27, pout27, pout27, pout27, pout27, pout27, pout27, pout27, pout27, pout27, pout27, pout27, pout27, pout27, pout27, pout27, pout27],\n",
    "                         [pout27, pout27, pout27, pout27, pout27, pout27, pout27, pout27, p27, pout27, pout27, pout27, pout27, pout27, pout27, pout27, pout27, pout27, pout27, pout27, pout27, pout27, pout27, pout27, pout27, pout27, pout27],\n",
    "                         [pout27, pout27, pout27, pout27, pout27, pout27, pout27, pout27, pout27, p27, pout27, pout27, pout27, pout27, pout27, pout27, pout27, pout27, pout27, pout27, pout27, pout27, pout27, pout27, pout27, pout27, pout27],\n",
    "                         [pout27, pout27, pout27, pout27, pout27, pout27, pout27, pout27, pout27, pout27, p27, pout27, pout27, pout27, pout27, pout27, pout27, pout27, pout27, pout27, pout27, pout27, pout27, pout27, pout27, pout27, pout27],\n",
    "                         [pout27, pout27, pout27, pout27, pout27, pout27, pout27, pout27, pout27, pout27, pout27, p27, pout27, pout27, pout27, pout27, pout27, pout27, pout27, pout27, pout27, pout27, pout27, pout27, pout27, pout27, pout27],\n",
    "                         [pout27, pout27, pout27, pout27, pout27, pout27, pout27, pout27, pout27, pout27, pout27, pout27, p27, pout27, pout27, pout27, pout27, pout27, pout27, pout27, pout27, pout27, pout27, pout27, pout27, pout27, pout27],\n",
    "                         [pout27, pout27, pout27, pout27, pout27, pout27, pout27, pout27, pout27, pout27, pout27, pout27, pout27, p27, pout27, pout27, pout27, pout27, pout27, pout27, pout27, pout27, pout27, pout27, pout27, pout27, pout27],\n",
    "                         [pout27, pout27, pout27, pout27, pout27, pout27, pout27, pout27, pout27, pout27, pout27, pout27, pout27, pout27, p27, pout27, pout27, pout27, pout27, pout27, pout27, pout27, pout27, pout27, pout27, pout27, pout27],\n",
    "                         [pout27, pout27, pout27, pout27, pout27, pout27, pout27, pout27, pout27, pout27, pout27, pout27, pout27, pout27, pout27, p27, pout27, pout27, pout27, pout27, pout27, pout27, pout27, pout27, pout27, pout27, pout27],\n",
    "                         [pout27, pout27, pout27, pout27, pout27, pout27, pout27, pout27, pout27, pout27, pout27, pout27, pout27, pout27, pout27, pout27, p27, pout27, pout27, pout27, pout27, pout27, pout27, pout27, pout27, pout27, pout27],\n",
    "                         [pout27, pout27, pout27, pout27, pout27, pout27, pout27, pout27, pout27, pout27, pout27, pout27, pout27, pout27, pout27, pout27, pout27, p27, pout27, pout27, pout27, pout27, pout27, pout27, pout27, pout27, pout27],\n",
    "                         [pout27, pout27, pout27, pout27, pout27, pout27, pout27, pout27, pout27, pout27, pout27, pout27, pout27, pout27, pout27, pout27, pout27, pout27, p27, pout27, pout27, pout27, pout27, pout27, pout27, pout27, pout27],\n",
    "                         [pout27, pout27, pout27, pout27, pout27, pout27, pout27, pout27, pout27, pout27, pout27, pout27, pout27, pout27, pout27, pout27, pout27, pout27, pout27, p27, pout27, pout27, pout27, pout27, pout27, pout27, pout27],\n",
    "                         [pout27, pout27, pout27, pout27, pout27, pout27, pout27, pout27, pout27, pout27, pout27, pout27, pout27, pout27, pout27, pout27, pout27, pout27, pout27, pout27, p27, pout27, pout27, pout27, pout27, pout27, pout27],\n",
    "                         [pout27, pout27, pout27, pout27, pout27, pout27, pout27, pout27, pout27, pout27, pout27, pout27, pout27, pout27, pout27, pout27, pout27, pout27, pout27, pout27, pout27, p27, pout27, pout27, pout27, pout27, pout27],\n",
    "                         [pout27, pout27, pout27, pout27, pout27, pout27, pout27, pout27, pout27, pout27, pout27, pout27, pout27, pout27, pout27, pout27, pout27, pout27, pout27, pout27, pout27, pout27, p27, pout27, pout27, pout27, pout27],\n",
    "                         [pout27, pout27, pout27, pout27, pout27, pout27, pout27, pout27, pout27, pout27, pout27, pout27, pout27, pout27, pout27, pout27, pout27, pout27, pout27, pout27, pout27, pout27, pout27, p27, pout27, pout27, pout27],\n",
    "                         [pout27, pout27, pout27, pout27, pout27, pout27, pout27, pout27, pout27, pout27, pout27, pout27, pout27, pout27, pout27, pout27, pout27, pout27, pout27, pout27, pout27, pout27, pout27, pout27, p27, pout27, pout27],\n",
    "                         [pout27, pout27, pout27, pout27, pout27, pout27, pout27, pout27, pout27, pout27, pout27, pout27, pout27, pout27, pout27, pout27, pout27, pout27, pout27, pout27, pout27, pout27, pout27, pout27, pout27, p27, pout27],\n",
    "                         [pout27, pout27, pout27, pout27, pout27, pout27, pout27, pout27, pout27, pout27, pout27, pout27, pout27, pout27, pout27, pout27, pout27, pout27, pout27, pout27, pout27, pout27, pout27, pout27, pout27, pout27, p27]])\n",
    "        net9 = np.array([[p9, p9, p9, pout9, pout9, pout9, pout9, pout9, pout9, pout9, pout9, pout9, pout9, pout9, pout9, pout9, pout9, pout9, pout9, pout9, pout9, pout9, pout9, pout9, pout9, pout9, pout9],\n",
    "                         [p9, p9, p9, pout9, pout9, pout9, pout9, pout9, pout9, pout9, pout9, pout9, pout9, pout9, pout9, pout9, pout9, pout9, pout9, pout9, pout9, pout9, pout9, pout9, pout9, pout9, pout9],\n",
    "                         [p9, p9, p9, pout9, pout9, pout9, pout9, pout9, pout9, pout9, pout9, pout9, pout9, pout9, pout9, pout9, pout9, pout9, pout9, pout9, pout9, pout9, pout9, pout9, pout9, pout9, pout9],\n",
    "                         [pout9, pout9, pout9, p9, p9, p9, pout9, pout9, pout9, pout9, pout9, pout9, pout9, pout9, pout9, pout9, pout9, pout9, pout9, pout9, pout9, pout9, pout9, pout9, pout9, pout9, pout9],\n",
    "                         [pout9, pout9, pout9, p9, p9, p9, pout9, pout9, pout9, pout9, pout9, pout9, pout9, pout9, pout9, pout9, pout9, pout9, pout9, pout9, pout9, pout9, pout9, pout9, pout9, pout9, pout9],\n",
    "                         [pout9, pout9, pout9, p9, p9, p9, pout9, pout9, pout9, pout9, pout9, pout9, pout9, pout9, pout9, pout9, pout9, pout9, pout9, pout9, pout9, pout9, pout9, pout9, pout9, pout9, pout9],\n",
    "                         [pout9, pout9, pout9, pout9, pout9, pout9, p9, p9, p9, pout9, pout9, pout9, pout9, pout9, pout9, pout9, pout9, pout9, pout9, pout9, pout9, pout9, pout9, pout9, pout9, pout9, pout9],\n",
    "                         [pout9, pout9, pout9, pout9, pout9, pout9, p9, p9, p9, pout9, pout9, pout9, pout9, pout9, pout9, pout9, pout9, pout9, pout9, pout9, pout9, pout9, pout9, pout9, pout9, pout9, pout9],\n",
    "                         [pout9, pout9, pout9, pout9, pout9, pout9, p9, p9, p9, pout9, pout9, pout9, pout9, pout9, pout9, pout9, pout9, pout9, pout9, pout9, pout9, pout9, pout9, pout9, pout9, pout9, pout9],\n",
    "                         [pout9, pout9, pout9, pout9, pout9, pout9, pout9, pout9, pout9, p9, p9, p9, pout9, pout9, pout9, pout9, pout9, pout9, pout9, pout9, pout9, pout9, pout9, pout9, pout9, pout9, pout9],\n",
    "                         [pout9, pout9, pout9, pout9, pout9, pout9, pout9, pout9, pout9, p9, p9, p9, pout9, pout9, pout9, pout9, pout9, pout9, pout9, pout9, pout9, pout9, pout9, pout9, pout9, pout9, pout9],\n",
    "                         [pout9, pout9, pout9, pout9, pout9, pout9, pout9, pout9, pout9, p9, p9, p9, pout9, pout9, pout9, pout9, pout9, pout9, pout9, pout9, pout9, pout9, pout9, pout9, pout9, pout9, pout9],\n",
    "                         [pout9, pout9, pout9, pout9, pout9, pout9, pout9, pout9, pout9, pout9, pout9, pout9, p9, p9, p9, pout9, pout9, pout9, pout9, pout9, pout9, pout9, pout9, pout9, pout9, pout9, pout9],\n",
    "                         [pout9, pout9, pout9, pout9, pout9, pout9, pout9, pout9, pout9, pout9, pout9, pout9, p9, p9, p9, pout9, pout9, pout9, pout9, pout9, pout9, pout9, pout9, pout9, pout9, pout9, pout9],\n",
    "                         [pout9, pout9, pout9, pout9, pout9, pout9, pout9, pout9, pout9, pout9, pout9, pout9, p9, p9, p9, pout9, pout9, pout9, pout9, pout9, pout9, pout9, pout9, pout9, pout9, pout9, pout9],\n",
    "                         [pout9, pout9, pout9, pout9, pout9, pout9, pout9, pout9, pout9, pout9, pout9, pout9, pout9, pout9, pout9, p9, p9, p9, pout9, pout9, pout9, pout9, pout9, pout9, pout9, pout9, pout9],\n",
    "                         [pout9, pout9, pout9, pout9, pout9, pout9, pout9, pout9, pout9, pout9, pout9, pout9, pout9, pout9, pout9, p9, p9, p9, pout9, pout9, pout9, pout9, pout9, pout9, pout9, pout9, pout9],\n",
    "                         [pout9, pout9, pout9, pout9, pout9, pout9, pout9, pout9, pout9, pout9, pout9, pout9, pout9, pout9, pout9, p9, p9, p9, pout9, pout9, pout9, pout9, pout9, pout9, pout9, pout9, pout9],\n",
    "                         [pout9, pout9, pout9, pout9, pout9, pout9, pout9, pout9, pout9, pout9, pout9, pout9, pout9, pout9, pout9, pout9, pout9, pout9, p9, p9, p9, pout9, pout9, pout9, pout9, pout9, pout9],\n",
    "                         [pout9, pout9, pout9, pout9, pout9, pout9, pout9, pout9, pout9, pout9, pout9, pout9, pout9, pout9, pout9, pout9, pout9, pout9, p9, p9, p9, pout9, pout9, pout9, pout9, pout9, pout9],\n",
    "                         [pout9, pout9, pout9, pout9, pout9, pout9, pout9, pout9, pout9, pout9, pout9, pout9, pout9, pout9, pout9, pout9, pout9, pout9, p9, p9, p9, pout9, pout9, pout9, pout9, pout9, pout9],\n",
    "                         [pout9, pout9, pout9, pout9, pout9, pout9, pout9, pout9, pout9, pout9, pout9, pout9, pout9, pout9, pout9, pout9, pout9, pout9, pout9, pout9, pout9, p9, p9, p9, pout9, pout9, pout9],\n",
    "                         [pout9, pout9, pout9, pout9, pout9, pout9, pout9, pout9, pout9, pout9, pout9, pout9, pout9, pout9, pout9, pout9, pout9, pout9, pout9, pout9, pout9, p9, p9, p9, pout9, pout9, pout9],\n",
    "                         [pout9, pout9, pout9, pout9, pout9, pout9, pout9, pout9, pout9, pout9, pout9, pout9, pout9, pout9, pout9, pout9, pout9, pout9, pout9, pout9, pout9, p9, p9, p9, pout9, pout9, pout9],\n",
    "                         [pout9, pout9, pout9, pout9, pout9, pout9, pout9, pout9, pout9, pout9, pout9, pout9, pout9, pout9, pout9, pout9, pout9, pout9, pout9, pout9, pout9, pout9, pout9, pout9, p9, p9, p9],\n",
    "                         [pout9, pout9, pout9, pout9, pout9, pout9, pout9, pout9, pout9, pout9, pout9, pout9, pout9, pout9, pout9, pout9, pout9, pout9, pout9, pout9, pout9, pout9, pout9, pout9, p9, p9, p9],\n",
    "                         [pout9, pout9, pout9, pout9, pout9, pout9, pout9, pout9, pout9, pout9, pout9, pout9, pout9, pout9, pout9, pout9, pout9, pout9, pout9, pout9, pout9, pout9, pout9, pout9, p9, p9, p9]])\n",
    "        net3 = np.array([[p3, p3, p3, p3, p3, p3, p3, p3, p3, pout3, pout3, pout3, pout3, pout3, pout3, pout3, pout3, pout3, pout3, pout3, pout3, pout3, pout3, pout3, pout3, pout3, pout3],\n",
    "                         [p3, p3, p3, p3, p3, p3, p3, p3, p3, pout3, pout3, pout3, pout3, pout3, pout3, pout3, pout3, pout3, pout3, pout3, pout3, pout3, pout3, pout3, pout3, pout3, pout3],\n",
    "                         [p3, p3, p3, p3, p3, p3, p3, p3, p3, pout3, pout3, pout3, pout3, pout3, pout3, pout3, pout3, pout3, pout3, pout3, pout3, pout3, pout3, pout3, pout3, pout3, pout3],\n",
    "                         [p3, p3, p3, p3, p3, p3, p3, p3, p3, pout3, pout3, pout3, pout3, pout3, pout3, pout3, pout3, pout3, pout3, pout3, pout3, pout3, pout3, pout3, pout3, pout3, pout3],\n",
    "                         [p3, p3, p3, p3, p3, p3, p3, p3, p3, pout3, pout3, pout3, pout3, pout3, pout3, pout3, pout3, pout3, pout3, pout3, pout3, pout3, pout3, pout3, pout3, pout3, pout3],\n",
    "                         [p3, p3, p3, p3, p3, p3, p3, p3, p3, pout3, pout3, pout3, pout3, pout3, pout3, pout3, pout3, pout3, pout3, pout3, pout3, pout3, pout3, pout3, pout3, pout3, pout3],\n",
    "                         [p3, p3, p3, p3, p3, p3, p3, p3, p3, pout3, pout3, pout3, pout3, pout3, pout3, pout3, pout3, pout3, pout3, pout3, pout3, pout3, pout3, pout3, pout3, pout3, pout3],\n",
    "                         [p3, p3, p3, p3, p3, p3, p3, p3, p3, pout3, pout3, pout3, pout3, pout3, pout3, pout3, pout3, pout3, pout3, pout3, pout3, pout3, pout3, pout3, pout3, pout3, pout3],\n",
    "                         [p3, p3, p3, p3, p3, p3, p3, p3, p3, pout3, pout3, pout3, pout3, pout3, pout3, pout3, pout3, pout3, pout3, pout3, pout3, pout3, pout3, pout3, pout3, pout3, pout3],\n",
    "                         [pout3, pout3, pout3, pout3, pout3, pout3, pout3, pout3, pout3, p3, p3, p3, p3, p3, p3, p3, p3, p3, pout3, pout3, pout3, pout3, pout3, pout3, pout3, pout3, pout3],\n",
    "                         [pout3, pout3, pout3, pout3, pout3, pout3, pout3, pout3, pout3, p3, p3, p3, p3, p3, p3, p3, p3, p3, pout3, pout3, pout3, pout3, pout3, pout3, pout3, pout3, pout3],\n",
    "                         [pout3, pout3, pout3, pout3, pout3, pout3, pout3, pout3, pout3, p3, p3, p3, p3, p3, p3, p3, p3, p3, pout3, pout3, pout3, pout3, pout3, pout3, pout3, pout3, pout3],\n",
    "                         [pout3, pout3, pout3, pout3, pout3, pout3, pout3, pout3, pout3, p3, p3, p3, p3, p3, p3, p3, p3, p3, pout3, pout3, pout3, pout3, pout3, pout3, pout3, pout3, pout3],\n",
    "                         [pout3, pout3, pout3, pout3, pout3, pout3, pout3, pout3, pout3, p3, p3, p3, p3, p3, p3, p3, p3, p3, pout3, pout3, pout3, pout3, pout3, pout3, pout3, pout3, pout3],\n",
    "                         [pout3, pout3, pout3, pout3, pout3, pout3, pout3, pout3, pout3, p3, p3, p3, p3, p3, p3, p3, p3, p3, pout3, pout3, pout3, pout3, pout3, pout3, pout3, pout3, pout3],\n",
    "                         [pout3, pout3, pout3, pout3, pout3, pout3, pout3, pout3, pout3, p3, p3, p3, p3, p3, p3, p3, p3, p3, pout3, pout3, pout3, pout3, pout3, pout3, pout3, pout3, pout3],\n",
    "                         [pout3, pout3, pout3, pout3, pout3, pout3, pout3, pout3, pout3, p3, p3, p3, p3, p3, p3, p3, p3, p3, pout3, pout3, pout3, pout3, pout3, pout3, pout3, pout3, pout3],\n",
    "                         [pout3, pout3, pout3, pout3, pout3, pout3, pout3, pout3, pout3, p3, p3, p3, p3, p3, p3, p3, p3, p3, pout3, pout3, pout3, pout3, pout3, pout3, pout3, pout3, pout3],\n",
    "                         [pout3, pout3, pout3, pout3, pout3, pout3, pout3, pout3, pout3, pout3, pout3, pout3, pout3, pout3, pout3, pout3, pout3, pout3, p3, p3, p3, p3, p3, p3, p3, p3, p3],\n",
    "                         [pout3, pout3, pout3, pout3, pout3, pout3, pout3, pout3, pout3, pout3, pout3, pout3, pout3, pout3, pout3, pout3, pout3, pout3, p3, p3, p3, p3, p3, p3, p3, p3, p3],\n",
    "                         [pout3, pout3, pout3, pout3, pout3, pout3, pout3, pout3, pout3, pout3, pout3, pout3, pout3, pout3, pout3, pout3, pout3, pout3, p3, p3, p3, p3, p3, p3, p3, p3, p3],\n",
    "                         [pout3, pout3, pout3, pout3, pout3, pout3, pout3, pout3, pout3, pout3, pout3, pout3, pout3, pout3, pout3, pout3, pout3, pout3, p3, p3, p3, p3, p3, p3, p3, p3, p3],\n",
    "                         [pout3, pout3, pout3, pout3, pout3, pout3, pout3, pout3, pout3, pout3, pout3, pout3, pout3, pout3, pout3, pout3, pout3, pout3, p3, p3, p3, p3, p3, p3, p3, p3, p3],\n",
    "                         [pout3, pout3, pout3, pout3, pout3, pout3, pout3, pout3, pout3, pout3, pout3, pout3, pout3, pout3, pout3, pout3, pout3, pout3, p3, p3, p3, p3, p3, p3, p3, p3, p3],\n",
    "                         [pout3, pout3, pout3, pout3, pout3, pout3, pout3, pout3, pout3, pout3, pout3, pout3, pout3, pout3, pout3, pout3, pout3, pout3, p3, p3, p3, p3, p3, p3, p3, p3, p3],\n",
    "                         [pout3, pout3, pout3, pout3, pout3, pout3, pout3, pout3, pout3, pout3, pout3, pout3, pout3, pout3, pout3, pout3, pout3, pout3, p3, p3, p3, p3, p3, p3, p3, p3, p3],\n",
    "                         [pout3, pout3, pout3, pout3, pout3, pout3, pout3, pout3, pout3, pout3, pout3, pout3, pout3, pout3, pout3, pout3, pout3, pout3, p3, p3, p3, p3, p3, p3, p3, p3, p3]])\n",
    "    \n",
    "        if t>=0 and  t < 2*deltat1:\n",
    "            return net27\n",
    "        elif t>= 2*deltat1 and t<3*deltat1:\n",
    "            return net3\n",
    "        else:\n",
    "            print('Warning : t must be >=0 and <= 4*deltat1' +\\\n",
    "                  't is ', t)\n",
    "            return np.eye(27)\n",
    "    return block_mod_func\n",
    " \n",
    "\n",
    "\n",
    "block_prob_mod_func = make_step_block_probs(deltat1, p27, p9, p3)"
   ]
  },
  {
   "cell_type": "code",
   "execution_count": 3,
   "metadata": {},
   "outputs": [],
   "source": [
    "# create agents for the simlation\n",
    "for g in range(n_groups):\n",
    "\n",
    "    individuals.extend([Individual(i, inter_distro_scale=inter_tau,\n",
    "                                      activ_distro_scale=activ_tau,\n",
    "                                      group=g) for i in range(g*n_per_group,(g+1)*n_per_group)])"
   ]
  },
  {
   "cell_type": "code",
   "execution_count": 4,
   "metadata": {},
   "outputs": [
    {
     "name": "stdout",
     "output_type": "stream",
     "text": [
      "running simulation\n",
      "Warning : t must be >=0 and <= 4*deltat1t is  300.00251398438627\n"
     ]
    }
   ],
   "source": [
    "# run simulation\n",
    "sim = SynthTempNetwork(individuals=individuals, t_start=t_start, t_end=t_end,\n",
    "                       next_event_method='block_probs_mod',\n",
    "                       block_prob_mod_func=block_prob_mod_func)\n",
    "\n",
    "print('running simulation')\n",
    "sim.run(save_all_states=True, save_dt_states=True, verbose=False)"
   ]
  },
  {
   "cell_type": "code",
   "execution_count": 5,
   "metadata": {},
   "outputs": [
    {
     "name": "stdout",
     "output_type": "stream",
     "text": [
      "PID  3771081  :  merged  2556  events\n",
      "PID  3771081  :  merged  0  events\n"
     ]
    }
   ],
   "source": [
    "net_heat = ContTempNetwork(source_nodes=sim.indiv_sources,\n",
    "                        target_nodes=sim.indiv_targets,\n",
    "                        starting_times=sim.start_times,\n",
    "                        ending_times=sim.end_times,\n",
    "                        merge_overlapping_events=True)"
   ]
  },
  {
   "cell_type": "code",
   "execution_count": 6,
   "metadata": {},
   "outputs": [],
   "source": [
    "net_heat.save('fig3_growing_network300_27-3_temporal_heat')"
   ]
  }
 ],
 "metadata": {
  "kernelspec": {
   "display_name": "entropy_env",
   "language": "python",
   "name": "python3"
  },
  "language_info": {
   "codemirror_mode": {
    "name": "ipython",
    "version": 3
   },
   "file_extension": ".py",
   "mimetype": "text/x-python",
   "name": "python",
   "nbconvert_exporter": "python",
   "pygments_lexer": "ipython3",
   "version": "3.10.12"
  }
 },
 "nbformat": 4,
 "nbformat_minor": 2
}
