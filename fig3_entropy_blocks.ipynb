{
 "cells": [
  {
   "cell_type": "code",
   "execution_count": 1,
   "metadata": {},
   "outputs": [
    {
     "name": "stdout",
     "output_type": "stream",
     "text": [
      "Could not load sparse_dot_mkl. Will use scipy.sparse for matrix products.\n"
     ]
    }
   ],
   "source": [
    "import sys\n",
    "import os\n",
    "\n",
    "\n",
    "\n",
    "import numpy as np\n",
    "from SynthTempNetwork import Individual, SynthTempNetwork\n",
    "from TemporalNetwork import ContTempNetwork, StaticTempNetwork\n",
    "from FlowStability import FlowIntegralClustering\n",
    "import pickle\n",
    "\n",
    "import matplotlib.pyplot as plt\n",
    "import matplotlib\n",
    "\n",
    "from scipy.sparse import (lil_matrix, dok_matrix, diags, eye, isspmatrix_csr, isspmatrix,\n",
    "                          csr_matrix, coo_matrix, csc_matrix)\n",
    "from scipy.sparse.linalg import eigsh                          "
   ]
  },
  {
   "cell_type": "code",
   "execution_count": 2,
   "metadata": {},
   "outputs": [
    {
     "name": "stdout",
     "output_type": "stream",
     "text": [
      "PID  20313  :  merged  53  events\n",
      "PID  20313  :  merged  0  events\n"
     ]
    },
    {
     "data": {
      "image/png": "[encoded data removed]",
      "text/plain": [
       "<Figure size 480x480 with 2 Axes>"
      ]
     },
     "metadata": {},
     "output_type": "display_data"
    }
   ],
   "source": [
    "inter_tau = 10\n",
    "activ_tau = 10\n",
    "num_inter_per_activ = 1\n",
    "t_start = 0\n",
    "t_end = 50\n",
    "n_groups = 27\n",
    "n_per_group = 3\n",
    "individuals = []\n",
    "\n",
    "for g in range(n_groups):\n",
    "\n",
    "    individuals.extend([Individual(i, inter_distro_scale=inter_tau,\n",
    "                          activ_distro_scale=activ_tau, group=g) for i in \\\n",
    "            range(g*n_per_group,(g+1)*n_per_group)])\n",
    "\n",
    "\n",
    "# level1 strength to level 2\n",
    "r12 = 10\n",
    "# level1 strength to level 3\n",
    "r13 = r12*10\n",
    "# level1 strength to background\n",
    "# r14 = r13*10\n",
    "\n",
    "# level 1 auto-strength with b4 = 0\n",
    "b1 = 1/(1+2/r12+6/r13)\n",
    "b2 = b1/r12\n",
    "b3 = b1/r13\n",
    "b4 = 0\n",
    "\n",
    "\n",
    "inter_module_probs = np.ones((3,3))*b3\n",
    "sub_module_probs = np.array([[b1, b2, b2],\n",
    "                             [b2, b1, b2],\n",
    "                             [b2, b2, b1]])\n",
    "    \n",
    "B0 = np.concatenate((sub_module_probs,\n",
    "                inter_module_probs,\n",
    "                inter_module_probs),axis=1)\n",
    " \n",
    "B1 = np.concatenate((inter_module_probs,\n",
    "                sub_module_probs,\n",
    "                inter_module_probs),axis=1)\n",
    "\n",
    "B2 = np.concatenate((inter_module_probs,\n",
    "                inter_module_probs,\n",
    "                sub_module_probs),axis=1)\n",
    "\n",
    "B = np.concatenate((B0,B1,B2),axis=0)\n",
    "\n",
    "Cinter = np.ones_like(B)*b4\n",
    "\n",
    "C = np.concatenate((np.concatenate((B,Cinter,Cinter),axis=1),\n",
    "                    np.concatenate((Cinter,B,Cinter),axis=1),\n",
    "                    np.concatenate((Cinter,Cinter,B),axis=1),\n",
    "                    ),axis=0)\n",
    "\n",
    "inter_group_probs = C\n",
    "\n",
    "plt.matshow(C)\n",
    "plt.colorbar()\n",
    "\n",
    "\n",
    "\n",
    "sim = SynthTempNetwork(individuals=individuals, t_start=t_start, t_end=t_end,\n",
    "                        next_event_method='block_probs',\n",
    "                        inter_group_probs=inter_group_probs,\n",
    "                        num_interactions_per_activation=num_inter_per_activ)\n",
    "\n",
    "sim.run(save_all_states=True, save_dt_states=True, verbose=False)\n",
    "\n",
    "\n",
    "\n",
    "net = ContTempNetwork(source_nodes=sim.indiv_sources,\n",
    "                        target_nodes=sim.indiv_targets,\n",
    "                        starting_times=sim.start_times,\n",
    "                        ending_times=sim.end_times,\n",
    "                        merge_overlapping_events=True)\n",
    "    "
   ]
  },
  {
   "cell_type": "code",
   "execution_count": 3,
   "metadata": {},
   "outputs": [],
   "source": [
    "#plt.imshow(C, norm=matplotlib.colors.LogNorm(vmin=C.min()+0.000001, vmax=C.max()))\n",
    "#plt.colorbar()"
   ]
  },
  {
   "cell_type": "code",
   "execution_count": 4,
   "metadata": {},
   "outputs": [],
   "source": [
    "#net.events_table"
   ]
  },
  {
   "cell_type": "code",
   "execution_count": 5,
   "metadata": {},
   "outputs": [],
   "source": [
    "#net.compute_laplacian_matrices()"
   ]
  },
  {
   "cell_type": "code",
   "execution_count": 6,
   "metadata": {},
   "outputs": [
    {
     "name": "stdout",
     "output_type": "stream",
     "text": [
      "[1.00000000e-04 2.06913808e-04 4.28133240e-04 8.85866790e-04\n",
      " 1.83298071e-03 3.79269019e-03 7.84759970e-03 1.62377674e-02\n",
      " 3.35981829e-02 6.95192796e-02 1.43844989e-01 2.97635144e-01\n",
      " 6.15848211e-01 1.27427499e+00 2.63665090e+00 5.45559478e+00\n",
      " 1.12883789e+01 2.33572147e+01 4.83293024e+01 1.00000000e+02]\n"
     ]
    }
   ],
   "source": [
    "lamdas=np.logspace(-4,2,20)\n",
    "print(lamdas)"
   ]
  },
  {
   "cell_type": "code",
   "execution_count": 7,
   "metadata": {},
   "outputs": [],
   "source": [
    "for i in lamdas:\n",
    "    net.compute_inter_transition_matrices(lamda=i, dense_expm=False, use_sparse_stoch=False)\n",
    "    net.compute_transition_matrices(lamda=i)\n",
    "net.save('fig3_network_short')"
   ]
  },
  {
   "cell_type": "code",
   "execution_count": null,
   "metadata": {},
   "outputs": [],
   "source": [
    "net = ContTempNetwork.load('fig3_network')"
   ]
  },
  {
   "cell_type": "code",
   "execution_count": null,
   "metadata": {},
   "outputs": [],
   "source": [
    "list_forw_flows = []\n",
    "\n",
    "for i in lamdas:\n",
    "    list_forw_flows.append(FlowIntegralClustering(T_inter_list=net.inter_T[i],\n",
    "                                  time_list=net.times,\n",
    "                                  verbose=True))"
   ]
  },
  {
   "cell_type": "code",
   "execution_count": null,
   "metadata": {},
   "outputs": [],
   "source": [
    "list_forw_flows[0].I_list[0]"
   ]
  },
  {
   "cell_type": "code",
   "execution_count": null,
   "metadata": {},
   "outputs": [],
   "source": [
    "for i in range(len(lamdas)):\n",
    "    list_forw_flows[i].find_louvain_clustering()"
   ]
  },
  {
   "cell_type": "markdown",
   "metadata": {},
   "source": [
    "## Computing & Plotting Entropies"
   ]
  },
  {
   "cell_type": "code",
   "execution_count": null,
   "metadata": {},
   "outputs": [],
   "source": [
    "for i in lamdas:\n",
    "    net.compute_entropy(lamda=i, force_csr=True)\n",
    "    # net.compute_vonNeumann_entropy(lamda=i, force_csr=True)\n",
    "    net.compute_simple_vonNeumann_entropy(lamda=i, force_csr=True)\n",
    "    #net.compute_entropy2(lamda=i, force_csr=True)"
   ]
  },
  {
   "cell_type": "code",
   "execution_count": null,
   "metadata": {},
   "outputs": [],
   "source": [
    "for i in range(len(lamdas)):\n",
    "    plt.subplot(1, 2, 1)\n",
    "    plt.plot(net.times[0:-1], net.S[lamdas[i]], label='lamda = ' + str(round(lamdas[i], 3)) + '  #Communities= ' + str(len(list_forw_flows[i].partition[0].cluster_list)))\n",
    "\n",
    "    plt.subplot(1, 2, 2)\n",
    "    plt.plot(net.times[0:-1], net.S[lamdas[i]], label='lamda = ' + str(round(lamdas[i], 3)) + '  #Communities= ' + str(len(list_forw_flows[i].partition[0].cluster_list)), )\n",
    "    plt.yscale('log')\n",
    "plt.legend(fontsize='xx-small', loc='upper left', bbox_to_anchor=(1.05, 1))\n",
    "plt.title('Entropy rate')\n",
    "#plt.savefig('./fig_entropy_rate', format='eps')\n",
    "\n",
    "plt.show()"
   ]
  },
  {
   "cell_type": "code",
   "execution_count": null,
   "metadata": {},
   "outputs": [],
   "source": [
    "for i in range(len(lamdas)):\n",
    "    plt.subplot(1, 2, 1)\n",
    "    plt.plot(net.times[0:-1], net.simple_vNS[lamdas[i]], label='lamda = ' + str(round(lamdas[i], 3)) + '  #Communities= ' + str(len(list_forw_flows[i].partition[0].cluster_list)))\n",
    "\n",
    "    plt.subplot(1, 2, 2)\n",
    "    plt.plot(net.times[0:-1], net.simple_vNS[lamdas[i]], label='lamda = ' + str(round(lamdas[i], 3)) + '  #Communities= ' + str(len(list_forw_flows[i].partition[0].cluster_list)), )\n",
    "    plt.yscale('log')\n",
    "plt.legend(fontsize='xx-small', loc='upper left', bbox_to_anchor=(1.05, 1))\n",
    "plt.title('Simplified Von Neumann Entropy')\n",
    "#plt.savefig('./fig_simple_vNEntropy', format='eps')"
   ]
  },
  {
   "cell_type": "code",
   "execution_count": null,
   "metadata": {},
   "outputs": [],
   "source": [
    "for i in range(len(lamdas)):\n",
    "    plt.subplot(1, 2, 1)\n",
    "    plt.plot(net.S2[lamdas[i]], label='lamda = ' + str(round(lamdas[i], 3)) + '  #Communities= ' + str(len(list_forw_flows[i].partition[0].cluster_list)))\n",
    "\n",
    "    plt.subplot(1, 2, 2)\n",
    "    plt.plot(net.S2[lamdas[i]], label='lamda = ' + str(round(lamdas[i], 3)) + '  #Communities= ' + str(len(list_forw_flows[i].partition[0].cluster_list)), )\n",
    "    plt.yscale('log')\n",
    "plt.legend(fontsize='xx-small', loc='lower right')\n",
    "plt.title('Complicated Entropy')\n",
    "#plt.savefig('./fig_complicated_entropy', format='eps')"
   ]
  },
  {
   "cell_type": "code",
   "execution_count": null,
   "metadata": {},
   "outputs": [],
   "source": [
    "for i in range(len(lamdas)):\n",
    "    plt.subplot(1, 2, 1)\n",
    "    plt.plot(net.times[0:-1], [net.T[lamdas[i]][j].trace() for j in range(len(net.T[lamdas[i]]))], label='lamda = ' + str(round(lamdas[i], 3)) + '  #Communities= ' + str(len(list_forw_flows[i].partition[0].cluster_list)))\n",
    "\n",
    "    plt.subplot(1, 2, 2)\n",
    "    plt.plot(net.times[0:-1], [net.T[lamdas[i]][j].trace() for j in range(len(net.T[lamdas[i]]))], label='lamda = ' + str(round(lamdas[i], 3)) + '  #Communities= ' + str(len(list_forw_flows[i].partition[0].cluster_list)), )\n",
    "    plt.yscale('log')\n",
    "plt.legend(fontsize='xx-small', loc='upper left')\n",
    "plt.title('Trace of T')"
   ]
  },
  {
   "cell_type": "code",
   "execution_count": null,
   "metadata": {},
   "outputs": [],
   "source": [
    "plt.matshow((net.T[lamdas[9]][100] / net.T[lamdas[9]][100].trace()).todense())\n",
    "plt.colorbar()"
   ]
  },
  {
   "cell_type": "code",
   "execution_count": null,
   "metadata": {},
   "outputs": [],
   "source": [
    "fig, axs = plt.subplots(nrows=len(lamdas), ncols=9, figsize=(20,40))\n",
    "\n",
    "for i in range(len(lamdas)):\n",
    "    for j in range(9):\n",
    "        rho = net.T[lamdas[i]][220+20*j] / net.T[lamdas[i]][220+20*j].trace()\n",
    "        axs[i][j].matshow(rho.todense())\n",
    "\n",
    "fig.tight_layout()"
   ]
  },
  {
   "cell_type": "code",
   "execution_count": null,
   "metadata": {},
   "outputs": [],
   "source": [
    "fig, axs = plt.subplots(nrows=len(lamdas), ncols=9, figsize=(20,40))\n",
    "\n",
    "for i in range(len(lamdas)):\n",
    "    for j in range(9):\n",
    "        rho = net.T[lamdas[i]][220+20*j] / net.T[lamdas[i]][220+20*j].trace()\n",
    "        np_rhologrho = rho.data * np.log(rho.data)\n",
    "        np_rhologrho[np.isnan(np_rhologrho)] = 0\n",
    "        rhologrho = csr_matrix((np_rhologrho, rho.indices, rho.indptr), shape=rho.shape)\n",
    "        del np_rhologrho\n",
    "        axs[i][j].matshow(rhologrho.todense())\n",
    "fig.tight_layout()"
   ]
  },
  {
   "cell_type": "code",
   "execution_count": null,
   "metadata": {},
   "outputs": [],
   "source": [
    "fig, axs = plt.subplots(nrows=len(lamdas), ncols=8, figsize=(20,40))\n",
    "\n",
    "for i in range(len(lamdas)):\n",
    "    for j in range(8):\n",
    "        rho = net.T[lamdas[i]][296+j] / net.T[lamdas[i]][298+j].trace()\n",
    "        np_rhologrho = rho.data * np.log(rho.data)\n",
    "        np_rhologrho[np.isnan(np_rhologrho)] = 0\n",
    "        rhologrho = csr_matrix((np_rhologrho, rho.indices, rho.indptr), shape=rho.shape)\n",
    "        del np_rhologrho\n",
    "        axs[i][j].plt(rhologrho.todense())\n",
    "fig.tight_layout()"
   ]
  },
  {
   "cell_type": "code",
   "execution_count": null,
   "metadata": {},
   "outputs": [],
   "source": [
    "sum_ex = 0\n",
    "for i in range(laplacianex.shape[0]):\n",
    "    col_i = laplacianex.getcol(i)\n",
    "    row_i = laplacianex.getrow(i)\n",
    "    divide = np.divide(col_i,row_i)\n",
    "    divide[np.isnan(divide)] = 0\n",
    "    sum_ex += np.sum(divide)"
   ]
  },
  {
   "cell_type": "markdown",
   "metadata": {},
   "source": [
    "# Static Network, Random Walk Lalacian"
   ]
  },
  {
   "cell_type": "code",
   "execution_count": null,
   "metadata": {},
   "outputs": [],
   "source": [
    "# static_net_adj = net.compute_static_adjacency_matrix()\n",
    "# static_net = StaticTempNetwork(times = net.times, adjacency = static_net_adj)\n",
    "# static_net.compute_laplacian_matrices(random_walk = True)\n",
    "# for i in lamdas:\n",
    "#     static_net.compute_inter_transition_matrices(lamda=i, dense_expm=False, use_sparse_stoch=False)\n",
    "#     static_net.compute_transition_matrices(lamda=i)"
   ]
  },
  {
   "cell_type": "code",
   "execution_count": null,
   "metadata": {},
   "outputs": [],
   "source": [
    "#static_net.save('fig3_network_static')"
   ]
  },
  {
   "cell_type": "code",
   "execution_count": null,
   "metadata": {},
   "outputs": [],
   "source": [
    "static_net = StaticTempNetwork.load('fig3_network_static')"
   ]
  },
  {
   "cell_type": "markdown",
   "metadata": {},
   "source": [
    "### Computing & Plotting Entropies"
   ]
  },
  {
   "cell_type": "code",
   "execution_count": null,
   "metadata": {},
   "outputs": [],
   "source": [
    "for i in lamdas:\n",
    "    static_net.compute_entropy(lamda=i, force_csr=True)\n",
    "    static_net.compute_spectral_vonNeumann_entropy(lamda=i, force_csr=True)\n",
    "    # static_net.compute_vonNeumann_entropy(lamda=i, force_csr=True)\n",
    "    #static_net.compute_simple_vonNeumann_entropy(lamda=i, force_csr=True)\n",
    "    #static_net.compute_entropy2(lamda=i, force_csr=True)"
   ]
  },
  {
   "cell_type": "code",
   "execution_count": null,
   "metadata": {},
   "outputs": [],
   "source": [
    "for i in range(len(lamdas)):\n",
    "    plt.subplot(1, 2, 1)\n",
    "    plt.plot(net.times[0:], static_net.S[lamdas[i]], label='lamda = ' + str(round(lamdas[i], 3)) + '  #Communities= ' + str(len(list_forw_flows[i].partition[0].cluster_list)))\n",
    "\n",
    "    plt.subplot(1, 2, 2)\n",
    "    plt.plot(net.times[0:], static_net.S[lamdas[i]], label='lamda = ' + str(round(lamdas[i], 3)) + '  #Communities= ' + str(len(list_forw_flows[i].partition[0].cluster_list)), )\n",
    "    plt.yscale('log')\n",
    "plt.legend(fontsize='xx-small', loc='lower right')\n",
    "plt.title('Entropy rate')\n",
    "#plt.savefig('./fig_entropy_rate', format='eps')\n",
    "\n",
    "plt.show()"
   ]
  },
  {
   "cell_type": "code",
   "execution_count": null,
   "metadata": {},
   "outputs": [],
   "source": [
    "for i in range(len(lamdas)):\n",
    "    plt.subplot(1, 2, 1)\n",
    "    plt.plot(net.times[0:], static_net.spectral_vNS[lamdas[i]], label='lamda = ' + str(round(lamdas[i], 3)) + '  #Communities= ' + str(len(list_forw_flows[i].partition[0].cluster_list)))\n",
    "\n",
    "    plt.subplot(1, 2, 2)\n",
    "    plt.plot(net.times[0:], static_net.spectral_vNS[lamdas[i]], label='lamda = ' + str(round(lamdas[i], 3)) + '  #Communities= ' + str(len(list_forw_flows[i].partition[0].cluster_list)), )\n",
    "    plt.yscale('log')\n",
    "plt.legend(fontsize='xx-small', loc='lower right')\n",
    "plt.title('Spectral vNS')\n",
    "#plt.savefig('./fig_entropy_rate', format='eps')\n",
    "\n",
    "plt.show()"
   ]
  },
  {
   "cell_type": "code",
   "execution_count": null,
   "metadata": {},
   "outputs": [],
   "source": [
    "for i in range(len(lamdas)):\n",
    "    plt.subplot(1, 2, 1)\n",
    "    plt.plot(net.times[0:], static_net.simple_vNS[lamdas[i]], label='lamda = ' + str(round(lamdas[i], 3)) + '  #Communities= ' + str(len(list_forw_flows[i].partition[0].cluster_list)))\n",
    "\n",
    "    plt.subplot(1, 2, 2)\n",
    "    plt.plot(net.times[0:], static_net.simple_vNS[lamdas[i]], label='lamda = ' + str(round(lamdas[i], 3)) + '  #Communities= ' + str(len(list_forw_flows[i].partition[0].cluster_list)), )\n",
    "    plt.yscale('log')\n",
    "plt.legend(fontsize='xx-small', loc='lower right')\n",
    "plt.title('Simplified Von Neumann Entropy')\n",
    "#plt.savefig('./fig_simple_vNEntropy', format='eps')"
   ]
  },
  {
   "cell_type": "code",
   "execution_count": null,
   "metadata": {},
   "outputs": [],
   "source": [
    "for i in range(len(lamdas)):\n",
    "    plt.subplot(1, 2, 1)\n",
    "    plt.plot(net.times[0:], [static_net.T[lamdas[i]][j].trace() for j in range(len(static_net.T[lamdas[i]]))], label='lamda = ' + str(round(lamdas[i], 3)) + '  #Communities= ' + str(len(list_forw_flows[i].partition[0].cluster_list)))\n",
    "\n",
    "    plt.subplot(1, 2, 2)\n",
    "    plt.plot(net.times[0:], [static_net.T[lamdas[i]][j].trace() for j in range(len(static_net.T[lamdas[i]]))], label='lamda = ' + str(round(lamdas[i], 3)) + '  #Communities= ' + str(len(list_forw_flows[i].partition[0].cluster_list)), )\n",
    "    plt.yscale('log')\n",
    "plt.legend(fontsize='xx-small', loc='lower right')\n",
    "plt.title('Trace of T')"
   ]
  },
  {
   "cell_type": "markdown",
   "metadata": {},
   "source": [
    "# Static Network, Combinatorial Laplacian"
   ]
  },
  {
   "cell_type": "code",
   "execution_count": null,
   "metadata": {},
   "outputs": [],
   "source": [
    "# static_net_adj = net.compute_static_adjacency_matrix().todense()\n",
    "# #entries are sum of durations of events, need to set to 1\n",
    "# static_net_adj[static_net_adj != 0] = 1\n",
    "# static_net_adj = csr_matrix(static_net_adj)\n",
    "\n",
    "# static_net_heat = StaticTempNetwork(times = net.times, adjacency = static_net_adj)\n",
    "# static_net_heat.compute_laplacian_matrices(random_walk = False)\n",
    "# for i in lamdas:\n",
    "#     static_net_heat.compute_inter_transition_matrices(lamda=i, dense_expm=False, use_sparse_stoch=False)\n",
    "#     static_net_heat.compute_transition_matrices(lamda=i)"
   ]
  },
  {
   "cell_type": "code",
   "execution_count": null,
   "metadata": {},
   "outputs": [],
   "source": [
    "# static_net_heat.save('fig3_network_static_heat')"
   ]
  },
  {
   "cell_type": "code",
   "execution_count": null,
   "metadata": {},
   "outputs": [],
   "source": [
    "static_net_heat = StaticTempNetwork.load('fig3_network_static_heat')"
   ]
  },
  {
   "cell_type": "code",
   "execution_count": null,
   "metadata": {},
   "outputs": [],
   "source": [
    "for i in lamdas:\n",
    "    static_net_heat.compute_entropy(lamda=i, force_csr=True)"
   ]
  },
  {
   "cell_type": "code",
   "execution_count": null,
   "metadata": {},
   "outputs": [],
   "source": [
    "for i in range(len(lamdas)):\n",
    "    plt.subplot(1, 2, 1)\n",
    "    plt.plot(static_net_heat.S[lamdas[i]], label='lamda = ' + str(round(lamdas[i], 3)) + '  #Communities= ' + str(len(list_forw_flows[i].partition[0].cluster_list)))\n",
    "\n",
    "    plt.subplot(1, 2, 2)\n",
    "    plt.plot(static_net_heat.S[lamdas[i]], label='lamda = ' + str(round(lamdas[i], 3)) + '  #Communities= ' + str(len(list_forw_flows[i].partition[0].cluster_list)), )\n",
    "    plt.yscale('log')\n",
    "plt.legend(fontsize='xx-small', loc='lower right')\n",
    "plt.title('Entropy rate')\n",
    "#plt.savefig('./fig_entropy_rate', format='eps')\n",
    "\n",
    "plt.show()"
   ]
  },
  {
   "cell_type": "code",
   "execution_count": null,
   "metadata": {},
   "outputs": [],
   "source": [
    "for i in lamdas:\n",
    "    static_net_heat.compute_spectral_vonNeumann_entropy(lamda=i, force_csr=True)"
   ]
  },
  {
   "cell_type": "code",
   "execution_count": null,
   "metadata": {},
   "outputs": [],
   "source": [
    "for i in range(len(lamdas)):\n",
    "    plt.subplot(1, 2, 1)\n",
    "    plt.plot(static_net_heat.spectral_vNS[lamdas[i]], label='lamda = ' + str(round(lamdas[i], 3)) + '  #Communities= ' + str(len(list_forw_flows[i].partition[0].cluster_list)))\n",
    "\n",
    "    plt.subplot(1, 2, 2)\n",
    "    plt.plot(static_net_heat.spectral_vNS[lamdas[i]], label='lamda = ' + str(round(lamdas[i], 3)) + '  #Communities= ' + str(len(list_forw_flows[i].partition[0].cluster_list)), )\n",
    "    plt.yscale('log')\n",
    "plt.legend(fontsize='xx-small', loc='lower right')\n",
    "plt.title('Spectral Von Neumann Entropy')\n",
    "#plt.savefig('./fig_simple_vNEntropy', format='eps')"
   ]
  },
  {
   "cell_type": "code",
   "execution_count": null,
   "metadata": {},
   "outputs": [],
   "source": [
    "for i in lamdas:\n",
    "    static_net_heat.compute_vonNeumann_entropy(lamda=i, force_csr=True)"
   ]
  },
  {
   "cell_type": "code",
   "execution_count": null,
   "metadata": {},
   "outputs": [],
   "source": [
    "for i in range(len(lamdas)):\n",
    "    plt.subplot(1, 2, 1)\n",
    "    plt.plot(static_net_heat.vNS[lamdas[i]], label='lamda = ' + str(round(lamdas[i], 3)) + '  #Communities= ' + str(len(list_forw_flows[i].partition[0].cluster_list)))\n",
    "\n",
    "    plt.subplot(1, 2, 2)\n",
    "    plt.plot(static_net_heat.vNS[lamdas[i]], label='lamda = ' + str(round(lamdas[i], 3)) + '  #Communities= ' + str(len(list_forw_flows[i].partition[0].cluster_list)), )\n",
    "    plt.yscale('log')\n",
    "plt.legend(fontsize='xx-small', loc='lower right')\n",
    "plt.title('Von Neumann Entropy')\n",
    "#plt.savefig('./fig_simple_vNEntropy', format='eps')"
   ]
  },
  {
   "cell_type": "code",
   "execution_count": null,
   "metadata": {},
   "outputs": [],
   "source": [
    "for i in lamdas:\n",
    "    static_net_heat.compute_simple_vonNeumann_entropy(lamda=i, force_csr=True)"
   ]
  },
  {
   "cell_type": "code",
   "execution_count": null,
   "metadata": {},
   "outputs": [],
   "source": [
    "for i in range(len(lamdas)):\n",
    "    plt.subplot(1, 2, 1)\n",
    "    plt.plot(static_net_heat.simple_vNS[lamdas[i]], label='lamda = ' + str(round(lamdas[i], 3)) + '  #Communities= ' + str(len(list_forw_flows[i].partition[0].cluster_list)))\n",
    "\n",
    "    plt.subplot(1, 2, 2)\n",
    "    plt.plot(static_net_heat.simple_vNS[lamdas[i]], label='lamda = ' + str(round(lamdas[i], 3)) + '  #Communities= ' + str(len(list_forw_flows[i].partition[0].cluster_list)), )\n",
    "    plt.yscale('log')\n",
    "plt.legend(fontsize='xx-small', loc='lower right')\n",
    "plt.title('Simplified Von Neumann Entropy')\n",
    "#plt.savefig('./fig_simple_vNEntropy', format='eps')"
   ]
  },
  {
   "cell_type": "code",
   "execution_count": null,
   "metadata": {},
   "outputs": [],
   "source": [
    "for i in lamdas:\n",
    "    static_net_heat.compute_new_vonNeumann_entropy(lamda=i, force_csr=True)"
   ]
  },
  {
   "cell_type": "code",
   "execution_count": null,
   "metadata": {},
   "outputs": [],
   "source": [
    "for i in range(len(lamdas)):\n",
    "    entropy_list = static_net_heat.new_vNS\n",
    "    color = plt.cm.viridis(i / len(entropy_list))\n",
    "    \n",
    "    plt.subplot(1, 2, 1)\n",
    "    plt.plot(entropy_list[lamdas[i]], label='lamda = ' + str(round(lamdas[i], 3)) + '  #Communities= ' + str(len(list_forw_flows[i].partition[0].cluster_list)), color=color)\n",
    "\n",
    "    plt.subplot(1, 2, 2)\n",
    "    plt.plot(entropy_list[lamdas[i]], label='lamda = ' + str(round(lamdas[i], 3)) + '  #Communities= ' + str(len(list_forw_flows[i].partition[0].cluster_list)) , color=color)\n",
    "    plt.yscale('log')\n",
    "plt.legend(fontsize='xx-small', loc='lower right')\n",
    "plt.title('New von Neumann Entropy (heat version)')\n",
    "#plt.savefig('./fig_entropy_rate', format='eps')\n",
    "\n",
    "plt.show()"
   ]
  },
  {
   "cell_type": "markdown",
   "metadata": {},
   "source": [
    "## Trace"
   ]
  },
  {
   "cell_type": "code",
   "execution_count": null,
   "metadata": {},
   "outputs": [],
   "source": [
    "for i in range(len(lamdas)):\n",
    "    plt.subplot(1, 2, 1)\n",
    "    plt.plot([static_net_heat.T[lamdas[i]][j].trace() for j in range(len(static_net.T[lamdas[i]]))], label='lamda = ' + str(round(lamdas[i], 3)) + '  #Communities= ' + str(len(list_forw_flows[i].partition[0].cluster_list)))\n",
    "\n",
    "    plt.subplot(1, 2, 2)\n",
    "    plt.plot([static_net_heat.T[lamdas[i]][j].trace() for j in range(len(static_net.T[lamdas[i]]))], label='lamda = ' + str(round(lamdas[i], 3)) + '  #Communities= ' + str(len(list_forw_flows[i].partition[0].cluster_list)), )\n",
    "    plt.yscale('log')\n",
    "plt.legend(fontsize='xx-small', loc='lower right')\n",
    "plt.title('Trace of T')"
   ]
  },
  {
   "cell_type": "markdown",
   "metadata": {},
   "source": [
    "# Derivatives"
   ]
  },
  {
   "cell_type": "code",
   "execution_count": null,
   "metadata": {},
   "outputs": [],
   "source": [
    "v1 = net.S[lamdas[0]]\n",
    "v2 = net.times[:-1]\n",
    "print(len(v1))\n",
    "print(len(net.times[:-1]))"
   ]
  },
  {
   "cell_type": "code",
   "execution_count": null,
   "metadata": {},
   "outputs": [],
   "source": [
    "def derivative(v1, v2):\n",
    "    assert len(v1) == len(v2), \"Error: in order to compute the numerical derivative, the two varibales need to have the same lenght.\"\n",
    "    derivative = []\n",
    "    for i, vi in enumerate(v1[1:]):\n",
    "        m1 =(vi - v1[i-1])/(v2[i]-v2[i-1])\n",
    "        m2 =(v1[i+1] - vi)/(v2[i+1]-v2[i])\n",
    "        derivative.append((m1+m2)/2)\n",
    "    return derivative"
   ]
  },
  {
   "cell_type": "code",
   "execution_count": null,
   "metadata": {},
   "outputs": [],
   "source": [
    "for i in range(len(lamdas)):\n",
    "    v1 = net.S[lamdas[i]]\n",
    "    v2 = net.times[:-1]\n",
    "    ds_dt = derivative(v1, v2)\n",
    "\n",
    "    plt.plot(net.times[1:-1], ds_dt, label='lamda = ' + str(round(lamdas[i], 3)) + '  #Communities= ' + str(len(list_forw_flows[i].partition[0].cluster_list)))\n",
    "\n",
    "plt.legend(fontsize='xx-small', loc='upper left', bbox_to_anchor=(1.05, 1))\n",
    "plt.title('d(Entropy rate) / dt')\n",
    "#plt.savefig('./fig_entropy_rate', format='eps')\n",
    "\n",
    "plt.show()"
   ]
  },
  {
   "cell_type": "code",
   "execution_count": null,
   "metadata": {},
   "outputs": [],
   "source": [
    "between_lamdas=np.linspace(-4,2,20)"
   ]
  },
  {
   "cell_type": "code",
   "execution_count": null,
   "metadata": {},
   "outputs": [],
   "source": [
    "S0= []\n",
    "for i, lamda in enumerate(lamdas):\n",
    "    S0.append(net.S[lamda][0])\n",
    "print(S0)"
   ]
  },
  {
   "cell_type": "code",
   "execution_count": null,
   "metadata": {},
   "outputs": [],
   "source": [
    "sample_times = np.arange(0, len(net.times), 64)\n",
    "print(sample_times)"
   ]
  },
  {
   "cell_type": "markdown",
   "metadata": {},
   "source": [
    "### Derivative Entropy Rate"
   ]
  },
  {
   "cell_type": "code",
   "execution_count": null,
   "metadata": {},
   "outputs": [],
   "source": [
    "for i, t in enumerate(sample_times):\n",
    "\n",
    "    St = []\n",
    "    for j, lamda in enumerate(lamdas):\n",
    "        St.append(net.S[lamda][t])\n",
    "    \n",
    "    v1 = St\n",
    "    v2 = between_lamdas\n",
    "    ds_dt = derivative(v1, v2)\n",
    "\n",
    "    plt.subplot(1, 2, 1)\n",
    "    plt.plot(lamdas[1:], ds_dt, label='t = ' + str(round(t, 3)))\n",
    "\n",
    "    plt.subplot(1, 2, 2)\n",
    "    plt.plot(lamdas[1:], ds_dt, label='t = ' + str(round(t, 3)))\n",
    "    plt.xscale('log')\n",
    "    \n",
    "   \n",
    "\n",
    "plt.legend(fontsize='xx-small', loc='upper left', bbox_to_anchor=(1.05, 1))\n",
    "plt.title('d(Entropy rate) / dlamda')\n",
    "#plt.savefig('./fig_entropy_rate', format='eps')\n",
    "\n",
    "plt.show()"
   ]
  },
  {
   "cell_type": "markdown",
   "metadata": {},
   "source": [
    "### Derivative Simplified Von Neumann"
   ]
  },
  {
   "cell_type": "code",
   "execution_count": null,
   "metadata": {},
   "outputs": [],
   "source": [
    "for i, t in enumerate(sample_times):\n",
    "\n",
    "    St = []\n",
    "    for j, lamda in enumerate(lamdas):\n",
    "        St.append(net.simple_vNS[lamda][t])\n",
    "    \n",
    "    v1 = St\n",
    "    v2 = between_lamdas\n",
    "    ds_dt = derivative(v1, v2)\n",
    "\n",
    "    plt.subplot(1, 2, 1)\n",
    "    plt.plot(lamdas[1:], ds_dt, label='t = ' + str(round(t, 3)))\n",
    "\n",
    "    plt.subplot(1, 2, 2)\n",
    "    plt.plot(lamdas[1:], ds_dt, label='t = ' + str(round(t, 3)))\n",
    "    plt.xscale('log')\n",
    "\n",
    "plt.legend(fontsize='xx-small', loc='upper left', bbox_to_anchor=(1.05, 1))\n",
    "plt.title('d(Simple vNS) / dlamda')\n",
    "#plt.savefig('./fig_entropy_rate', format='eps')\n",
    "\n",
    "plt.show()"
   ]
  },
  {
   "cell_type": "markdown",
   "metadata": {},
   "source": [
    "# Derivatives Static Network"
   ]
  },
  {
   "cell_type": "code",
   "execution_count": null,
   "metadata": {},
   "outputs": [],
   "source": [
    "static_net.times"
   ]
  },
  {
   "cell_type": "code",
   "execution_count": null,
   "metadata": {},
   "outputs": [],
   "source": [
    "len(static_net.S[lamdas[0]])"
   ]
  },
  {
   "cell_type": "code",
   "execution_count": null,
   "metadata": {},
   "outputs": [],
   "source": [
    "for i in range(len(lamdas)):\n",
    "    v1 = static_net.S[lamdas[i]]\n",
    "    v2 = static_net.times[:]\n",
    "    ds_dt = derivative(v1, v2)\n",
    "\n",
    "    plt.plot(static_net.times[1:], ds_dt, label='lamda = ' + str(round(lamdas[i], 3)) + '  #Communities= ' + str(len(list_forw_flows[i].partition[0].cluster_list)))\n",
    "\n",
    "plt.legend(fontsize='xx-small', loc='upper left', bbox_to_anchor=(1.05, 1))\n",
    "plt.title('Static Network: d(Entropy rate) / dt')\n",
    "#plt.savefig('./fig_entropy_rate', format='eps')\n",
    "\n",
    "plt.show()"
   ]
  },
  {
   "cell_type": "code",
   "execution_count": null,
   "metadata": {},
   "outputs": [],
   "source": [
    "between_lamdas=np.linspace(-4,2,20)"
   ]
  },
  {
   "cell_type": "code",
   "execution_count": null,
   "metadata": {},
   "outputs": [],
   "source": [
    "sample_times = np.arange(0, len(static_net_heat.times), 64)\n",
    "print(sample_times)"
   ]
  },
  {
   "cell_type": "markdown",
   "metadata": {},
   "source": [
    "### Derivative Entropy Rate"
   ]
  },
  {
   "cell_type": "code",
   "execution_count": null,
   "metadata": {},
   "outputs": [],
   "source": [
    "for i, t in enumerate(sample_times):\n",
    "\n",
    "    St = []\n",
    "    for j, lamda in enumerate(lamdas):\n",
    "        St.append(static_net.S[lamda][t])\n",
    "    \n",
    "    v1 = St\n",
    "    v2 = between_lamdas\n",
    "    ds_dt = derivative(v1, v2)\n",
    "\n",
    "    plt.subplot(1, 2, 1)\n",
    "    plt.plot(lamdas[1:], ds_dt, label='t = ' + str(round(t, 3)))\n",
    "\n",
    "    plt.subplot(1, 2, 2)\n",
    "    plt.plot(lamdas[1:], ds_dt, label='t = ' + str(round(t, 3)))\n",
    "    plt.xscale('log')\n",
    "    \n",
    "   \n",
    "\n",
    "plt.legend(fontsize='xx-small', loc='upper left', bbox_to_anchor=(1.05, 1))\n",
    "plt.title('d(Entropy rate) / dlamda')\n",
    "#plt.savefig('./fig_entropy_rate', format='eps')\n",
    "\n",
    "plt.show()"
   ]
  },
  {
   "cell_type": "markdown",
   "metadata": {},
   "source": [
    "### Derivative Spectral Von Neumann"
   ]
  },
  {
   "cell_type": "code",
   "execution_count": null,
   "metadata": {},
   "outputs": [],
   "source": [
    "for i, t in enumerate(sample_times):\n",
    "\n",
    "    St = []\n",
    "    for j, lamda in enumerate(lamdas):\n",
    "        St.append(static_net_heat.spectral_vNS[lamda][t])\n",
    "    \n",
    "    v1 = St\n",
    "    v2 = between_lamdas\n",
    "    ds_dt = derivative(v1, v2)\n",
    "\n",
    "    plt.subplot(1, 2, 1)\n",
    "    plt.plot(lamdas[1:], ds_dt, label='t = ' + str(round(t, 3)))\n",
    "\n",
    "    plt.subplot(1, 2, 2)\n",
    "    plt.plot(lamdas[1:], ds_dt, label='t = ' + str(round(t, 3)))\n",
    "    plt.xscale('log')\n",
    "\n",
    "plt.legend(fontsize='xx-small', loc='upper left', bbox_to_anchor=(1.05, 1))\n",
    "plt.title('Static Network: d(Spectral vNS) / dlamda')\n",
    "#plt.savefig('./fig_entropy_rate', format='eps')\n",
    "\n",
    "plt.show()"
   ]
  },
  {
   "cell_type": "code",
   "execution_count": null,
   "metadata": {},
   "outputs": [],
   "source": [
    "plt.matshow(static_net.adjacency.todense())\n",
    "plt.colorbar()"
   ]
  },
  {
   "cell_type": "markdown",
   "metadata": {},
   "source": [
    "# Static weighted network"
   ]
  },
  {
   "cell_type": "code",
   "execution_count": null,
   "metadata": {},
   "outputs": [],
   "source": [
    "static_net_weighted_adj = net.compute_static_adjacency_matrix().todense()\n",
    "static_net_weighted_adj = csr_matrix(static_net_weighted_adj)\n",
    "\n",
    "static_net_weighted_heat = StaticTempNetwork(times = net.times, adjacency = static_net_weighted_adj)\n",
    "static_net_weighted_heat.compute_laplacian_matrices(random_walk = False)\n",
    "for i in lamdas:\n",
    "    static_net_weighted_heat.compute_inter_transition_matrices(lamda=i, dense_expm=False, use_sparse_stoch=False)\n",
    "    static_net_weighted_heat.compute_transition_matrices(lamda=i)"
   ]
  },
  {
   "cell_type": "code",
   "execution_count": null,
   "metadata": {},
   "outputs": [],
   "source": [
    "static_net_weighted_heat.save('fig3_network_static_weighted_heat')"
   ]
  }
 ],
 "metadata": {
  "kernelspec": {
   "display_name": "flow_stability_env",
   "language": "python",
   "name": "python3"
  },
  "language_info": {
   "codemirror_mode": {
    "name": "ipython",
    "version": 3
   },
   "file_extension": ".py",
   "mimetype": "text/x-python",
   "name": "python",
   "nbconvert_exporter": "python",
   "pygments_lexer": "ipython3",
   "version": "3.11.4"
  },
  "orig_nbformat": 4
 },
 "nbformat": 4,
 "nbformat_minor": 2
}
