{
 "cells": [
  {
   "cell_type": "code",
   "execution_count": 1,
   "metadata": {},
   "outputs": [
    {
     "name": "stdout",
     "output_type": "stream",
     "text": [
      "Could not load sparse_dot_mkl. Will use scipy.sparse for matrix products.\n"
     ]
    }
   ],
   "source": [
    "import numpy as np\n",
    "from SynthTempNetwork import Individual, SynthTempNetwork\n",
    "from TemporalNetwork import ContTempNetwork, StaticTempNetwork\n",
    "\n",
    "import pickle\n",
    "\n",
    "import matplotlib.pyplot as plt\n",
    "import matplotlib\n",
    "from matplotlib.gridspec import GridSpec\n",
    "import matplotx\n",
    "\n",
    "from scipy.sparse import (lil_matrix, dok_matrix, diags, eye, isspmatrix_csr, isspmatrix,\n",
    "                          csr_matrix, coo_matrix, csc_matrix)\n",
    "from scipy.sparse.linalg import eigsh\n",
    "from scipy.linalg import logm as d_logm\n",
    "\n",
    "from SparseStochMat import sparse_autocov_mat\n",
    "\n",
    "\n",
    "\n",
    "import compute_vNS"
   ]
  },
  {
   "cell_type": "code",
   "execution_count": 2,
   "metadata": {},
   "outputs": [],
   "source": [
    "net_heat = ContTempNetwork.load('fig3_growing_network300')\n",
    "folder = '//scratch/tmp/180/skoove/growing_experiment300_temporal_heat/'\n",
    "\n",
    "lambdas = np.logspace(-3,1,200)\n",
    "lamda = lambdas[-1]\n",
    "\n",
    "with open(folder + f'TvNS/T{lamda:.11f}', 'rb') as f:\n",
    "    dict_T = pickle.load(f)\n",
    "\n"
   ]
  },
  {
   "cell_type": "code",
   "execution_count": 3,
   "metadata": {},
   "outputs": [
    {
     "name": "stdout",
     "output_type": "stream",
     "text": [
      "logm result may be inaccurate, approximate err = 5.054055507778083e-12\n",
      "{'10.00000000000': [(9.804567083899175e-06+7.116109165634816e-07j)]}\n",
      "{'10.00000000000': [0.3129553588059722]}\n"
     ]
    },
    {
     "name": "stderr",
     "output_type": "stream",
     "text": [
      "/home/b/skoove/Desktop/entropy/entropy_env/lib/python3.10/site-packages/scipy/linalg/_matfuncs_inv_ssq.py:836: LogmNearlySingularWarning: The logm input matrix may be nearly singular.\n",
      "  warnings.warn(near_singularity_msg, LogmNearlySingularWarning)\n"
     ]
    }
   ],
   "source": [
    "vNS = compute_vNS.compute_vonNeumann_entropy(net=net_heat, list_T=dict_T['T'], lamda=lamda,\n",
    "                                    force_csr=True,\n",
    "                                    time_domain= [len(net_heat.times)-2]) #list(np.arange(0, len(net_heat.times), 10)))\n",
    "\n",
    "spectral_vNS = compute_vNS.compute_spectral_vonNeumann_entropy(net=net_heat, list_T=dict_T['T'], lamda=lamda,\n",
    "                                    force_csr=True,\n",
    "                                    time_domain= [len(net_heat.times)-2]) #list(np.arange(0, len(net_heat.times), 10)))\n",
    "\n",
    "print(vNS)\n",
    "print(spectral_vNS)"
   ]
  },
  {
   "cell_type": "code",
   "execution_count": 4,
   "metadata": {},
   "outputs": [
    {
     "name": "stdout",
     "output_type": "stream",
     "text": [
      "[[0.00535645 0.0100241  0.01520354 ... 0.0102626  0.01473816 0.01472443]\n",
      " [0.00535645 0.0100241  0.01520354 ... 0.0102626  0.01473816 0.01472443]\n",
      " [0.00535645 0.0100241  0.01520354 ... 0.0102626  0.01473816 0.01472443]\n",
      " ...\n",
      " [0.00535651 0.01002419 0.01520367 ... 0.01026243 0.01473792 0.01472419]\n",
      " [0.00535651 0.01002419 0.01520367 ... 0.01026243 0.01473792 0.01472419]\n",
      " [0.00535651 0.01002419 0.01520367 ... 0.01026243 0.01473792 0.01472419]]\n",
      "1.0000033372323194\n"
     ]
    }
   ],
   "source": [
    "T = dict_T['T'][-2].toarray()\n",
    "print(T)\n",
    "print(np.trace(T))"
   ]
  },
  {
   "cell_type": "code",
   "execution_count": 15,
   "metadata": {},
   "outputs": [
    {
     "name": "stdout",
     "output_type": "stream",
     "text": [
      "(1.0000043326345878+0j)\n",
      "[9.99996663e-01 4.33262013e-06 1.00000000e+00 1.01911012e-16\n",
      " 1.65755430e-16 1.00000000e+00 1.00000000e+00 1.00000000e+00\n",
      " 1.00000000e+00 5.74603099e-17 5.95648867e-17 2.70849780e-17\n",
      " 2.70849780e-17 1.00000000e+00 1.00000000e+00 1.46684265e-17\n",
      " 1.46684265e-17 1.00000000e+00 1.00000000e+00 1.00000000e+00\n",
      " 1.00000000e+00 1.00000000e+00 2.28890227e-17 2.28890227e-17\n",
      " 1.00000000e+00 1.00000000e+00 7.07919611e-18 7.07919611e-18\n",
      " 1.00000000e+00 1.00000000e+00 1.00000000e+00 1.08240311e-17\n",
      " 1.08240311e-17 1.00000000e+00 1.00000000e+00 1.03777445e-17\n",
      " 2.50369005e-18 2.50369005e-18 1.00000000e+00 3.23811402e-22\n",
      " 2.95409005e-24 1.00000000e+00 1.00000000e+00 3.15551932e-32\n",
      " 3.15551932e-32 2.65026955e-32 2.05590146e-32 1.00000000e+00\n",
      " 1.00000000e+00 1.42948326e-32 1.00000000e+00 1.00000000e+00\n",
      " 1.00000000e+00 8.25869621e-34 8.25869621e-34 2.46579332e-33\n",
      " 2.46579332e-33 1.00000000e+00 1.00000000e+00 1.00000000e+00\n",
      " 1.00000000e+00 1.00000000e+00 4.26440597e-48 4.26440597e-48\n",
      " 9.71371411e-48 1.00000000e+00 1.12690735e-48 1.00000000e+00\n",
      " 1.00000000e+00 6.07560200e-52 2.76633502e-62 1.00000000e+00\n",
      " 1.00000000e+00 1.09315952e-63 4.15309713e-64 1.00000000e+00\n",
      " 4.64677756e-78 1.00000000e+00 1.00000000e+00 1.00000000e+00\n",
      " 5.00893189e-94]\n",
      "[9.99995667e-01 4.33261582e-06 0.00000000e+00 1.01910910e-16\n",
      " 1.65755265e-16 0.00000000e+00 0.00000000e+00 0.00000000e+00\n",
      " 0.00000000e+00 5.74602527e-17 5.95648274e-17 2.70849511e-17\n",
      " 2.70849511e-17 0.00000000e+00 0.00000000e+00 1.46684119e-17\n",
      " 1.46684119e-17 0.00000000e+00 0.00000000e+00 0.00000000e+00\n",
      " 0.00000000e+00 0.00000000e+00 2.28889999e-17 2.28889999e-17\n",
      " 0.00000000e+00 0.00000000e+00 7.07918906e-18 7.07918906e-18\n",
      " 0.00000000e+00 0.00000000e+00 0.00000000e+00 1.08240203e-17\n",
      " 1.08240203e-17 0.00000000e+00 0.00000000e+00 1.03777342e-17\n",
      " 2.50368756e-18 2.50368756e-18 0.00000000e+00 3.23811079e-22\n",
      " 2.95408711e-24 0.00000000e+00 0.00000000e+00 3.15551618e-32\n",
      " 3.15551618e-32 2.65026691e-32 2.05589941e-32 0.00000000e+00\n",
      " 0.00000000e+00 1.42948184e-32 0.00000000e+00 0.00000000e+00\n",
      " 0.00000000e+00 8.25868799e-34 8.25868799e-34 2.46579086e-33\n",
      " 2.46579086e-33 0.00000000e+00 0.00000000e+00 0.00000000e+00\n",
      " 0.00000000e+00 0.00000000e+00 4.26440173e-48 4.26440173e-48\n",
      " 9.71370445e-48 0.00000000e+00 1.12690623e-48 0.00000000e+00\n",
      " 0.00000000e+00 6.07559596e-52 2.76633227e-62 0.00000000e+00\n",
      " 0.00000000e+00 1.09315843e-63 4.15309300e-64 0.00000000e+00\n",
      " 4.64677294e-78 0.00000000e+00 0.00000000e+00 0.00000000e+00\n",
      " 5.00892690e-94]\n"
     ]
    }
   ],
   "source": [
    "eigs = np.linalg.eigvals(T)\n",
    "eigs1 = eigs / np.trace(T)\n",
    "eigs1 = np.where(eigs1 > 0, eigs1, 1)\n",
    "eigs2 = np.where(eigs > 0, eigs, 0)\n",
    "print(eigs2.sum())\n",
    "eigs2 = eigs2 / eigs2.sum()\n",
    "#eigs2 = np.where(eigs2 > 0, eigs2, 1)\n",
    "\n",
    "print(eigs1.real)\n",
    "print(eigs2.real)"
   ]
  },
  {
   "cell_type": "code",
   "execution_count": 12,
   "metadata": {},
   "outputs": [
    {
     "name": "stdout",
     "output_type": "stream",
     "text": [
      "(1.2935001502830492e-05-0j)\n",
      "(1.316150130643543e-05-8.97565175355651e-32j)\n"
     ]
    }
   ],
   "source": [
    "normalizazion_constant = net_heat.num_nodes\n",
    "print(- 1/np.log(normalizazion_constant) * np.sum(eigs1*np.log(eigs1)))\n",
    "print(- 1/np.log(normalizazion_constant) * np.sum(eigs2*np.log(eigs2)))"
   ]
  },
  {
   "cell_type": "code",
   "execution_count": 7,
   "metadata": {},
   "outputs": [
    {
     "name": "stdout",
     "output_type": "stream",
     "text": [
      "logm result may be inaccurate, approximate err = 4.0416181612528186e-13\n",
      "(9.804567109970129e-06+7.116109227647563e-07j)\n"
     ]
    }
   ],
   "source": [
    "rho = T/np.trace(T)\n",
    "rhologrho = rho @ d_logm(rho)\n",
    "print(- 1/np.log(net_heat.num_nodes) * np.trace(rhologrho))"
   ]
  },
  {
   "cell_type": "code",
   "execution_count": 10,
   "metadata": {},
   "outputs": [
    {
     "data": {
      "text/plain": [
       "<matplotlib.colorbar.Colorbar at 0x7f229ceab220>"
      ]
     },
     "execution_count": 10,
     "metadata": {},
     "output_type": "execute_result"
    },
    {
     "data": {
      "image/png": "[encoded data removed]",
      "text/plain": [
       "<Figure size 480x480 with 2 Axes>"
      ]
     },
     "metadata": {},
     "output_type": "display_data"
    }
   ],
   "source": [
    "plt.matshow(T)\n",
    "plt.colorbar()"
   ]
  },
  {
   "cell_type": "code",
   "execution_count": 16,
   "metadata": {},
   "outputs": [],
   "source": [
    "net_heat = ContTempNetwork.load('fig3_growing_network300')"
   ]
  },
  {
   "cell_type": "code",
   "execution_count": 23,
   "metadata": {},
   "outputs": [
    {
     "data": {
      "text/plain": [
       "18595"
      ]
     },
     "execution_count": 23,
     "metadata": {},
     "output_type": "execute_result"
    }
   ],
   "source": [
    "len(net_heat.laplacians)"
   ]
  },
  {
   "cell_type": "code",
   "execution_count": null,
   "metadata": {},
   "outputs": [],
   "source": []
  }
 ],
 "metadata": {
  "kernelspec": {
   "display_name": "entropy_env",
   "language": "python",
   "name": "python3"
  },
  "language_info": {
   "codemirror_mode": {
    "name": "ipython",
    "version": 3
   },
   "file_extension": ".py",
   "mimetype": "text/x-python",
   "name": "python",
   "nbconvert_exporter": "python",
   "pygments_lexer": "ipython3",
   "version": "3.10.12"
  }
 },
 "nbformat": 4,
 "nbformat_minor": 2
}
