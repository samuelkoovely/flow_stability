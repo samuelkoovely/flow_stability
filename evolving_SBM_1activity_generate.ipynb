{
 "cells": [
  {
   "cell_type": "code",
   "execution_count": 1,
   "id": "8314acb5",
   "metadata": {},
   "outputs": [
    {
     "name": "stdout",
     "output_type": "stream",
     "text": [
      "Could not load sparse_dot_mkl. Will use scipy.sparse for matrix products.\n"
     ]
    }
   ],
   "source": [
    "import evolving_SBM_generate"
   ]
  },
  {
   "cell_type": "code",
   "execution_count": 2,
   "id": "06fca358",
   "metadata": {},
   "outputs": [],
   "source": [
    "n_per_group = 10\n",
    "n_groups = 4\n",
    "t_start = 0\n",
    "t_end = 200\n",
    "basis_num_communities = 2\n",
    "powers_num_communities = [2, 1]\n",
    "list_p_within_community = [45/50] * len(powers_num_communities)\n",
    "\n",
    "inter_tau = 5\n",
    "activ_tau = 0.1"
   ]
  },
  {
   "cell_type": "code",
   "execution_count": 3,
   "id": "5394412c",
   "metadata": {},
   "outputs": [
    {
     "name": "stdout",
     "output_type": "stream",
     "text": [
      "PID  2331135  :  merged  295  events\n",
      "PID  2331135  :  merged  0  events\n"
     ]
    }
   ],
   "source": [
    "net = evolving_SBM_generate.generate_evolving_SBM(inter_tau = inter_tau, activ_tau = activ_tau,\n",
    "                          n_per_group = n_per_group, n_groups = n_groups,\n",
    "                          t_start = t_start, t_end = t_end,\n",
    "                          basis_num_communities = basis_num_communities, powers_num_communities = powers_num_communities, list_p_within_community = list_p_within_community)"
   ]
  },
  {
   "cell_type": "code",
   "execution_count": 4,
   "id": "b9cd6697",
   "metadata": {},
   "outputs": [],
   "source": [
    "net._compute_time_grid()\n",
    "net.save('evolving_SBM_net_1activity')"
   ]
  }
 ],
 "metadata": {
  "kernelspec": {
   "display_name": "S_env",
   "language": "python",
   "name": "python3"
  },
  "language_info": {
   "codemirror_mode": {
    "name": "ipython",
    "version": 3
   },
   "file_extension": ".py",
   "mimetype": "text/x-python",
   "name": "python",
   "nbconvert_exporter": "python",
   "pygments_lexer": "ipython3",
   "version": "3.10.12"
  }
 },
 "nbformat": 4,
 "nbformat_minor": 5
}
