{
 "cells": [
  {
   "cell_type": "code",
   "execution_count": 8,
   "metadata": {},
   "outputs": [],
   "source": [
    "import numpy as np\n",
    "import time"
   ]
  },
  {
   "cell_type": "code",
   "execution_count": 2,
   "metadata": {},
   "outputs": [],
   "source": [
    "def Discrete_RW_T(A):    # Calculate the degree vector (sum of non-zero elements in each row)\n",
    "    degree_vector = np.array(A.sum(axis=1)).ravel()\n",
    "\n",
    "    # Avoid division by zero by setting degree to 1 for nodes with no edges\n",
    "    no_out_edges = degree_vector == 0\n",
    "    degree_vector[no_out_edges] = 1.0\n",
    "\n",
    "    # Create a diagonal matrix from the inverted degree vector\n",
    "    degree_matrix = np.diag(1.0 / degree_vector)\n",
    "\n",
    "    # Calculate the random walk Transition matrix: T = D^(-1) * A\n",
    "    T = degree_matrix @ A\n",
    "    np.fill_diagonal(T, no_out_edges, wrap=False)\n",
    "    return T"
   ]
  },
  {
   "cell_type": "code",
   "execution_count": 3,
   "metadata": {},
   "outputs": [],
   "source": [
    "def branching_tree_adjacency_matrix(c, d):\n",
    "    # Total number of nodes in the tree\n",
    "    total_nodes = sum(c ** i for i in range(d + 1))\n",
    "    \n",
    "    # Initialize an empty adjacency matrix\n",
    "    adjacency_matrix = np.zeros((total_nodes, total_nodes), dtype=int)\n",
    "    \n",
    "    # Keep track of the current node index at each level\n",
    "    current_index = 0\n",
    "    \n",
    "    # Loop through each level in the tree\n",
    "    for level in range(d):\n",
    "        # Number of nodes at the current level\n",
    "        nodes_at_level = c ** level\n",
    "        # Number of nodes at the next level\n",
    "        nodes_at_next_level = c ** (level + 1)\n",
    "        \n",
    "        # For each node at the current level, connect it to `c` children at the next level\n",
    "        for node in range(nodes_at_level):\n",
    "            # Calculate the index of the first child at the next level\n",
    "            parent_index = current_index + node\n",
    "            first_child_index = current_index + nodes_at_level + node * c\n",
    "            # Connect to each child (if within bounds)\n",
    "            for child_offset in range(c):\n",
    "                child_index = first_child_index + child_offset\n",
    "                if child_index < current_index + nodes_at_level + nodes_at_next_level:\n",
    "                    adjacency_matrix[parent_index, child_index] = 1\n",
    "                    adjacency_matrix[child_index, parent_index] = 1\n",
    "\n",
    "        # Move the current index to the start of the next level\n",
    "        current_index += nodes_at_level\n",
    "    \n",
    "    return adjacency_matrix"
   ]
  },
  {
   "cell_type": "code",
   "execution_count": 4,
   "metadata": {},
   "outputs": [],
   "source": [
    "def representative_indices(c, d):\n",
    "    indices = []\n",
    "    current_index = 0  # Start at the root node (index 0)\n",
    "    \n",
    "    for level in range(d + 1):\n",
    "        indices.append(current_index)  # Add the first node of this level\n",
    "        current_index += c ** level  # Move to the start of the next level\n",
    "        \n",
    "    return indices"
   ]
  },
  {
   "cell_type": "code",
   "execution_count": 5,
   "metadata": {},
   "outputs": [],
   "source": [
    "def compute_probabilities(c, d, max_tau):\n",
    "    # Initialize a 2D array to store probabilities for each level and time step\n",
    "    probabilities = np.zeros((max_tau + 1, d + 1))\n",
    "    \n",
    "    # Set the initial condition: W(0, 0) = 1\n",
    "    probabilities[0][0] = 1\n",
    "\n",
    "    # Fill the probabilities table for each time step tau\n",
    "    for tau in range(1, max_tau + 1):\n",
    "        for l in range(d + 1):\n",
    "            # Contribution from level l + 1\n",
    "            if l + 1 <= d - 1:\n",
    "                # Apply 1/(c+1) factor for levels other than d-1\n",
    "                probabilities[tau][l] += probabilities[tau - 1][l + 1] * c / (c + 1)\n",
    "            elif l + 1 == d:\n",
    "                # At level d-1, keep the contribution as walks[tau - 1][l + 1] * c\n",
    "                probabilities[tau][l] += probabilities[tau - 1][l + 1] * c\n",
    "            \n",
    "            # Contribution from level l - 1\n",
    "            if l - 1 > 0:\n",
    "                # Apply 1/(c+1) factor for levels other than 1\n",
    "                probabilities[tau][l] += probabilities[tau - 1][l - 1] / (c + 1)\n",
    "            elif l - 1 == 0:\n",
    "                # At level 1, use 1/c factor for the root contribution\n",
    "                probabilities[tau][l] += probabilities[tau - 1][l - 1] / c\n",
    "\n",
    "    return probabilities"
   ]
  },
  {
   "cell_type": "markdown",
   "metadata": {},
   "source": [
    "## Test Exactness"
   ]
  },
  {
   "cell_type": "code",
   "execution_count": 6,
   "metadata": {},
   "outputs": [],
   "source": [
    "\n",
    "def test_transition_probabilities(c, d, max_tau):\n",
    "    # Step 1: Create the adjacency matrix using branching tree parameters\n",
    "    A = branching_tree_adjacency_matrix(c, d)\n",
    "\n",
    "    # Step 2: Compute the random walk transition matrix T from A\n",
    "    T = Discrete_RW_T(A)\n",
    "\n",
    "    # Step 3: Initialize a list to store probabilities for each power (first method)\n",
    "    first_method_probs = []\n",
    "\n",
    "    # Step 4: Compute powers of T up to max_tau and get the first row\n",
    "    level_indeces = representative_indices(c,d)\n",
    "    for n in range(0, max_tau + 1):\n",
    "        T_n = np.linalg.matrix_power(T, n)\n",
    "        first_method_probs.append(T_n[0,level_indeces])\n",
    "\n",
    "    # Step 5: Compute probabilities using the second method\n",
    "    second_method_probs = compute_probabilities(c, d, max_tau)\n",
    "\n",
    "    # Step 6: Compare both methods for each power and assert they are close\n",
    "    for n in range(max_tau):\n",
    "        if not np.allclose(first_method_probs[n], second_method_probs[n]):\n",
    "            print(f\"Discrepancy found at step {n + 1}\")\n",
    "            print(\"First method:\", first_method_probs[n])\n",
    "            print(\"Second method:\", second_method_probs[n])\n",
    "            return False\n",
    "\n",
    "    print(\"All transition probabilities match for both methods!\")\n",
    "    return True\n",
    "\n"
   ]
  },
  {
   "cell_type": "code",
   "execution_count": 7,
   "metadata": {},
   "outputs": [
    {
     "name": "stdout",
     "output_type": "stream",
     "text": [
      "All transition probabilities match for both methods!\n"
     ]
    },
    {
     "data": {
      "text/plain": [
       "True"
      ]
     },
     "execution_count": 7,
     "metadata": {},
     "output_type": "execute_result"
    }
   ],
   "source": [
    "# Example usage:\n",
    "c = 4  # e.g., number of children per node in the tree\n",
    "d = 5  # depth of the tree\n",
    "max_tau = 15  # maximum power to consider\n",
    "test_transition_probabilities(c, d, max_tau)"
   ]
  },
  {
   "cell_type": "markdown",
   "metadata": {},
   "source": [
    "## Test Speed"
   ]
  },
  {
   "cell_type": "code",
   "execution_count": 11,
   "metadata": {},
   "outputs": [],
   "source": [
    "def speed_test_transition_probabilities(c, d, max_tau):\n",
    "    # Step 1: Create the adjacency matrix using branching tree parameters\n",
    "    A = branching_tree_adjacency_matrix(c, d)\n",
    "    \n",
    "    # Step 2: Compute the random walk transition matrix T from A\n",
    "    T = Discrete_RW_T(A)\n",
    "\n",
    "    # Timing the first method (matrix power method)\n",
    "    start_time_first = time.time()\n",
    "    first_method_probs = []\n",
    "    level_indeces = representative_indices(c,d)\n",
    "    for n in range(0, max_tau + 1):\n",
    "        T_n = np.linalg.matrix_power(T, n)\n",
    "        first_method_probs.append(T_n[0, level_indeces])\n",
    "    end_time_first = time.time()\n",
    "    time_first_method = end_time_first - start_time_first\n",
    "\n",
    "    # Timing the second method (compute_probabilities)\n",
    "    start_time_second = time.time()\n",
    "    second_method_probs = compute_probabilities(c, d, max_tau)\n",
    "    end_time_second = time.time()\n",
    "    time_second_method = end_time_second - start_time_second\n",
    "\n",
    "    # Print out the timing results\n",
    "    print(f\"Time taken by first method (matrix powers): {time_first_method:.6f} seconds\")\n",
    "    print(f\"Time taken by second method (compute_probabilities): {time_second_method:.6f} seconds\")\n",
    "\n",
    "    # Comparing results for correctness as well (optional, can remove if only timing is needed)\n",
    "    for n in range(max_tau):\n",
    "        if not np.allclose(first_method_probs[n], second_method_probs[n]):\n",
    "            print(f\"Discrepancy found at step {n + 1}\")\n",
    "            print(\"First method:\", first_method_probs[n])\n",
    "            print(\"Second method:\", second_method_probs[n])\n",
    "            return False\n",
    "\n",
    "    # Print comparison summary\n",
    "    if time_first_method < time_second_method:\n",
    "        print(\"Matrix power method is faster.\")\n",
    "    elif time_second_method < time_first_method:\n",
    "        print(\"Compute probabilities method is faster.\")\n",
    "    else:\n",
    "        print(\"Both methods take the same time.\")\n",
    "\n",
    "    return time_first_method, time_second_method\n"
   ]
  },
  {
   "cell_type": "code",
   "execution_count": 16,
   "metadata": {},
   "outputs": [
    {
     "name": "stdout",
     "output_type": "stream",
     "text": [
      "Time taken by first method (matrix powers): 0.032501 seconds\n",
      "Time taken by second method (compute_probabilities): 0.000325 seconds\n",
      "Compute probabilities method is faster.\n"
     ]
    },
    {
     "data": {
      "text/plain": [
       "(0.0325009822845459, 0.0003254413604736328)"
      ]
     },
     "execution_count": 16,
     "metadata": {},
     "output_type": "execute_result"
    }
   ],
   "source": [
    "# Example usage:\n",
    "c = 3  # number of children per node in the tree\n",
    "d = 5  # depth of the tree\n",
    "max_tau = 15  # maximum power to consider\n",
    "speed_test_transition_probabilities(c, d, max_tau)"
   ]
  }
 ],
 "metadata": {
  "kernelspec": {
   "display_name": "entropy_env",
   "language": "python",
   "name": "python3"
  },
  "language_info": {
   "codemirror_mode": {
    "name": "ipython",
    "version": 3
   },
   "file_extension": ".py",
   "mimetype": "text/x-python",
   "name": "python",
   "nbconvert_exporter": "python",
   "pygments_lexer": "ipython3",
   "version": "3.10.12"
  }
 },
 "nbformat": 4,
 "nbformat_minor": 2
}
