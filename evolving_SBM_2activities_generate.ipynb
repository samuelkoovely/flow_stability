{
 "cells": [
  {
   "cell_type": "code",
   "execution_count": 21,
   "id": "6413471f",
   "metadata": {},
   "outputs": [],
   "source": [
    "import evolving_SBM_generate\n",
    "import matplotlib.pyplot as plt\n",
    "from TemporalNetwork import ContTempNetwork"
   ]
  },
  {
   "cell_type": "code",
   "execution_count": null,
   "id": "98766d74",
   "metadata": {},
   "outputs": [
    {
     "name": "stdout",
     "output_type": "stream",
     "text": [
      "PID  6280  :  merged  324  events\n",
      "PID  6280  :  merged  0  events\n"
     ]
    }
   ],
   "source": [
    "n_per_group = 10\n",
    "n_groups = 2\n",
    "t_start = 0\n",
    "t_end = 100\n",
    "basis_num_communities = 2\n",
    "powers_num_communities = [1]\n",
    "list_p_within_community = [45/50] * len(powers_num_communities)\n",
    "\n",
    "inter_tau = 5\n",
    "activ_tau = 0.1\n",
    "\n",
    "net_1 = evolving_SBM_generate.generate_evolving_SBM(inter_tau = inter_tau, activ_tau = activ_tau,\n",
    "                          n_per_group = n_per_group, n_groups = n_groups,\n",
    "                          t_start = t_start, t_end = t_end,\n",
    "                          basis_num_communities = basis_num_communities, powers_num_communities = powers_num_communities, list_p_within_community = list_p_within_community)"
   ]
  },
  {
   "cell_type": "code",
   "execution_count": 10,
   "id": "84aaead4",
   "metadata": {},
   "outputs": [],
   "source": [
    "source_nodes1 = net_1.events_table['source_nodes']\n",
    "target_nodes1 = net_1.events_table['target_nodes']\n",
    "starting_times1 = net_1.events_table['starting_times']\n",
    "ending_times1 = net_1.events_table['ending_times']"
   ]
  },
  {
   "cell_type": "code",
   "execution_count": 9,
   "id": "87534e6e",
   "metadata": {},
   "outputs": [
    {
     "name": "stdout",
     "output_type": "stream",
     "text": [
      "PID  6280  :  merged  1257  events\n",
      "PID  6280  :  merged  8  events\n",
      "PID  6280  :  merged  0  events\n"
     ]
    }
   ],
   "source": [
    "n_per_group = 10\n",
    "n_groups = 2\n",
    "t_start = 0\n",
    "t_end = 100\n",
    "basis_num_communities = 2\n",
    "powers_num_communities = [1]\n",
    "list_p_within_community = [45/50] * len(powers_num_communities)\n",
    "\n",
    "inter_tau = 7.5\n",
    "activ_tau = 0.05\n",
    "\n",
    "net_2 = evolving_SBM_generate.generate_evolving_SBM(inter_tau = inter_tau, activ_tau = activ_tau,\n",
    "                          n_per_group = n_per_group, n_groups = n_groups,\n",
    "                          t_start = t_start, t_end = t_end,\n",
    "                          basis_num_communities = basis_num_communities, powers_num_communities = powers_num_communities, list_p_within_community = list_p_within_community)"
   ]
  },
  {
   "cell_type": "code",
   "execution_count": 11,
   "id": "1f6e362f",
   "metadata": {},
   "outputs": [],
   "source": [
    "source_nodes2 = net_2.events_table['source_nodes']\n",
    "target_nodes2 = net_2.events_table['target_nodes']\n",
    "starting_times2 = net_2.events_table['starting_times'] + 100\n",
    "ending_times2 = net_2.events_table['ending_times'] + 100"
   ]
  },
  {
   "cell_type": "code",
   "execution_count": 20,
   "id": "77ca9445",
   "metadata": {},
   "outputs": [],
   "source": [
    "source_nodes = list(source_nodes1) + list(source_nodes2)\n",
    "target_nodes = list(target_nodes1) + list(target_nodes2)\n",
    "starting_times = list(starting_times1) + list(starting_times2)\n",
    "ending_times = list(ending_times1) + list(ending_times2)"
   ]
  },
  {
   "cell_type": "code",
   "execution_count": 22,
   "id": "695a7abd",
   "metadata": {},
   "outputs": [],
   "source": [
    "net_2actvities = ContTempNetwork(source_nodes=source_nodes, target_nodes=target_nodes, starting_times=starting_times, ending_times=ending_times)"
   ]
  },
  {
   "cell_type": "code",
   "execution_count": null,
   "id": "b04d5545",
   "metadata": {},
   "outputs": [],
   "source": [
    "#net_2actvities._compute_time_grid()\n",
    "#net_2actvities.save('evolving_SBM_net_2activities')"
   ]
  }
 ],
 "metadata": {
  "kernelspec": {
   "display_name": "S_env",
   "language": "python",
   "name": "python3"
  },
  "language_info": {
   "codemirror_mode": {
    "name": "ipython",
    "version": 3
   },
   "file_extension": ".py",
   "mimetype": "text/x-python",
   "name": "python",
   "nbconvert_exporter": "python",
   "pygments_lexer": "ipython3",
   "version": "3.10.12"
  }
 },
 "nbformat": 4,
 "nbformat_minor": 5
}
