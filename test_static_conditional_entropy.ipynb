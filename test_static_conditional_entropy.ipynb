{
 "cells": [
  {
   "cell_type": "code",
   "execution_count": 1,
   "metadata": {},
   "outputs": [
    {
     "name": "stdout",
     "output_type": "stream",
     "text": [
      "Could not load sparse_dot_mkl. Will use scipy.sparse for matrix products.\n"
     ]
    }
   ],
   "source": [
    "import numpy as np\n",
    "import matplotlib.pyplot as plt\n",
    "from TemporalNetwork import ContTempNetwork, StaticTempNetwork\n",
    "from scipy.sparse import (lil_matrix, dok_matrix, diags, eye, isspmatrix_csr, isspmatrix,\n",
    "                          csr_matrix, coo_matrix, csc_matrix)\n",
    "import compute_S_rate\n",
    "import auxiliary_functions\n",
    "import seaborn\n",
    "import math\n",
    "\n",
    "import networkx as nx"
   ]
  },
  {
   "cell_type": "code",
   "execution_count": 2,
   "metadata": {},
   "outputs": [],
   "source": [
    "adj_graph = np.array([[0, 1, 1, 1], [1, 0, 1, 0], [1, 1, 0, 0], [1, 0, 0, 0]])"
   ]
  },
  {
   "cell_type": "code",
   "execution_count": 3,
   "metadata": {},
   "outputs": [
    {
     "name": "stderr",
     "output_type": "stream",
     "text": [
      "/home/b/skoove/Desktop/entropy/entropy_env/lib/python3.10/site-packages/scipy/sparse/linalg/_dsolve/linsolve.py:412: SparseEfficiencyWarning: splu converted its input to CSC format\n",
      "  warn('splu converted its input to CSC format', SparseEfficiencyWarning)\n",
      "/home/b/skoove/Desktop/entropy/entropy_env/lib/python3.10/site-packages/scipy/sparse/linalg/_dsolve/linsolve.py:302: SparseEfficiencyWarning: spsolve is more efficient when sparse b is in the CSC matrix format\n",
      "  warn('spsolve is more efficient when sparse b '\n"
     ]
    }
   ],
   "source": [
    "time = [i for i in np.linspace(1,25,3)]\n",
    "graph= StaticTempNetwork(times = time, adjacency = csr_matrix(adj_graph))\n",
    "graph.compute_laplacian_matrices(random_walk = True)\n",
    "\n",
    "graph.compute_inter_transition_matrices(lamda=1, dense_expm=False, use_sparse_stoch=False)\n",
    "graph.compute_transition_matrices(lamda=1)"
   ]
  },
  {
   "cell_type": "markdown",
   "metadata": {},
   "source": [
    "## Uniform initial ditribution"
   ]
  },
  {
   "cell_type": "code",
   "execution_count": 4,
   "metadata": {},
   "outputs": [],
   "source": [
    "H_graph = compute_S_rate.compute_conditional_entropy(net=graph, list_T=graph.T[1], lamda=1, force_csr=True, time_domain= list(range(len(time)-2,len(time)-1)))"
   ]
  },
  {
   "cell_type": "code",
   "execution_count": 5,
   "metadata": {},
   "outputs": [
    {
     "name": "stdout",
     "output_type": "stream",
     "text": [
      "[0.375 0.25  0.25  0.125]\n"
     ]
    }
   ],
   "source": [
    "p0 = 1/4*np.ones(4)\n",
    "T = graph.T[1][-1].toarray() \n",
    "print(p0 @ T)"
   ]
  },
  {
   "cell_type": "code",
   "execution_count": 6,
   "metadata": {},
   "outputs": [
    {
     "name": "stdout",
     "output_type": "stream",
     "text": [
      "[-0.98082925 -1.38629436 -1.38629436 -2.07944153 -0.98082926 -1.38629435\n",
      " -1.38629435 -2.07944156 -0.98082926 -1.38629435 -1.38629435 -2.07944156\n",
      " -0.98082924 -1.38629438 -1.38629438 -2.0794415 ]\n",
      "[-0.36781097 -0.34657359 -0.34657359 -0.25993019 -0.36781097 -0.34657359\n",
      " -0.34657359 -0.25993019 -0.36781097 -0.34657359 -0.34657359 -0.25993019\n",
      " -0.36781097 -0.34657359 -0.34657359 -0.2599302 ]\n",
      "[[-0.36781097 -0.34657359 -0.34657359 -0.25993019]\n",
      " [-0.36781097 -0.34657359 -0.34657359 -0.25993019]\n",
      " [-0.36781097 -0.34657359 -0.34657359 -0.25993019]\n",
      " [-0.36781097 -0.34657359 -0.34657359 -0.2599302 ]]\n",
      "1.3208883433450418\n"
     ]
    }
   ],
   "source": [
    "Tcsr = csr_matrix(T)\n",
    "logTdata = np.log(np.where(Tcsr.data > 0, Tcsr.data, 1))\n",
    "print(logTdata)\n",
    "TlogTdata = Tcsr.data * logTdata\n",
    "print(TlogTdata)\n",
    "TlogT = csr_matrix((TlogTdata, Tcsr.indices, Tcsr.indptr), shape=T.shape)\n",
    "print(TlogT.toarray())\n",
    "print(-np.sum(p0 @ TlogT, where= np.isfinite(p0 @ TlogT)))"
   ]
  },
  {
   "cell_type": "code",
   "execution_count": 7,
   "metadata": {},
   "outputs": [
    {
     "name": "stdout",
     "output_type": "stream",
     "text": [
      "4.0\n",
      "[3 2 2 1]\n",
      "2.0\n",
      "1.5171063970610275\n",
      "1.320888343149322\n"
     ]
    }
   ],
   "source": [
    "n_edges = adj_graph.sum() / 2\n",
    "print(n_edges)\n",
    "degrees = adj_graph.sum(0)\n",
    "print(degrees)\n",
    "avg_degree = np.mean(degrees)\n",
    "print(avg_degree)\n",
    "avg_degreelogdegree = np.mean(degrees * np.log(degrees))\n",
    "print(avg_degreelogdegree)\n",
    "asymptot = np.log(2 * n_edges) - avg_degreelogdegree / avg_degree\n",
    "print(asymptot)"
   ]
  },
  {
   "cell_type": "code",
   "execution_count": 44,
   "metadata": {},
   "outputs": [],
   "source": [
    "list_expected_approx = []\n",
    "n = 4\n",
    "p = 0.3\n",
    "k_avg = (3) * p\n",
    "\n",
    "approx_asymptot = np.log(2* math.comb(n, 2)* p) - np.log(k_avg)"
   ]
  },
  {
   "cell_type": "code",
   "execution_count": 45,
   "metadata": {},
   "outputs": [
    {
     "name": "stdout",
     "output_type": "stream",
     "text": [
      "1.3208883433450418\n",
      "1.320888343149322\n",
      "1.3862943611198906\n"
     ]
    }
   ],
   "source": [
    "print(H_graph[list(H_graph.keys())[0]][-1])\n",
    "print(asymptot)\n",
    "print(approx_asymptot)"
   ]
  },
  {
   "cell_type": "markdown",
   "metadata": {},
   "source": [
    "## RW diffusion - Uniform distribution"
   ]
  },
  {
   "cell_type": "code",
   "execution_count": 10,
   "metadata": {},
   "outputs": [],
   "source": [
    "time = [i for i in np.linspace(1,100,2)]\n",
    "N = [10, 50, 100]\n",
    "n_samples = 10\n",
    "p= 0.2\n",
    "\n",
    "list_H = []\n",
    "list_asymptot = []\n",
    "\n",
    "for i, n in enumerate(N):\n",
    "    er_adj = nx.adjacency_matrix(nx.erdos_renyi_graph(n, p))\n",
    "    er_rw = StaticTempNetwork(times = time, adjacency = csr_matrix(er_adj))\n",
    "    er_rw.compute_laplacian_matrices(random_walk = True)\n",
    "\n",
    "    er_rw.compute_inter_transition_matrices(lamda=1, dense_expm=False, use_sparse_stoch=False)\n",
    "    er_rw.compute_transition_matrices(lamda=1)\n",
    "\n",
    "    H_er_rw = compute_S_rate.compute_conditional_entropy(net=er_rw, list_T=er_rw.T[1], lamda=1, force_csr=True, time_domain= list(np.arange(len(time)-2, len(time)-1)))\n",
    "    list_H.append(H_er_rw[list(H_er_rw.keys())[0]][-1])\n",
    "    \n",
    "    n_edges = er_adj.toarray().sum() / 2\n",
    "    degrees = er_adj.toarray().sum(0)\n",
    "    avg_degree = np.mean(degrees)\n",
    "    avg_degreelogdegree = np.mean(degrees *np.log(degrees))\n",
    "    list_asymptot.append(np.log(2 * n_edges) - avg_degreelogdegree / avg_degree)"
   ]
  },
  {
   "cell_type": "code",
   "execution_count": 11,
   "metadata": {},
   "outputs": [
    {
     "name": "stdout",
     "output_type": "stream",
     "text": [
      "[2.250260278618416, 3.874389873139027, 4.582153396303933]\n",
      "[2.250260278617591, 3.874389873139023, 4.58215339630393]\n"
     ]
    }
   ],
   "source": [
    "print(list_H)\n",
    "print(list_asymptot)"
   ]
  },
  {
   "cell_type": "markdown",
   "metadata": {},
   "source": [
    "## RW-Diffusion - Stationary distribution"
   ]
  },
  {
   "cell_type": "markdown",
   "metadata": {},
   "source": [
    "We know that the asymptotic value should be independent of the initial ditribution. We can check if the property holds to test if our implementation of the conditional entropy works for different starting distributions."
   ]
  },
  {
   "cell_type": "code",
   "execution_count": 48,
   "metadata": {},
   "outputs": [
    {
     "name": "stderr",
     "output_type": "stream",
     "text": [
      "/home/b/skoove/Desktop/entropy/entropy_env/lib/python3.10/site-packages/scipy/sparse/linalg/_dsolve/linsolve.py:412: SparseEfficiencyWarning: splu converted its input to CSC format\n",
      "  warn('splu converted its input to CSC format', SparseEfficiencyWarning)\n",
      "/home/b/skoove/Desktop/entropy/entropy_env/lib/python3.10/site-packages/scipy/sparse/linalg/_dsolve/linsolve.py:302: SparseEfficiencyWarning: spsolve is more efficient when sparse b is in the CSC matrix format\n",
      "  warn('spsolve is more efficient when sparse b '\n"
     ]
    }
   ],
   "source": [
    "time = [i for i in np.linspace(1,100,2)]\n",
    "N = [10, 50, 100, 500]\n",
    "n_samples = 10\n",
    "p= 0.2\n",
    "\n",
    "list_H = []\n",
    "list_asymptot = []\n",
    "\n",
    "for i, n in enumerate(N):\n",
    "    er_adj = nx.adjacency_matrix(nx.erdos_renyi_graph(n, p))\n",
    "    er_rw = StaticTempNetwork(times = time, adjacency = csr_matrix(er_adj))\n",
    "    er_rw.compute_laplacian_matrices(random_walk = True)\n",
    "\n",
    "    er_rw.compute_inter_transition_matrices(lamda=1, dense_expm=False, use_sparse_stoch=False)\n",
    "    er_rw.compute_transition_matrices(lamda=1)\n",
    "\n",
    "    n_edges = er_adj.toarray().sum() / 2\n",
    "    degrees = er_adj.toarray().sum(0)\n",
    "    pi_0 = degrees / (2*n_edges)\n",
    "    \n",
    "    H_er_rw = compute_S_rate.compute_conditional_entropy(net=er_rw, list_T=er_rw.T[1], lamda=1, force_csr=True, time_domain= list(np.arange(len(time)-2, len(time)-1)), p0 = pi_0)\n",
    "    list_H.append(H_er_rw[list(H_er_rw.keys())[0]][-1])\n",
    "    \n",
    "    \n",
    "    avg_degree = np.mean(degrees)\n",
    "    corrected_degrees  = np.where(degrees > 0, degrees, 1)\n",
    "    avg_degreelogdegree = np.mean(degrees * np.log(corrected_degrees))\n",
    "    list_asymptot.append(np.log(2 * n_edges) - avg_degreelogdegree / avg_degree)\n",
    "\n",
    "list_approx_asymptot = []\n",
    "for n in N:\n",
    "    p = 0.2\n",
    "    k_avg = (n-1) * p\n",
    "    list_approx_asymptot.append(np.log(2* math.comb(n, 2)* p) - np.log(k_avg))"
   ]
  },
  {
   "cell_type": "code",
   "execution_count": 49,
   "metadata": {},
   "outputs": [
    {
     "name": "stdout",
     "output_type": "stream",
     "text": [
      "[2.2462138366774425, 3.8770521286362447, 4.588056188187807, 6.210243821325073]\n",
      "[2.246213836677445, 3.8770521286362567, 4.588056188187809, 6.210243821325097]\n",
      "[2.3025850929940455, 3.9120230054281455, 4.605170185988092, 6.214608098422191]\n"
     ]
    }
   ],
   "source": [
    "print(list_H)\n",
    "print(list_asymptot)\n",
    "print(list_approx_asymptot)"
   ]
  }
 ],
 "metadata": {
  "kernelspec": {
   "display_name": "entropy_env",
   "language": "python",
   "name": "python3"
  },
  "language_info": {
   "codemirror_mode": {
    "name": "ipython",
    "version": 3
   },
   "file_extension": ".py",
   "mimetype": "text/x-python",
   "name": "python",
   "nbconvert_exporter": "python",
   "pygments_lexer": "ipython3",
   "version": "3.10.12"
  }
 },
 "nbformat": 4,
 "nbformat_minor": 2
}
