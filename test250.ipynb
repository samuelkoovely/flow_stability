{
 "cells": [
  {
   "cell_type": "code",
   "execution_count": 1,
   "metadata": {},
   "outputs": [
    {
     "name": "stdout",
     "output_type": "stream",
     "text": [
      "Could not load sparse_dot_mkl. Will use scipy.sparse for matrix products.\n"
     ]
    }
   ],
   "source": [
    "import sys\n",
    "import os\n",
    "\n",
    "\n",
    "\n",
    "import numpy as np\n",
    "from SynthTempNetwork import Individual, SynthTempNetwork\n",
    "from TemporalNetwork import ContTempNetwork, StaticTempNetwork\n",
    "from FlowStability import SparseClustering, FlowIntegralClustering, run_multi_louvain, avg_norm_var_information\n",
    "import parallel_clustering\n",
    "import pickle\n",
    "\n",
    "import matplotlib.pyplot as plt\n",
    "import matplotlib\n",
    "\n",
    "from scipy.sparse import (lil_matrix, dok_matrix, diags, eye, isspmatrix_csr, isspmatrix,\n",
    "                          csr_matrix, coo_matrix, csc_matrix)\n",
    "from scipy.sparse.linalg import eigsh\n",
    "\n",
    "from SparseStochMat import sparse_autocov_mat"
   ]
  },
  {
   "cell_type": "code",
   "execution_count": 2,
   "metadata": {},
   "outputs": [],
   "source": [
    "slow_lamdas=np.logspace(-10,-4,200)\n",
    "between_slow_lamdas=np.linspace(-10,-4,200)"
   ]
  },
  {
   "cell_type": "code",
   "execution_count": 7,
   "metadata": {},
   "outputs": [
    {
     "ename": "KeyError",
     "evalue": "9.999999999999999e-11",
     "output_type": "error",
     "traceback": [
      "\u001b[0;31m---------------------------------------------------------------------------\u001b[0m",
      "\u001b[0;31mKeyError\u001b[0m                                  Traceback (most recent call last)",
      "Cell \u001b[0;32mIn[7], line 4\u001b[0m\n\u001b[1;32m      1\u001b[0m \u001b[38;5;28;01mwith\u001b[39;00m \u001b[38;5;28mopen\u001b[39m(\u001b[38;5;124m'\u001b[39m\u001b[38;5;124m//scratch/tmp/180/skoove/experiment250_static_weighted_heat/clusters_sam_slow\u001b[39m\u001b[38;5;124m'\u001b[39m, \u001b[38;5;124m'\u001b[39m\u001b[38;5;124mrb\u001b[39m\u001b[38;5;124m'\u001b[39m) \u001b[38;5;28;01mas\u001b[39;00m f:\n\u001b[1;32m      2\u001b[0m     multi_res_static_weighted_heat_sam \u001b[38;5;241m=\u001b[39m pickle\u001b[38;5;241m.\u001b[39mload(f)\n\u001b[0;32m----> 4\u001b[0m avg_csize_forw_static_weighted_heat_sam \u001b[38;5;241m=\u001b[39m [np\u001b[38;5;241m.\u001b[39mmean([\u001b[38;5;28mlen\u001b[39m(c) \u001b[38;5;28;01mfor\u001b[39;00m c \u001b[38;5;129;01min\u001b[39;00m \\\n\u001b[1;32m      5\u001b[0m                    multi_res_static_weighted_heat_sam[lamda] \u001b[38;5;28;01mif\u001b[39;00m \u001b[38;5;28mlen\u001b[39m(c)\u001b[38;5;241m>\u001b[39m\u001b[38;5;241m1\u001b[39m]) \u001b[38;5;28;01mfor\u001b[39;00m lamda \u001b[38;5;129;01min\u001b[39;00m slow_lamdas]\n\u001b[1;32m      7\u001b[0m NVI_forw_static_weighted_heat_sam \u001b[38;5;241m=\u001b[39m [avg_norm_var_information(multi_res_static_weighted_heat_sam[lamda]) \u001b[38;5;28;01mfor\u001b[39;00m lamda \u001b[38;5;129;01min\u001b[39;00m slow_lamdas]\n\u001b[1;32m      9\u001b[0m \u001b[38;5;28;01mwith\u001b[39;00m \u001b[38;5;28mopen\u001b[39m(\u001b[38;5;124m'\u001b[39m\u001b[38;5;124m//scratch/tmp/180/skoove/experiment250_3scales_static_weighted_heat/clusters_sam_slow\u001b[39m\u001b[38;5;124m'\u001b[39m, \u001b[38;5;124m'\u001b[39m\u001b[38;5;124mrb\u001b[39m\u001b[38;5;124m'\u001b[39m) \u001b[38;5;28;01mas\u001b[39;00m f:\n",
      "Cell \u001b[0;32mIn[7], line 5\u001b[0m, in \u001b[0;36m<listcomp>\u001b[0;34m(.0)\u001b[0m\n\u001b[1;32m      1\u001b[0m \u001b[38;5;28;01mwith\u001b[39;00m \u001b[38;5;28mopen\u001b[39m(\u001b[38;5;124m'\u001b[39m\u001b[38;5;124m//scratch/tmp/180/skoove/experiment250_static_weighted_heat/clusters_sam_slow\u001b[39m\u001b[38;5;124m'\u001b[39m, \u001b[38;5;124m'\u001b[39m\u001b[38;5;124mrb\u001b[39m\u001b[38;5;124m'\u001b[39m) \u001b[38;5;28;01mas\u001b[39;00m f:\n\u001b[1;32m      2\u001b[0m     multi_res_static_weighted_heat_sam \u001b[38;5;241m=\u001b[39m pickle\u001b[38;5;241m.\u001b[39mload(f)\n\u001b[1;32m      4\u001b[0m avg_csize_forw_static_weighted_heat_sam \u001b[38;5;241m=\u001b[39m [np\u001b[38;5;241m.\u001b[39mmean([\u001b[38;5;28mlen\u001b[39m(c) \u001b[38;5;28;01mfor\u001b[39;00m c \u001b[38;5;129;01min\u001b[39;00m \\\n\u001b[0;32m----> 5\u001b[0m                    \u001b[43mmulti_res_static_weighted_heat_sam\u001b[49m\u001b[43m[\u001b[49m\u001b[43mlamda\u001b[49m\u001b[43m]\u001b[49m \u001b[38;5;28;01mif\u001b[39;00m \u001b[38;5;28mlen\u001b[39m(c)\u001b[38;5;241m>\u001b[39m\u001b[38;5;241m1\u001b[39m]) \u001b[38;5;28;01mfor\u001b[39;00m lamda \u001b[38;5;129;01min\u001b[39;00m slow_lamdas]\n\u001b[1;32m      7\u001b[0m NVI_forw_static_weighted_heat_sam \u001b[38;5;241m=\u001b[39m [avg_norm_var_information(multi_res_static_weighted_heat_sam[lamda]) \u001b[38;5;28;01mfor\u001b[39;00m lamda \u001b[38;5;129;01min\u001b[39;00m slow_lamdas]\n\u001b[1;32m      9\u001b[0m \u001b[38;5;28;01mwith\u001b[39;00m \u001b[38;5;28mopen\u001b[39m(\u001b[38;5;124m'\u001b[39m\u001b[38;5;124m//scratch/tmp/180/skoove/experiment250_3scales_static_weighted_heat/clusters_sam_slow\u001b[39m\u001b[38;5;124m'\u001b[39m, \u001b[38;5;124m'\u001b[39m\u001b[38;5;124mrb\u001b[39m\u001b[38;5;124m'\u001b[39m) \u001b[38;5;28;01mas\u001b[39;00m f:\n",
      "\u001b[0;31mKeyError\u001b[0m: 9.999999999999999e-11"
     ]
    }
   ],
   "source": [
    "with open('//scratch/tmp/180/skoove/experiment250_static_weighted_heat/clusters_sam_slow', 'rb') as f:\n",
    "    multi_res_static_weighted_heat_sam = pickle.load(f)\n",
    "    \n",
    "avg_csize_forw_static_weighted_heat_sam = [np.mean([len(c) for c in \\\n",
    "                   multi_res_static_weighted_heat_sam[lamda] if len(c)>1]) for lamda in slow_lamdas]\n",
    "\n",
    "NVI_forw_static_weighted_heat_sam = [avg_norm_var_information(multi_res_static_weighted_heat_sam[lamda]) for lamda in slow_lamdas]\n",
    "\n",
    "with open('//scratch/tmp/180/skoove/experiment250_3scales_static_weighted_heat/clusters_sam_slow', 'rb') as f:\n",
    "    multi_res_static_weighted_heat_sam = pickle.load(f)\n",
    "    \n",
    "avg_csize_forw_static_weighted_heat_sam_3scales = [np.mean([len(c) for c in \\\n",
    "                   multi_res_static_weighted_heat_sam[lamda] if len(c)>1]) for lamda in slow_lamdas]\n",
    "\n",
    "NVI_forw_static_weighted_heat_sam_3scales = [avg_norm_var_information(multi_res_static_weighted_heat_sam[lamda]) for lamda in slow_lamdas]\n",
    "\n",
    "with open('//scratch/tmp/180/skoove/experiment250_2scales_static_weighted_heat/clusters_sam_slow', 'rb') as f:\n",
    "    multi_res_static_weighted_heat_sam = pickle.load(f)\n",
    "    \n",
    "avg_csize_forw_static_weighted_heat_sam_2scales = [np.mean([len(c) for c in \\\n",
    "                   multi_res_static_weighted_heat_sam[lamda] if len(c)>1]) for lamda in slow_lamdas]\n",
    "\n",
    "NVI_forw_static_weighted_heat_sam_2scales = [avg_norm_var_information(multi_res_static_weighted_heat_sam[lamda]) for lamda in slow_lamdas]"
   ]
  },
  {
   "cell_type": "code",
   "execution_count": 9,
   "metadata": {},
   "outputs": [],
   "source": [
    "def derivative(v1, v2):\n",
    "    assert len(v1) == len(v2), \"Error: in order to compute the numerical derivative, the two varibales need to have the same lenght.\"\n",
    "    derivative = []\n",
    "    for i, vi in enumerate(v1[1:]):\n",
    "        m1 =(vi - v1[i-1])/(v2[i]-v2[i-1])\n",
    "        m2 =(v1[i+1] - vi)/(v2[i+1]-v2[i])\n",
    "        derivative.append((m1+m2)/2)\n",
    "    return derivative"
   ]
  },
  {
   "cell_type": "code",
   "execution_count": 5,
   "metadata": {},
   "outputs": [
    {
     "data": {
      "text/plain": [
       "[0.9971699859650379,\n",
       " 0.9971695166286351,\n",
       " 0.9971695166286351,\n",
       " 0.9971683574519974,\n",
       " 0.9971676451408785,\n",
       " 0.9971668265284175,\n",
       " 0.9971658857345302,\n",
       " (0.9971648045031478+5.504916809585718e-19j),\n",
       " 0.9971635618458824,\n",
       " 0.9971621336320837,\n",
       " 0.997160492117137,\n",
       " 0.9971586053996869,\n",
       " 0.9971564367970219,\n",
       " 0.9971539441261585,\n",
       " 0.9971510788763571,\n",
       " 0.9971477852565531,\n",
       " 0.9971439990986156,\n",
       " (0.9971396465945657-1.9606894024769057e-18j),\n",
       " 0.9971346428423243,\n",
       " 0.9971288901708134,\n",
       " 0.9971222762106401,\n",
       " 0.9971146716714225,\n",
       " (0.9971059277807794+1.221259429831068e-18j),\n",
       " 0.9970958733330796,\n",
       " 0.99708431128796,\n",
       " (0.9970710148493935-2.300584587354628e-18j),\n",
       " 0.9970557229452819,\n",
       " 0.9970381350152374,\n",
       " 0.9970179049998141,\n",
       " 0.9969946344079613,\n",
       " 0.9969678643204442,\n",
       " 0.9969370661649131,\n",
       " 0.9969016310730819,\n",
       " 0.9968608576013586,\n",
       " 0.9968139375629087,\n",
       " 0.9967599396808092,\n",
       " 0.9966977907284038,\n",
       " (0.9966262537730498-1.8797651313781123e-18j),\n",
       " (0.9965439030831957-2.803921351187775e-18j),\n",
       " 0.9964490951949468,\n",
       " 0.9963399355629711,\n",
       " 0.9962142401412628,\n",
       " 0.9960694911518682,\n",
       " 0.995902786204965,\n",
       " 0.9957107798326239,\n",
       " (0.9954896163935589-1.904378960473301e-18j),\n",
       " 0.9952348532012452,\n",
       " 0.9949413726285284,\n",
       " (0.9946032818576669-2.2214489217573245e-18j),\n",
       " 0.9942137988886542,\n",
       " 0.9937651234091739,\n",
       " 0.9932482911931947,\n",
       " 0.9926530108673626,\n",
       " (0.9919674822139636-1.4208387071594893e-18j),\n",
       " 0.9911781957301893,\n",
       " 0.9902697140200889,\n",
       " 0.989224436864463,\n",
       " 0.9880223536294391,\n",
       " (0.9866407891968294-1.886318933243482e-18j),\n",
       " 0.9850541530162064,\n",
       " (0.9832337053922356-1.5808525807197747e-18j),\n",
       " 0.9811473609316108,\n",
       " 0.978759556340995,\n",
       " 0.976031218548964,\n",
       " 0.9729198792824835,\n",
       " 0.9693799932924958,\n",
       " 0.9653635284127342,\n",
       " 0.9608209048457285,\n",
       " 0.9557023658533258,\n",
       " (0.9499598586446849-2.45542883800124e-18j),\n",
       " 0.9435494878981724,\n",
       " 0.9364345695406971,\n",
       " 0.9285892539230655,\n",
       " 0.9200026021117994,\n",
       " (0.9106828878122909-3.5480565338577614e-18j),\n",
       " 0.9006617688918374,\n",
       " 0.8899978448249064,\n",
       " (0.8787790183362766-2.487215129869297e-18j),\n",
       " 0.8671230473343906,\n",
       " (0.8551757430151502-2.5425095359625895e-18j),\n",
       " (0.8431064655173888-2.6117028978301685e-18j),\n",
       " 0.8311008873676662,\n",
       " (0.819351399017471-4.914906614381828e-18j),\n",
       " 0.8080459468005668,\n",
       " 0.7973564279919743,\n",
       " (0.7874279327427758-3.960047420136264e-18j),\n",
       " 0.7783700660612275,\n",
       " 0.7702513070390103,\n",
       " 0.7630969252521302,\n",
       " 0.7568904710688983,\n",
       " 0.7515783903963448,\n",
       " 0.7470769670878487,\n",
       " (0.743280611470125-3.537082463203915e-18j),\n",
       " 0.7400704943166093,\n",
       " 0.7373226439964636,\n",
       " 0.7349148355964704,\n",
       " 0.7327318562483777,\n",
       " 0.7306689879452237,\n",
       " 0.7286337749461627,\n",
       " 0.7265463156917105,\n",
       " 0.7243384280109999,\n",
       " 0.7219520802650137,\n",
       " 0.7193374675372719,\n",
       " 0.7164510552580045,\n",
       " 0.7132538306156212,\n",
       " 0.7097099128762213,\n",
       " 0.7057855923395416,\n",
       " 0.701448803803288,\n",
       " 0.6966689976776855,\n",
       " 0.6914173485713729,\n",
       " 0.6856672321295697,\n",
       " 0.6793948998757665,\n",
       " 0.6725802833308173,\n",
       " 0.6652078593078372,\n",
       " (0.657267506924065+2.2360793206429085e-17j),\n",
       " (0.6487552845220224+4.0503998863709264e-17j),\n",
       " (0.6396740537638783+1.5886116853720277e-17j),\n",
       " (0.6300338816967171+2.6778191087584383e-17j),\n",
       " (0.6198521624245754+6.759339986314868e-17j),\n",
       " (0.6091534199607603+4.378386758959703e-17j),\n",
       " (0.5979687828023315+1.0305428150525323e-16j),\n",
       " (0.5863351562080574+5.781520783891551e-17j),\n",
       " (0.5742941548524411+2.1128277849998343e-17j),\n",
       " (0.5618908891723987+2.4389584715441772e-17j),\n",
       " (0.5491727154418947+1.6516614763543197e-17j),\n",
       " (0.5361880562313402+9.953109621920439e-17j),\n",
       " (0.5229853725044638+3.470447986644236e-17j),\n",
       " (0.5096123253939475+2.2113657132197293e-17j),\n",
       " (0.49611511530376223+6.613604309044378e-18j),\n",
       " (0.482537943374327+3.553760151680052e-17j),\n",
       " (0.468922520486283+7.385174788216478e-17j),\n",
       " (0.45530756135161415+8.323102655371163e-17j),\n",
       " (0.44172824514700343+2.0276471874546036e-17j),\n",
       " (0.4282156870134318+4.1710871738151345e-17j),\n",
       " (0.41479652486934093+1.0324749088578419e-17j),\n",
       " (0.4014927594571891+5.277762049458891e-17j),\n",
       " (0.3883219752211432+6.007280838577137e-17j),\n",
       " (0.37529801261804874+4.711344380674442e-17j),\n",
       " (0.36243207284527024+5.751029825364459e-17j),\n",
       " (0.34973414085958743+1.720752295441087e-17j),\n",
       " (0.3372145427689443+8.546447644228401e-17j),\n",
       " (0.32488543215859783+6.622161242816069e-17j),\n",
       " (0.3127620326899074+3.314780810942906e-17j),\n",
       " (0.30086353770470264+4.377783076300516e-17j),\n",
       " (0.28921365315083347+2.7845853388980555e-17j),\n",
       " (0.2778408356541819-5.593016509232341e-19j),\n",
       " (0.2667782995013047-4.637766215562733e-17j),\n",
       " (0.2560638390990071-4.5530491218754946e-17j),\n",
       " (0.24573945164177574-2.2228681204940397e-17j),\n",
       " (0.2358506772154603+8.714314013025491e-17j),\n",
       " (0.22644553291524425+4.139817153860921e-17j),\n",
       " (0.2175729278224557+3.099656821098132e-17j),\n",
       " (0.2092805136676958+8.463282169722548e-17j),\n",
       " (0.20161203851731047-7.849565332292436e-18j),\n",
       " (0.19460439873312999+7.701217224316806e-17j),\n",
       " (0.18828469203636677+7.589603428098744e-17j),\n",
       " (0.18266763080431198+9.96694821512059e-18j),\n",
       " (0.17775366305035245+5.0954854018000704e-17j),\n",
       " (0.17352807077793325+1.1133453657238466e-17j),\n",
       " (0.16996118990367198+4.403713491956322e-17j),\n",
       " (0.16700975034845417-1.4513072533772478e-18j),\n",
       " (0.16461919716043524+4.572553993458262e-17j),\n",
       " (0.1627267449208642+6.07488945287037e-17j),\n",
       " (0.16126484973443456+3.688873131201457e-17j),\n",
       " (0.16016475862570634+3.1960692579373524e-17j),\n",
       " (0.15935981226211735+9.947290804970427e-17j),\n",
       " (0.15878822783371443-8.278277378271517e-16j),\n",
       " (0.15839516715468535-1.7894839709282944e-18j),\n",
       " (0.15813399107638929+4.64476919585635e-16j),\n",
       " (0.15796670291580805+9.613065988763654e-17j),\n",
       " (0.15786367653198383+4.758589077183e-17j),\n",
       " (0.1578028349323708+2.48783906932362e-16j),\n",
       " (0.15776848263444626+1.7259782240102602e-15j),\n",
       " (0.15774999608748308-3.572145298090751e-17j),\n",
       " (0.15774054590593076+1.9093466126547519e-16j),\n",
       " (0.15773597360169672+1.464604900628122e-16j),\n",
       " (0.15773388794739268-1.7244258594904243e-17j),\n",
       " (0.15773299479139724+1.1240642149643725e-16j),\n",
       " (0.15773263734718643-3.8957962569955634e-18j),\n",
       " (0.15773250431852093+4.3693548656751825e-17j),\n",
       " (0.15773245852220405+3.88273692679788e-17j),\n",
       " (0.1577324440218577+4.239243565129794e-16j),\n",
       " (0.15773243982508506+8.097959511364818e-17j),\n",
       " (0.15773243872211676+1.870313908966073e-17j),\n",
       " (0.1577324384607229+2.4378557931154833e-17j),\n",
       " (0.15773243840531675+5.332094726700774e-17j),\n",
       " (0.1577324383948567+5.222659083719456e-18j),\n",
       " (0.15773243839314327-3.416685320954457e-17j),\n",
       " (0.15773243839289305+1.443743232624418e-16j),\n",
       " (0.15773243839286194-1.8429133419041213e-16j),\n",
       " (0.15773243839282244-3.2686529755740125e-16j),\n",
       " (0.15773243839281478-2.811260009283575e-16j),\n",
       " (0.15773243839282253+1.360365662320081e-16j),\n",
       " (0.15773243839281345-2.7227075887477013e-16j),\n",
       " (0.15773243839280948-2.5493697698997345e-15j),\n",
       " (0.157732438392803-6.6812494486312476e-18j),\n",
       " (0.157732438392803-6.6812494486312476e-18j),\n",
       " (0.1577324383928828-3.3338427298757307e-12j),\n",
       " (0.15773243839282647+1.7275553626552038e-14j),\n",
       " (0.15773243839282647+1.7275553626552038e-14j)]"
      ]
     },
     "execution_count": 5,
     "metadata": {},
     "output_type": "execute_result"
    }
   ],
   "source": [
    "vNSsam3scales13"
   ]
  },
  {
   "cell_type": "code",
   "execution_count": 3,
   "metadata": {},
   "outputs": [],
   "source": [
    "vNSsam= []\n",
    "for i, lamda in enumerate(slow_lamdas):\n",
    "    with open(f'/scratch/tmp/180/skoove/experiment250_static_weighted_heat/vNSsam_slow/vNS{lamda:.11f}', 'rb') as f:\n",
    "        S = pickle.load(f)\n",
    "        vNSsam.append(S)\n",
    "\n",
    "vNSsam3scales= []\n",
    "for i, lamda in enumerate(slow_lamdas):\n",
    "    with open(f'/scratch/tmp/180/skoove/experiment250_3scales_static_weighted_heat/vNSsam_slow/vNS{lamda:.11f}', 'rb') as f:\n",
    "        S = pickle.load(f)\n",
    "        vNSsam3scales.append(S)\n",
    "\n",
    "vNSsam3scales13 = []\n",
    "for i, lamda in enumerate(slow_lamdas, ):\n",
    "    try:\n",
    "        with open(f'/scratch/tmp/180/skoove/experiment250_3scales13_static_weighted_heat/vNSsam_slow/vNS{lamda:.11f}', 'rb') as f:\n",
    "            S = pickle.load(f)\n",
    "        vNSsam3scales13.append(S)\n",
    "    except IOError:\n",
    "        vNSsam3scales13.append(vNSsam3scales13[-1])\n",
    "\n",
    "vNSsam3scales23 = []\n",
    "for i, lamda in enumerate(slow_lamdas, ):\n",
    "    try:\n",
    "        with open(f'/scratch/tmp/180/skoove/experiment250_3scales23_static_weighted_heat/vNSsam_slow/vNS{lamda:.11f}', 'rb') as f:\n",
    "            S = pickle.load(f)\n",
    "        vNSsam3scales23.append(S)\n",
    "    except IOError:\n",
    "        vNSsam3scales23.append(vNSsam3scales23[-1])\n",
    "\n",
    "vNSsam2scales= []\n",
    "for i, lamda in enumerate(slow_lamdas):\n",
    "    with open(f'/scratch/tmp/180/skoove/experiment250_2scales_static_weighted_heat/vNSsam_slow/vNS{lamda:.11f}', 'rb') as f:\n",
    "        S = pickle.load(f)\n",
    "        vNSsam2scales.append(S)\n"
   ]
  },
  {
   "cell_type": "code",
   "execution_count": 42,
   "metadata": {},
   "outputs": [],
   "source": [
    "v1 = vNSsam\n",
    "w1 = vNSsam3scales\n",
    "q1 = vNSsam3scales13\n",
    "r1 = vNSsam3scales23\n",
    "z1 = vNSsam2scales\n",
    "v2 = between_slow_lamdas\n",
    "dssam_dt = derivative(v1, v2)\n",
    "dssam3scales_dt = derivative(w1, v2)\n",
    "dssam3scales13_dt = derivative(q1, v2)\n",
    "dssam3scales23_dt = derivative(r1, v2)\n",
    "dssam2scales_dt = derivative(z1,v2)"
   ]
  },
  {
   "cell_type": "code",
   "execution_count": null,
   "metadata": {},
   "outputs": [],
   "source": [
    "# fig, (ax1,ax2) = plt.subplots(2,1, sharex=False)\n",
    "\n",
    "# # ax1.plot(slow_lamdas[1:151], NVI_forw_static_weighted_heat[0:150] / max(NVI_forw_static_weighted_heat), 'black', label='static norm NVI: Integral')\n",
    "# ax1.plot(slow_lamdas[1:151], NVI_forw_static_weighted_heat_sam [0:150] / max(NVI_forw_static_weighted_heat_sam) , 'grey', label='static norm NVI: sam')\n",
    "# ax1.plot(slow_lamdas[1:151], (ds_dt / min(ds_dt)) [0:150] , 'y--', label=' norm static dvNS/dt, t = net.times[-2]')\n",
    "# ax1.plot(slow_lamdas[1:151], (dssam_dt / min(dssam_dt)) [0:150], 'm--', label=' norm static dvNSsam/dt, t = net.times[-2]')\n",
    "# ax1.set_xscale('log')\n",
    "\n",
    "\n",
    "# ax1.set_ylabel('Norm. Var. Inf. vs dvNS/dt')\n",
    "# ax1.legend(fontsize='xx-small', loc='upper left',  bbox_to_anchor=(1.05, 1))\n",
    "\n",
    "# #ax2.plot(lamdas, NVI_forw_heat / max(NVI_forw_heat), 'grey', label='norm NVI')\n",
    "# #ax2.plot(lamdas[1:], ds7_dt / min(ds7_dt), 'y', label=' norm dvNS/dt, t = net.times[-2]')\n",
    "# ax2.plot(slow_lamdas, avg_csize_forw_static_weighted_heat_sam, '-', label='edge-centric: sam')\n",
    "# ax2.set_xscale('log')\n",
    "\n",
    "# # ax2.set_ylabel('Norm. Var. Inf. vs dvNS/dt')\n",
    "# ax2.set_ylabel('Avg. no. clusters')\n",
    "# ax2.legend(fontsize='xx-small', loc='upper left',  bbox_to_anchor=(1.05, 1))"
   ]
  },
  {
   "cell_type": "code",
   "execution_count": 43,
   "metadata": {},
   "outputs": [
    {
     "name": "stderr",
     "output_type": "stream",
     "text": [
      "/home/b/skoove/Desktop/entropy/entropy_env/lib/python3.10/site-packages/matplotlib/cbook.py:1699: ComplexWarning: Casting complex values to real discards the imaginary part\n",
      "  return math.isfinite(val)\n",
      "/home/b/skoove/Desktop/entropy/entropy_env/lib/python3.10/site-packages/matplotlib/cbook.py:1345: ComplexWarning: Casting complex values to real discards the imaginary part\n",
      "  return np.asarray(x, float)\n"
     ]
    },
    {
     "data": {
      "text/plain": [
       "<matplotlib.legend.Legend at 0x7f937fede3e0>"
      ]
     },
     "execution_count": 43,
     "metadata": {},
     "output_type": "execute_result"
    },
    {
     "data": {
      "image/png": "[encoded data removed]",
      "text/plain": [
       "<Figure size 640x480 with 1 Axes>"
      ]
     },
     "metadata": {},
     "output_type": "display_data"
    }
   ],
   "source": [
    "plt.plot(slow_lamdas[1:151], (dssam_dt) [0:150], 'g', label='81,27,9,3')\n",
    "plt.plot(slow_lamdas[1:151], (dssam3scales_dt) [0:150], 'r', label='81,27,9')\n",
    "plt.plot(slow_lamdas[1:151], (dssam3scales13_dt) [0:150], 'm', label='81,27,3')\n",
    "plt.plot(slow_lamdas[1:151], (dssam3scales23_dt) [0:150], 'y', label='81,9,3')\n",
    "plt.plot(slow_lamdas[1:151], (dssam2scales_dt) [0:150], 'b', label='81,27')\n",
    "plt.xscale('log')\n",
    "\n",
    "\n",
    "plt.ylabel('dvNSsam/dt')\n",
    "plt.legend(fontsize='xx-small', loc='upper left',  bbox_to_anchor=(1.05, 1))\n",
    "\n"
   ]
  },
  {
   "cell_type": "code",
   "execution_count": 44,
   "metadata": {},
   "outputs": [],
   "source": [
    "net = ContTempNetwork.load('fig3_network250_3scales23_heat')\n",
    "\n",
    "#Generating Networks\n",
    "\n",
    "static_net_adj = net.compute_static_adjacency_matrix()"
   ]
  },
  {
   "cell_type": "code",
   "execution_count": 47,
   "metadata": {},
   "outputs": [
    {
     "data": {
      "text/plain": [
       "<matplotlib.colorbar.Colorbar at 0x7f937fd1d330>"
      ]
     },
     "execution_count": 47,
     "metadata": {},
     "output_type": "execute_result"
    },
    {
     "data": {
      "image/png": "[encoded data removed]",
      "text/plain": [
       "<Figure size 480x480 with 2 Axes>"
      ]
     },
     "metadata": {},
     "output_type": "display_data"
    }
   ],
   "source": [
    "plt.matshow(static_net_adj.toarray())\n",
    "plt.colorbar()"
   ]
  },
  {
   "cell_type": "code",
   "execution_count": null,
   "metadata": {},
   "outputs": [],
   "source": []
  }
 ],
 "metadata": {
  "kernelspec": {
   "display_name": "entropy_env",
   "language": "python",
   "name": "python3"
  },
  "language_info": {
   "codemirror_mode": {
    "name": "ipython",
    "version": 3
   },
   "file_extension": ".py",
   "mimetype": "text/x-python",
   "name": "python",
   "nbconvert_exporter": "python",
   "pygments_lexer": "ipython3",
   "version": "3.10.12"
  }
 },
 "nbformat": 4,
 "nbformat_minor": 2
}
