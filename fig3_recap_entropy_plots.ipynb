{
 "cells": [
  {
   "cell_type": "code",
   "execution_count": 1,
   "metadata": {},
   "outputs": [
    {
     "name": "stdout",
     "output_type": "stream",
     "text": [
      "Could not load sparse_dot_mkl. Will use scipy.sparse for matrix products.\n"
     ]
    }
   ],
   "source": [
    "import sys\n",
    "import os\n",
    "\n",
    "\n",
    "\n",
    "import numpy as np\n",
    "from SynthTempNetwork import Individual, SynthTempNetwork\n",
    "from TemporalNetwork import ContTempNetwork, StaticTempNetwork\n",
    "from FlowStability import FlowIntegralClustering\n",
    "import pickle\n",
    "\n",
    "import matplotlib.pyplot as plt\n",
    "import matplotlib\n",
    "\n",
    "from scipy.sparse import (lil_matrix, dok_matrix, diags, eye, isspmatrix_csr, isspmatrix,\n",
    "                          csr_matrix, coo_matrix, csc_matrix)\n",
    "from scipy.sparse.linalg import eigsh"
   ]
  },
  {
   "cell_type": "code",
   "execution_count": 2,
   "metadata": {},
   "outputs": [
    {
     "name": "stdout",
     "output_type": "stream",
     "text": [
      "[1.00000000e-04 2.06913808e-04 4.28133240e-04 8.85866790e-04\n",
      " 1.83298071e-03 3.79269019e-03 7.84759970e-03 1.62377674e-02\n",
      " 3.35981829e-02 6.95192796e-02 1.43844989e-01 2.97635144e-01\n",
      " 6.15848211e-01 1.27427499e+00 2.63665090e+00 5.45559478e+00\n",
      " 1.12883789e+01 2.33572147e+01 4.83293024e+01 1.00000000e+02]\n"
     ]
    }
   ],
   "source": [
    "lamdas=np.logspace(-4,2,20)\n",
    "print(lamdas)"
   ]
  },
  {
   "cell_type": "code",
   "execution_count": 3,
   "metadata": {},
   "outputs": [],
   "source": [
    "net = ContTempNetwork.load('fig3_network_short')"
   ]
  },
  {
   "cell_type": "code",
   "execution_count": 21,
   "metadata": {},
   "outputs": [
    {
     "name": "stdout",
     "output_type": "stream",
     "text": [
      "PID  14257  : computing T_list\n",
      "PID  14257  : computing integral\n",
      "PID  14257  :  0  over  1039  took 0.00s\n",
      "PID  14257  :  1000  over  1039  took 0.32s\n",
      "integral took 0.33s\n",
      "PID  14257  : computing T_list\n",
      "PID  14257  : computing integral\n",
      "PID  14257  :  0  over  1039  took 0.00s\n",
      "PID  14257  :  1000  over  1039  took 0.30s\n",
      "integral took 0.32s\n",
      "PID  14257  : computing T_list\n",
      "PID  14257  : computing integral\n",
      "PID  14257  :  0  over  1039  took 0.00s\n",
      "PID  14257  :  1000  over  1039  took 0.31s\n",
      "integral took 0.32s\n",
      "PID  14257  : computing T_list\n",
      "PID  14257  : computing integral\n",
      "PID  14257  :  0  over  1039  took 0.00s\n",
      "PID  14257  :  1000  over  1039  took 0.31s\n",
      "integral took 0.32s\n",
      "PID  14257  : computing T_list\n",
      "PID  14257  : computing integral\n",
      "PID  14257  :  0  over  1039  took 0.00s\n",
      "PID  14257  :  1000  over  1039  took 0.31s\n",
      "integral took 0.32s\n",
      "PID  14257  : computing T_list\n",
      "PID  14257  : computing integral\n",
      "PID  14257  :  0  over  1039  took 0.00s\n",
      "PID  14257  :  1000  over  1039  took 0.31s\n",
      "integral took 0.32s\n",
      "PID  14257  : computing T_list\n",
      "PID  14257  : computing integral\n",
      "PID  14257  :  0  over  1039  took 0.00s\n",
      "PID  14257  :  1000  over  1039  took 0.31s\n",
      "integral took 0.32s\n",
      "PID  14257  : computing T_list\n",
      "PID  14257  : computing integral\n",
      "PID  14257  :  0  over  1039  took 0.00s\n",
      "PID  14257  :  1000  over  1039  took 0.32s\n",
      "integral took 0.33s\n",
      "PID  14257  : computing T_list\n",
      "PID  14257  : computing integral\n",
      "PID  14257  :  0  over  1039  took 0.00s\n",
      "PID  14257  :  1000  over  1039  took 0.30s\n",
      "integral took 0.31s\n",
      "PID  14257  : computing T_list\n",
      "PID  14257  : computing integral\n",
      "PID  14257  :  0  over  1039  took 0.00s\n",
      "PID  14257  :  1000  over  1039  took 0.31s\n",
      "integral took 0.32s\n",
      "PID  14257  : computing T_list\n",
      "PID  14257  : computing integral\n",
      "PID  14257  :  0  over  1039  took 0.00s\n",
      "PID  14257  :  1000  over  1039  took 0.30s\n",
      "integral took 0.31s\n",
      "PID  14257  : computing T_list\n",
      "PID  14257  : computing integral\n",
      "PID  14257  :  0  over  1039  took 0.00s\n",
      "PID  14257  :  1000  over  1039  took 0.30s\n",
      "integral took 0.32s\n",
      "PID  14257  : computing T_list\n",
      "PID  14257  : computing integral\n",
      "PID  14257  :  0  over  1039  took 0.00s\n",
      "PID  14257  :  1000  over  1039  took 0.30s\n",
      "integral took 0.31s\n",
      "PID  14257  : computing T_list\n",
      "PID  14257  : computing integral\n",
      "PID  14257  :  0  over  1039  took 0.00s\n",
      "PID  14257  :  1000  over  1039  took 0.30s\n",
      "integral took 0.31s\n",
      "PID  14257  : computing T_list\n",
      "PID  14257  : computing integral\n",
      "PID  14257  :  0  over  1039  took 0.00s\n",
      "PID  14257  :  1000  over  1039  took 0.30s\n",
      "integral took 0.31s\n",
      "PID  14257  : computing T_list\n",
      "PID  14257  : computing integral\n",
      "PID  14257  :  0  over  1039  took 0.00s\n",
      "PID  14257  :  1000  over  1039  took 0.30s\n",
      "integral took 0.31s\n",
      "PID  14257  : computing T_list\n",
      "PID  14257  : computing integral\n",
      "PID  14257  :  0  over  1039  took 0.00s\n",
      "PID  14257  :  1000  over  1039  took 0.30s\n",
      "integral took 0.32s\n",
      "PID  14257  : computing T_list\n",
      "PID  14257  : computing integral\n",
      "PID  14257  :  0  over  1039  took 0.00s\n",
      "PID  14257  :  1000  over  1039  took 0.30s\n",
      "integral took 0.32s\n",
      "PID  14257  : computing T_list\n",
      "PID  14257  : computing integral\n",
      "PID  14257  :  0  over  1039  took 0.00s\n",
      "PID  14257  :  1000  over  1039  took 0.31s\n",
      "integral took 0.32s\n",
      "PID  14257  : computing T_list\n",
      "PID  14257  : computing integral\n",
      "PID  14257  :  0  over  1039  took 0.00s\n",
      "PID  14257  :  1000  over  1039  took 0.31s\n",
      "integral took 0.32s\n"
     ]
    }
   ],
   "source": [
    "list_forw_flows = []\n",
    "\n",
    "for i in lamdas:\n",
    "    list_forw_flows.append(FlowIntegralClustering(T_inter_list=net.inter_T[i],\n",
    "                                  time_list=net.times,\n",
    "                                  verbose=True))"
   ]
  },
  {
   "cell_type": "code",
   "execution_count": 22,
   "metadata": {},
   "outputs": [],
   "source": [
    "for i in range(len(lamdas)):\n",
    "    list_forw_flows[i].find_louvain_clustering()"
   ]
  },
  {
   "cell_type": "markdown",
   "metadata": {},
   "source": [
    "### Generating/Saving/Loading static networks"
   ]
  },
  {
   "cell_type": "code",
   "execution_count": 23,
   "metadata": {},
   "outputs": [
    {
     "name": "stderr",
     "output_type": "stream",
     "text": [
      "/Users/samuelkoovely/Documents/GitHub/flow_stability/flow_stability_env/lib/python3.11/site-packages/scipy/sparse/linalg/_dsolve/linsolve.py:395: SparseEfficiencyWarning: splu converted its input to CSC format\n",
      "  warn('splu converted its input to CSC format', SparseEfficiencyWarning)\n",
      "/Users/samuelkoovely/Documents/GitHub/flow_stability/flow_stability_env/lib/python3.11/site-packages/scipy/sparse/linalg/_dsolve/linsolve.py:285: SparseEfficiencyWarning: spsolve is more efficient when sparse b is in the CSC matrix format\n",
      "  warn('spsolve is more efficient when sparse b '\n"
     ]
    }
   ],
   "source": [
    "#Generating Networks\n",
    "\n",
    "static_net_adj = net.compute_static_adjacency_matrix()\n",
    "\n",
    "#weighted\n",
    "#Combinatorial Laplacian\n",
    "static_net_weighted_heat = StaticTempNetwork(times = net.times, adjacency = static_net_adj)\n",
    "static_net_weighted_heat.compute_laplacian_matrices(random_walk = False)\n",
    "for i in lamdas:\n",
    "    static_net_weighted_heat.compute_inter_transition_matrices(lamda=i, dense_expm=False, use_sparse_stoch=False)\n",
    "    static_net_weighted_heat.compute_transition_matrices(lamda=i)\n",
    "\n",
    "#Random Walk Laplacian\n",
    "static_net_weighted = StaticTempNetwork(times = net.times, adjacency = static_net_adj)\n",
    "static_net_weighted.compute_laplacian_matrices(random_walk = True)\n",
    "for i in lamdas:\n",
    "    static_net_weighted.compute_inter_transition_matrices(lamda=i, dense_expm=False, use_sparse_stoch=False)\n",
    "    static_net_weighted.compute_transition_matrices(lamda=i)\n",
    "\n",
    "\n",
    "#unweighted\n",
    "#entries are sum of durations of events, need to set to 1\n",
    "static_net_adj = static_net_adj.toarray()\n",
    "static_net_adj[static_net_adj != 0] = 1\n",
    "static_net_adj = csr_matrix(static_net_adj)\n",
    "\n",
    "#Combinatorial Laplacian\n",
    "static_net_heat = StaticTempNetwork(times = net.times, adjacency = static_net_adj)\n",
    "static_net_heat.compute_laplacian_matrices(random_walk = False)\n",
    "for i in lamdas:\n",
    "    static_net_heat.compute_inter_transition_matrices(lamda=i, dense_expm=False, use_sparse_stoch=False)\n",
    "    static_net_heat.compute_transition_matrices(lamda=i)\n",
    "\n",
    "#Random Walk Laplacian\n",
    "static_net = StaticTempNetwork(times = net.times, adjacency = static_net_adj)\n",
    "static_net.compute_laplacian_matrices(random_walk = True)\n",
    "for i in lamdas:\n",
    "    static_net.compute_inter_transition_matrices(lamda=i, dense_expm=False, use_sparse_stoch=False)\n",
    "    static_net.compute_transition_matrices(lamda=i)"
   ]
  },
  {
   "cell_type": "code",
   "execution_count": 24,
   "metadata": {},
   "outputs": [],
   "source": [
    "#Saving Networks\n",
    "static_net_weighted_heat.save('fig3_network_static_weighted_heat')\n",
    "static_net_weighted.save('fig3_network_static_weighted')\n",
    "static_net_heat.save('fig3_network_static_heat')\n",
    "static_net.save('fig3_network_static')"
   ]
  },
  {
   "cell_type": "code",
   "execution_count": 25,
   "metadata": {},
   "outputs": [],
   "source": [
    "#Loading Networks\n",
    "static_net_weighted_heat = StaticTempNetwork.load('fig3_network_static_weighted_heat')\n",
    "static_net_weighted = StaticTempNetwork.load('fig3_network_static_weighted')\n",
    "static_net_heat = StaticTempNetwork.load('fig3_network_static_heat')\n",
    "static_net = StaticTempNetwork.load('fig3_network_static')"
   ]
  },
  {
   "cell_type": "code",
   "execution_count": 26,
   "metadata": {},
   "outputs": [],
   "source": [
    "def one_time(s):\n",
    "    one_time_s = []\n",
    "    for key in s.keys():\n",
    "        for i in s[key]:\n",
    "            one_time_s.append(i)\n",
    "    return one_time_s"
   ]
  },
  {
   "cell_type": "markdown",
   "metadata": {},
   "source": [
    "# Static Network, Heat Diffusion"
   ]
  },
  {
   "cell_type": "markdown",
   "metadata": {},
   "source": [
    "### Entropy Rate"
   ]
  },
  {
   "cell_type": "code",
   "execution_count": null,
   "metadata": {},
   "outputs": [],
   "source": [
    "for i in lamdas:\n",
    "    static_net_heat.compute_entropy(lamda=i, force_csr=True, time_domain = static_net_heat.times[-1:])"
   ]
  },
  {
   "cell_type": "code",
   "execution_count": null,
   "metadata": {},
   "outputs": [],
   "source": [
    "plt.subplot(1, 2, 1)\n",
    "plt.plot(lamdas, one_time(static_net_heat.S))\n",
    "\n",
    "plt.subplot(1, 2, 2)\n",
    "plt.plot(lamdas, one_time(static_net_heat.S))\n",
    "plt.yscale('log')\n",
    "plt.title('Entropy rate')"
   ]
  },
  {
   "cell_type": "code",
   "execution_count": null,
   "metadata": {},
   "outputs": [],
   "source": [
    "# for i in range(len(lamdas)):\n",
    "#     plt.subplot(1, 2, 1)\n",
    "#     plt.plot(static_net_heat.S[lamdas[i]], label='lamda = ' + str(round(lamdas[i], 3)) + '  #Communities= ' + str(len(list_forw_flows[i].partition[0].cluster_list)))\n",
    "\n",
    "#     plt.subplot(1, 2, 2)\n",
    "#     plt.plot(static_net_heat.S[lamdas[i]], label='lamda = ' + str(round(lamdas[i], 3)) + '  #Communities= ' + str(len(list_forw_flows[i].partition[0].cluster_list)), )\n",
    "#     plt.yscale('log')\n",
    "# plt.legend(fontsize='xx-small', loc='upper left', bbox_to_anchor=(1.05, 1))\n",
    "# plt.title('Entropy rate')\n",
    "# #plt.savefig('./figures/fig3_recap_entropy_plots/fig3_entropy_rate.eps', format='eps')"
   ]
  },
  {
   "cell_type": "markdown",
   "metadata": {},
   "source": [
    "### Spectral vNS"
   ]
  },
  {
   "cell_type": "code",
   "execution_count": null,
   "metadata": {},
   "outputs": [],
   "source": [
    "for i in lamdas:\n",
    "    static_net_heat.compute_spectral_vonNeumann_entropy(lamda=i, force_csr=True, time_domain = static_net_heat.times[-1:])"
   ]
  },
  {
   "cell_type": "code",
   "execution_count": null,
   "metadata": {},
   "outputs": [],
   "source": [
    "plt.subplot(1, 2, 1)\n",
    "plt.plot(lamdas, one_time(static_net_heat.spectral_vNS))\n",
    "\n",
    "plt.subplot(1, 2, 2)\n",
    "plt.plot(lamdas, one_time(static_net_heat.spectral_vNS))\n",
    "plt.yscale('log')\n",
    "plt.title('Spectral vNS')"
   ]
  },
  {
   "cell_type": "code",
   "execution_count": null,
   "metadata": {},
   "outputs": [],
   "source": [
    "# for i in range(len(lamdas)):\n",
    "#     plt.subplot(1, 2, 1)\n",
    "#     plt.plot(static_net_heat.spectral_vNS[lamdas[i]], label='lamda = ' + str(round(lamdas[i], 3)) + '  #Communities= ' + str(len(list_forw_flows[i].partition[0].cluster_list)))\n",
    "\n",
    "#     plt.subplot(1, 2, 2)\n",
    "#     plt.plot(static_net_heat.spectral_vNS[lamdas[i]], label='lamda = ' + str(round(lamdas[i], 3)) + '  #Communities= ' + str(len(list_forw_flows[i].partition[0].cluster_list)), )\n",
    "#     plt.yscale('log')\n",
    "# plt.legend(fontsize='xx-small', loc='upper left', bbox_to_anchor=(1.05, 1))\n",
    "# plt.title('Spectral vNS')\n",
    "# #plt.savefig('./figures/fig3_recap_entropy_plots/fig3_spectral_vNS.eps', format='eps')"
   ]
  },
  {
   "cell_type": "markdown",
   "metadata": {},
   "source": [
    "### New vNS"
   ]
  },
  {
   "cell_type": "code",
   "execution_count": null,
   "metadata": {},
   "outputs": [],
   "source": [
    "# for i in lamdas:\n",
    "#     static_net_heat.compute_new_vonNeumann_entropy(lamda=i, force_csr=True, time_domain = static_net_heat.times[-1:])"
   ]
  },
  {
   "cell_type": "code",
   "execution_count": null,
   "metadata": {},
   "outputs": [],
   "source": [
    "# plt.subplot(1, 2, 1)\n",
    "# plt.plot(lamdas, one_time(static_net_heat.new_vNS))\n",
    "\n",
    "# plt.subplot(1, 2, 2)\n",
    "# plt.plot(lamdas, one_time(static_net_heat.new_vNS))\n",
    "# plt.yscale('log')\n",
    "# plt.title('New vNS')"
   ]
  },
  {
   "cell_type": "code",
   "execution_count": null,
   "metadata": {},
   "outputs": [],
   "source": [
    "# for i in range(len(lamdas)):\n",
    "#     plt.subplot(1, 2, 1)\n",
    "#     plt.plot(static_net_heat.new_vNS[lamdas[i]], label='lamda = ' + str(round(lamdas[i], 3)) + '  #Communities= ' + str(len(list_forw_flows[i].partition[0].cluster_list)))\n",
    "\n",
    "#     plt.subplot(1, 2, 2)\n",
    "#     plt.plot(static_net_heat.new_vNS[lamdas[i]], label='lamda = ' + str(round(lamdas[i], 3)) + '  #Communities= ' + str(len(list_forw_flows[i].partition[0].cluster_list)), )\n",
    "#     plt.yscale('log')\n",
    "# plt.legend(fontsize='xx-small', loc='upper left', bbox_to_anchor=(1.05, 1))\n",
    "# plt.title('New vNS')\n",
    "# #plt.savefig('./figures/fig3_recap_entropy_plots/fig3_new_vNS.eps', format='eps')"
   ]
  },
  {
   "cell_type": "markdown",
   "metadata": {},
   "source": [
    "### Simple vNS"
   ]
  },
  {
   "cell_type": "code",
   "execution_count": null,
   "metadata": {},
   "outputs": [],
   "source": [
    "# for i in lamdas:\n",
    "#     static_net_heat.compute_simple_vonNeumann_entropy(lamda=i, force_csr=True, time_domain = static_net_heat.times[-1:])"
   ]
  },
  {
   "cell_type": "code",
   "execution_count": null,
   "metadata": {},
   "outputs": [],
   "source": [
    "# plt.subplot(1, 2, 1)\n",
    "# plt.plot(lamdas, one_time(static_net_heat.simple_vNS))\n",
    "\n",
    "# plt.subplot(1, 2, 2)\n",
    "# plt.plot(lamdas, one_time(static_net_heat.simple_vNS))\n",
    "# plt.yscale('log')\n",
    "# plt.title('Simple vNS')"
   ]
  },
  {
   "cell_type": "code",
   "execution_count": null,
   "metadata": {},
   "outputs": [],
   "source": [
    "for i in range(len(lamdas)):\n",
    "    plt.subplot(1, 2, 1)\n",
    "    plt.plot(static_net_heat.simple_vNS[lamdas[i]], label='lamda = ' + str(round(lamdas[i], 3)) + '  #Communities= ' + str(len(list_forw_flows[i].partition[0].cluster_list)))\n",
    "\n",
    "    plt.subplot(1, 2, 2)\n",
    "    plt.plot(static_net_heat.simple_vNS[lamdas[i]], label='lamda = ' + str(round(lamdas[i], 3)) + '  #Communities= ' + str(len(list_forw_flows[i].partition[0].cluster_list)), )\n",
    "    plt.yscale('log')\n",
    "plt.legend(fontsize='xx-small', loc='upper left', bbox_to_anchor=(1.05, 1))\n",
    "plt.title('Simple vNS')\n",
    "#plt.savefig('./figures/fig3_recap_entropy_plots/fig3_simple_vNS.eps', format='eps')"
   ]
  },
  {
   "cell_type": "markdown",
   "metadata": {},
   "source": [
    "### Von Neumann Entropy"
   ]
  },
  {
   "cell_type": "code",
   "execution_count": null,
   "metadata": {},
   "outputs": [],
   "source": [
    "for i in lamdas:\n",
    "    static_net_heat.compute_vonNeumann_entropy(lamda=i, force_csr=True, time_domain = static_net_heat.times[-1:])"
   ]
  },
  {
   "cell_type": "code",
   "execution_count": null,
   "metadata": {},
   "outputs": [],
   "source": [
    "plt.subplot(1, 2, 1)\n",
    "plt.plot(lamdas, one_time(static_net_heat.vNS))\n",
    "\n",
    "plt.subplot(1, 2, 2)\n",
    "plt.plot(lamdas, one_time(static_net_heat.vNS))\n",
    "plt.yscale('log')\n",
    "plt.title('vNS')"
   ]
  },
  {
   "cell_type": "code",
   "execution_count": null,
   "metadata": {},
   "outputs": [],
   "source": [
    "for i in range(len(lamdas)):\n",
    "    print(lamdas[i])\n",
    "    plt.subplot(1, 2, 1)\n",
    "    plt.plot(static_net_heat.vNS[lamdas[i]], label='lamda = ' + str(round(lamdas[i], 3)))\n",
    "\n",
    "    plt.subplot(1, 2, 2)\n",
    "    plt.plot(static_net_heat.vNS[lamdas[i]], label='lamda = ' + str(round(lamdas[i], 3)))\n",
    "    plt.yscale('log')\n",
    "plt.legend(fontsize='xx-small', loc='upper left', bbox_to_anchor=(1.05, 1))\n",
    "plt.title('vNS')\n",
    "#plt.savefig('./figures/fig3_recap_entropy_plots/fig3_vNS.eps', format='eps')"
   ]
  },
  {
   "cell_type": "markdown",
   "metadata": {},
   "source": [
    "# Derivatives"
   ]
  },
  {
   "cell_type": "code",
   "execution_count": null,
   "metadata": {},
   "outputs": [],
   "source": [
    "def derivative(v1, v2):\n",
    "    assert len(v1) == len(v2), \"Error: in order to compute the numerical derivative, the two varibales need to have the same lenght.\"\n",
    "    derivative = []\n",
    "    for i, vi in enumerate(v1[1:]):\n",
    "        m1 =(vi - v1[i-1])/(v2[i]-v2[i-1])\n",
    "        m2 =(v1[i+1] - vi)/(v2[i+1]-v2[i])\n",
    "        derivative.append((m1+m2)/2)\n",
    "    return derivative"
   ]
  },
  {
   "cell_type": "code",
   "execution_count": null,
   "metadata": {},
   "outputs": [],
   "source": [
    "between_lamdas=np.linspace(-4,2,20)"
   ]
  },
  {
   "cell_type": "code",
   "execution_count": null,
   "metadata": {},
   "outputs": [],
   "source": [
    "net.times"
   ]
  },
  {
   "cell_type": "code",
   "execution_count": null,
   "metadata": {},
   "outputs": [],
   "source": [
    "sample_times = np.arange(0, len(net.times), 500)\n",
    "print(sample_times)"
   ]
  },
  {
   "cell_type": "markdown",
   "metadata": {},
   "source": [
    "### Entropy Rate"
   ]
  },
  {
   "cell_type": "code",
   "execution_count": null,
   "metadata": {},
   "outputs": [],
   "source": [
    "for i, t in enumerate(sample_times):\n",
    "\n",
    "    St = []\n",
    "    for j, lamda in enumerate(lamdas):\n",
    "        St.append(static_net_heat.S[lamda][i])\n",
    "    \n",
    "    v1 = St\n",
    "    v2 = between_lamdas\n",
    "    ds_dt = derivative(v1, v2)\n",
    "\n",
    "    plt.subplot(1, 2, 1)\n",
    "    plt.plot(lamdas[1:], ds_dt, label='t = ' + str(round(net.times[t], 3)))\n",
    "\n",
    "    plt.subplot(1, 2, 2)\n",
    "    plt.plot(lamdas[1:], ds_dt, label='t = ' + str(round(net.times[t], 3)))\n",
    "    plt.xscale('log')\n",
    "\n",
    "plt.legend(fontsize='xx-small', loc='upper left',  bbox_to_anchor=(1.05, 1))\n",
    "plt.title('d(Entropy rate) / dlamda')\n",
    "plt.savefig('./figures/fig3_recap_entropy_plots/fig3_dS_dlamda.eps', format='eps')\n",
    "\n",
    "plt.show()"
   ]
  },
  {
   "cell_type": "markdown",
   "metadata": {},
   "source": [
    "### Spectral vNS"
   ]
  },
  {
   "cell_type": "code",
   "execution_count": null,
   "metadata": {},
   "outputs": [],
   "source": [
    "for i, t in enumerate(sample_times):\n",
    "\n",
    "    St = []\n",
    "    for j, lamda in enumerate(lamdas):\n",
    "        St.append(static_net_heat.spectral_vNS[lamda][i])\n",
    "    \n",
    "    v1 = St\n",
    "    v2 = between_lamdas\n",
    "    ds_dt = derivative(v1, v2)\n",
    "\n",
    "    plt.subplot(1, 2, 1)\n",
    "    plt.plot(lamdas[1:], ds_dt, label='t = ' + str(round(t, 3)))\n",
    "\n",
    "    plt.subplot(1, 2, 2)\n",
    "    plt.plot(lamdas[1:], ds_dt, label='t = ' + str(round(t, 3)))\n",
    "    plt.xscale('log')\n",
    "\n",
    "plt.legend(fontsize='xx-small', loc='upper left', bbox_to_anchor=(1.05, 1))\n",
    "plt.title('Static Network: d(Spectral vNS) / dlamda')\n",
    "plt.savefig('./figures/fig3_recap_entropy_plots/fig3_dspectral_vNS_dlamda.eps', format='eps')\n",
    "\n",
    "plt.show()"
   ]
  },
  {
   "cell_type": "markdown",
   "metadata": {},
   "source": [
    "### Derivative new vNS"
   ]
  },
  {
   "cell_type": "code",
   "execution_count": null,
   "metadata": {},
   "outputs": [],
   "source": [
    "for i, t in enumerate(sample_times):\n",
    "\n",
    "    St = []\n",
    "    for j, lamda in enumerate(lamdas):\n",
    "        St.append(static_net_heat.new_vNS[lamda][i])\n",
    "    \n",
    "    v1 = St\n",
    "    v2 = between_lamdas\n",
    "    ds_dt = derivative(v1, v2)\n",
    "\n",
    "    plt.subplot(1, 2, 1)\n",
    "    plt.plot(lamdas[1:], ds_dt, label='t = ' + str(round(t, 3)))\n",
    "\n",
    "    plt.subplot(1, 2, 2)\n",
    "    plt.plot(lamdas[1:], ds_dt, label='t = ' + str(round(t, 3)))\n",
    "    plt.xscale('log')\n",
    "\n",
    "plt.legend(fontsize='xx-small', loc='upper left', bbox_to_anchor=(1.05, 1))\n",
    "plt.title('Static Network: d(New vNS) / dlamda')\n",
    "plt.savefig('./figures/fig3_recap_entropy_plots/fig3_dnew_vNS_dlamda.eps', format='eps')\n",
    "\n",
    "plt.show()"
   ]
  },
  {
   "cell_type": "markdown",
   "metadata": {},
   "source": [
    "### Simple vNS"
   ]
  },
  {
   "cell_type": "code",
   "execution_count": null,
   "metadata": {},
   "outputs": [],
   "source": [
    "for i, t in enumerate(sample_times):\n",
    "\n",
    "    St = []\n",
    "    for j, lamda in enumerate(lamdas):\n",
    "        St.append(static_net_heat.simple_vNS[lamda][i])\n",
    "    \n",
    "    v1 = St\n",
    "    v2 = between_lamdas\n",
    "    ds_dt = derivative(v1, v2)\n",
    "\n",
    "    plt.subplot(1, 2, 1)\n",
    "    plt.plot(lamdas[1:], ds_dt, label='t = ' + str(round(t, 3)))\n",
    "\n",
    "    plt.subplot(1, 2, 2)\n",
    "    plt.plot(lamdas[1:], ds_dt, label='t = ' + str(round(t, 3)))\n",
    "    plt.xscale('log')\n",
    "\n",
    "plt.legend(fontsize='xx-small', loc='upper left', bbox_to_anchor=(1.05, 1))\n",
    "plt.title('d(Simple vNS) / dlamda')\n",
    "plt.savefig('./figures/fig3_recap_entropy_plots/fig3_dsimple_vNS_dlamda.eps', format='eps')\n",
    "\n",
    "plt.show()"
   ]
  },
  {
   "cell_type": "markdown",
   "metadata": {},
   "source": [
    "### Deriative vNS"
   ]
  },
  {
   "cell_type": "code",
   "execution_count": null,
   "metadata": {},
   "outputs": [],
   "source": [
    "for i, t in enumerate(sample_times):\n",
    "\n",
    "    St = []\n",
    "    for j, lamda in enumerate(lamdas):\n",
    "        St.append(static_net_heat.vNS[lamda][i])\n",
    "    \n",
    "    v1 = St\n",
    "    v2 = between_lamdas\n",
    "    ds_dt = derivative(v1, v2)\n",
    "\n",
    "    plt.subplot(1, 2, 1)\n",
    "    plt.plot(lamdas[1:], ds_dt, label='t = ' + str(round(t, 3)))\n",
    "\n",
    "    plt.subplot(1, 2, 2)\n",
    "    plt.plot(lamdas[1:], ds_dt, label='t = ' + str(round(t, 3)))\n",
    "    plt.xscale('log')\n",
    "\n",
    "plt.legend(fontsize='xx-small', loc='upper left', bbox_to_anchor=(1.05, 1))\n",
    "plt.title('Static Network: d(vNS) / dlamda')\n",
    "plt.savefig('./figures/fig3_recap_entropy_plots/fig3_dvNS_dlamda.eps', format='eps')\n",
    "\n",
    "plt.show()"
   ]
  },
  {
   "cell_type": "markdown",
   "metadata": {},
   "source": [
    "# Weighted Static Network"
   ]
  },
  {
   "cell_type": "code",
   "execution_count": 12,
   "metadata": {},
   "outputs": [
    {
     "data": {
      "text/plain": [
       "Index([  0.085593365346635,  0.2568114494294681, 0.29259991312776745,\n",
       "       0.33642992110991066,  0.4032220572650702,  0.5383267898761216,\n",
       "        0.5506873897987057,  0.5816441701637541,  0.6002483938865569,\n",
       "        0.9995373483327974,\n",
       "       ...\n",
       "         98.58265894152568,   98.82776357311806,   98.86598743445596,\n",
       "         99.15813002774136,   99.27120716531084,   99.62534157567295,\n",
       "         99.67338096814258,   99.75614328258465,   99.78440114428888,\n",
       "         99.84367840864601],\n",
       "      dtype='float64', name='times', length=998)"
      ]
     },
     "execution_count": 12,
     "metadata": {},
     "output_type": "execute_result"
    }
   ],
   "source": [
    "static_net_weighted_heat.times"
   ]
  },
  {
   "cell_type": "markdown",
   "metadata": {},
   "source": [
    "### Entropy Rate"
   ]
  },
  {
   "cell_type": "code",
   "execution_count": null,
   "metadata": {},
   "outputs": [],
   "source": [
    "for i in lamdas:\n",
    "    static_net_weighted_heat.compute_entropy(lamda=i, force_csr=True)"
   ]
  },
  {
   "cell_type": "code",
   "execution_count": null,
   "metadata": {},
   "outputs": [],
   "source": [
    "for i, t in enumerate(sample_times):\n",
    "\n",
    "    St = []\n",
    "    for j, lamda in enumerate(lamdas):\n",
    "        St.append(static_net_weighted_heat.S[lamda][i])\n",
    "    \n",
    "    v1 = St\n",
    "    v2 = between_lamdas\n",
    "    ds_dt = derivative(v1, v2)\n",
    "\n",
    "    plt.subplot(1, 2, 1)\n",
    "    plt.plot(lamdas[1:], ds_dt, label='t = ' + str(round(net.times[t], 3)))\n",
    "\n",
    "    plt.subplot(1, 2, 2)\n",
    "    plt.plot(lamdas[1:], ds_dt, label='t = ' + str(round(net.times[t], 3)))\n",
    "    plt.xscale('log')\n",
    "\n",
    "plt.legend(fontsize='xx-small', loc='upper left',  bbox_to_anchor=(1.05, 1))\n",
    "plt.title('d(Entropy rate) / dlamda')\n",
    "#plt.savefig('./figures/fig3_recap_entropy_plots/fig3_dS_dlamda.eps', format='eps')\n",
    "\n",
    "plt.show()"
   ]
  },
  {
   "cell_type": "markdown",
   "metadata": {},
   "source": [
    "### Spectral vNS"
   ]
  },
  {
   "cell_type": "code",
   "execution_count": null,
   "metadata": {},
   "outputs": [],
   "source": [
    "for i in lamdas:\n",
    "    static_net_weighted_heat.compute_spectral_vonNeumann_entropy(lamda=i, force_csr=True)"
   ]
  },
  {
   "cell_type": "code",
   "execution_count": null,
   "metadata": {},
   "outputs": [],
   "source": [
    "for i, t in enumerate(sample_times):\n",
    "\n",
    "    St = []\n",
    "    for j, lamda in enumerate(lamdas):\n",
    "        St.append(static_net_weighted_heat.spectral_vNS[lamda][i])\n",
    "    \n",
    "    v1 = St\n",
    "    v2 = between_lamdas\n",
    "    ds_dt = derivative(v1, v2)\n",
    "\n",
    "    plt.subplot(1, 2, 1)\n",
    "    plt.plot(lamdas[1:], ds_dt, label='t = ' + str(round(t, 3)))\n",
    "\n",
    "    plt.subplot(1, 2, 2)\n",
    "    plt.plot(lamdas[1:], ds_dt, label='t = ' + str(round(t, 3)))\n",
    "    plt.xscale('log')\n",
    "\n",
    "plt.legend(fontsize='xx-small', loc='upper left', bbox_to_anchor=(1.05, 1))\n",
    "plt.title('Static Network: d(Spectral vNS) / dlamda')\n",
    "#plt.savefig('./figures/fig3_recap_entropy_plots/fig3_dspectral_vNS_dlamda.eps', format='eps')\n",
    "\n",
    "plt.show()"
   ]
  },
  {
   "cell_type": "markdown",
   "metadata": {},
   "source": [
    "### New vNS"
   ]
  },
  {
   "cell_type": "code",
   "execution_count": null,
   "metadata": {},
   "outputs": [],
   "source": [
    "for i in lamdas:\n",
    "    static_net_weighted_heat.compute_new_vonNeumann_entropy(lamda=i, force_csr=True)"
   ]
  },
  {
   "cell_type": "code",
   "execution_count": null,
   "metadata": {},
   "outputs": [],
   "source": [
    "for i, t in enumerate(sample_times):\n",
    "\n",
    "    St = []\n",
    "    for j, lamda in enumerate(lamdas):\n",
    "        St.append(static_net_weighted_heat.new_vNS[lamda][i])\n",
    "    \n",
    "    v1 = St\n",
    "    v2 = between_lamdas\n",
    "    ds_dt = derivative(v1, v2)\n",
    "\n",
    "    plt.subplot(1, 2, 1)\n",
    "    plt.plot(lamdas[1:], ds_dt, label='t = ' + str(round(t, 3)))\n",
    "\n",
    "    plt.subplot(1, 2, 2)\n",
    "    plt.plot(lamdas[1:], ds_dt, label='t = ' + str(round(t, 3)))\n",
    "    plt.xscale('log')\n",
    "\n",
    "plt.legend(fontsize='xx-small', loc='upper left', bbox_to_anchor=(1.05, 1))\n",
    "plt.title('Static Network: d(New vNS) / dlamda')\n",
    "#plt.savefig('./figures/fig3_recap_entropy_plots/fig3_dnew_vNS_dlamda.eps', format='eps')\n",
    "\n",
    "plt.show()"
   ]
  },
  {
   "cell_type": "markdown",
   "metadata": {},
   "source": [
    "### Simple vNS"
   ]
  },
  {
   "cell_type": "code",
   "execution_count": null,
   "metadata": {},
   "outputs": [],
   "source": [
    "for i in lamdas:\n",
    "    static_net_weighted_heat.compute_simple_vonNeumann_entropy(lamda=i, force_csr=True)"
   ]
  },
  {
   "cell_type": "code",
   "execution_count": null,
   "metadata": {},
   "outputs": [],
   "source": [
    "for i, t in enumerate(sample_times):\n",
    "\n",
    "    St = []\n",
    "    for j, lamda in enumerate(lamdas):\n",
    "        St.append(static_net_weighted_heat.simple_vNS[lamda][i])\n",
    "    \n",
    "    v1 = St\n",
    "    v2 = between_lamdas\n",
    "    ds_dt = derivative(v1, v2)\n",
    "\n",
    "    plt.subplot(1, 2, 1)\n",
    "    plt.plot(lamdas[1:], ds_dt, label='t = ' + str(round(t, 3)))\n",
    "\n",
    "    plt.subplot(1, 2, 2)\n",
    "    plt.plot(lamdas[1:], ds_dt, label='t = ' + str(round(t, 3)))\n",
    "    plt.xscale('log')\n",
    "\n",
    "plt.legend(fontsize='xx-small', loc='upper left', bbox_to_anchor=(1.05, 1))\n",
    "plt.title('d(Simple vNS) / dlamda')\n",
    "# plt.savefig('./figures/fig3_recap_entropy_plots/fig3_dsimple_vNS_dlamda.eps', format='eps')\n",
    "\n",
    "plt.show()"
   ]
  },
  {
   "cell_type": "markdown",
   "metadata": {},
   "source": [
    "### vNS"
   ]
  },
  {
   "cell_type": "code",
   "execution_count": null,
   "metadata": {},
   "outputs": [],
   "source": [
    "for i in lamdas:\n",
    "    static_net_weighted_heat.compute_vonNeumann_entropy(lamda=i, force_csr=True)"
   ]
  },
  {
   "cell_type": "code",
   "execution_count": null,
   "metadata": {},
   "outputs": [],
   "source": [
    "for i, t in enumerate(sample_times):\n",
    "\n",
    "    St = []\n",
    "    for j, lamda in enumerate(lamdas):\n",
    "        St.append(static_net_weighted_heat.vNS[lamda][i])\n",
    "    \n",
    "    v1 = St\n",
    "    v2 = between_lamdas\n",
    "    ds_dt = derivative(v1, v2)\n",
    "\n",
    "    plt.subplot(1, 2, 1)\n",
    "    plt.plot(lamdas[1:], ds_dt, label='t = ' + str(round(t, 3)))\n",
    "\n",
    "    plt.subplot(1, 2, 2)\n",
    "    plt.plot(lamdas[1:], ds_dt, label='t = ' + str(round(t, 3)))\n",
    "    plt.xscale('log')\n",
    "\n",
    "plt.legend(fontsize='xx-small', loc='upper left', bbox_to_anchor=(1.05, 1))\n",
    "plt.title('Static Network: d(vNS) / dlamda')\n",
    "#plt.savefig('./figures/fig3_recap_entropy_plots/fig3_dvNS_dlamda.eps', format='eps')\n",
    "\n",
    "plt.show()"
   ]
  }
 ],
 "metadata": {
  "kernelspec": {
   "display_name": "flow_stability_env",
   "language": "python",
   "name": "python3"
  },
  "language_info": {
   "codemirror_mode": {
    "name": "ipython",
    "version": 3
   },
   "file_extension": ".py",
   "mimetype": "text/x-python",
   "name": "python",
   "nbconvert_exporter": "python",
   "pygments_lexer": "ipython3",
   "version": "3.11.4"
  }
 },
 "nbformat": 4,
 "nbformat_minor": 2
}
