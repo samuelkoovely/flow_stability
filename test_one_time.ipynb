{
 "cells": [
  {
   "cell_type": "code",
   "execution_count": 7,
   "metadata": {},
   "outputs": [],
   "source": [
    "import sys\n",
    "import os\n",
    "\n",
    "\n",
    "\n",
    "import numpy as np\n",
    "from SynthTempNetwork import Individual, SynthTempNetwork\n",
    "from TemporalNetwork import ContTempNetwork, StaticTempNetwork\n",
    "from FlowStability import FlowIntegralClustering, run_multi_louvain\n",
    "import parallel_clustering\n",
    "import pickle\n",
    "\n",
    "import matplotlib.pyplot as plt\n",
    "import matplotlib\n",
    "\n",
    "from scipy.sparse import (lil_matrix, dok_matrix, diags, eye, isspmatrix_csr, isspmatrix,\n",
    "                          csr_matrix, coo_matrix, csc_matrix)\n",
    "from scipy.sparse.linalg import eigsh"
   ]
  },
  {
   "cell_type": "code",
   "execution_count": 2,
   "metadata": {},
   "outputs": [
    {
     "name": "stdout",
     "output_type": "stream",
     "text": [
      "[1.00000000e-04 2.06913808e-04 4.28133240e-04 8.85866790e-04\n",
      " 1.83298071e-03 3.79269019e-03 7.84759970e-03 1.62377674e-02\n",
      " 3.35981829e-02 6.95192796e-02 1.43844989e-01 2.97635144e-01\n",
      " 6.15848211e-01 1.27427499e+00 2.63665090e+00 5.45559478e+00\n",
      " 1.12883789e+01 2.33572147e+01 4.83293024e+01 1.00000000e+02]\n"
     ]
    }
   ],
   "source": [
    "lamdas=np.logspace(-4,2,20)\n",
    "print(lamdas)\n",
    "between_lamdas=np.linspace(-4,2,20)"
   ]
  },
  {
   "cell_type": "code",
   "execution_count": 3,
   "metadata": {},
   "outputs": [],
   "source": [
    "net = ContTempNetwork.load('fig3_network_short')"
   ]
  },
  {
   "cell_type": "code",
   "execution_count": 4,
   "metadata": {},
   "outputs": [
    {
     "name": "stdout",
     "output_type": "stream",
     "text": [
      "PID  55705  : computing T_list\n",
      "PID  55705  : computing integral\n",
      "PID  55705  :  0  over  459  took 0.00s\n",
      "integral took 0.13s\n",
      "PID  55705  : computing T_list\n",
      "PID  55705  : computing integral\n",
      "PID  55705  :  0  over  459  took 0.00s\n",
      "integral took 0.13s\n",
      "PID  55705  : computing T_list\n",
      "PID  55705  : computing integral\n",
      "PID  55705  :  0  over  459  took 0.00s\n",
      "integral took 0.12s\n",
      "PID  55705  : computing T_list\n",
      "PID  55705  : computing integral\n",
      "PID  55705  :  0  over  459  took 0.00s\n",
      "integral took 0.12s\n",
      "PID  55705  : computing T_list\n",
      "PID  55705  : computing integral\n",
      "PID  55705  :  0  over  459  took 0.00s\n",
      "integral took 0.13s\n",
      "PID  55705  : computing T_list\n",
      "PID  55705  : computing integral\n",
      "PID  55705  :  0  over  459  took 0.00s\n",
      "integral took 0.13s\n",
      "PID  55705  : computing T_list\n",
      "PID  55705  : computing integral\n",
      "PID  55705  :  0  over  459  took 0.00s\n",
      "integral took 0.13s\n",
      "PID  55705  : computing T_list\n",
      "PID  55705  : computing integral\n",
      "PID  55705  :  0  over  459  took 0.00s\n",
      "integral took 0.13s\n",
      "PID  55705  : computing T_list\n",
      "PID  55705  : computing integral\n",
      "PID  55705  :  0  over  459  took 0.00s\n",
      "integral took 0.13s\n",
      "PID  55705  : computing T_list\n",
      "PID  55705  : computing integral\n",
      "PID  55705  :  0  over  459  took 0.00s\n",
      "integral took 0.13s\n",
      "PID  55705  : computing T_list\n",
      "PID  55705  : computing integral\n",
      "PID  55705  :  0  over  459  took 0.00s\n",
      "integral took 0.13s\n",
      "PID  55705  : computing T_list\n",
      "PID  55705  : computing integral\n",
      "PID  55705  :  0  over  459  took 0.00s\n",
      "integral took 0.13s\n",
      "PID  55705  : computing T_list\n",
      "PID  55705  : computing integral\n",
      "PID  55705  :  0  over  459  took 0.00s\n",
      "integral took 0.12s\n",
      "PID  55705  : computing T_list\n",
      "PID  55705  : computing integral\n",
      "PID  55705  :  0  over  459  took 0.00s\n",
      "integral took 0.12s\n",
      "PID  55705  : computing T_list\n",
      "PID  55705  : computing integral\n",
      "PID  55705  :  0  over  459  took 0.00s\n",
      "integral took 0.12s\n",
      "PID  55705  : computing T_list\n",
      "PID  55705  : computing integral\n",
      "PID  55705  :  0  over  459  took 0.00s\n",
      "integral took 0.12s\n",
      "PID  55705  : computing T_list\n",
      "PID  55705  : computing integral\n",
      "PID  55705  :  0  over  459  took 0.00s\n",
      "integral took 0.12s\n",
      "PID  55705  : computing T_list\n",
      "PID  55705  : computing integral\n",
      "PID  55705  :  0  over  459  took 0.00s\n",
      "integral took 0.12s\n",
      "PID  55705  : computing T_list\n",
      "PID  55705  : computing integral\n",
      "PID  55705  :  0  over  459  took 0.00s\n",
      "integral took 0.12s\n",
      "PID  55705  : computing T_list\n",
      "PID  55705  : computing integral\n",
      "PID  55705  :  0  over  459  took 0.00s\n",
      "integral took 0.12s\n"
     ]
    }
   ],
   "source": [
    "list_forw_flows = []\n",
    "\n",
    "for i in lamdas:\n",
    "    list_forw_flows.append(FlowIntegralClustering(T_inter_list=net.inter_T[i],\n",
    "                                  time_list=net.times,\n",
    "                                  verbose=True))"
   ]
  },
  {
   "cell_type": "code",
   "execution_count": 5,
   "metadata": {},
   "outputs": [],
   "source": [
    "flowintegralclustering = list_forw_flows[0]"
   ]
  },
  {
   "cell_type": "code",
   "execution_count": 6,
   "metadata": {},
   "outputs": [
    {
     "ename": "AttributeError",
     "evalue": "'FlowIntegralClustering' object has no attribute 'p2'",
     "output_type": "error",
     "traceback": [
      "\u001b[0;31m---------------------------------------------------------------------------\u001b[0m",
      "\u001b[0;31mAttributeError\u001b[0m                            Traceback (most recent call last)",
      "Cell \u001b[0;32mIn[6], line 1\u001b[0m\n\u001b[0;32m----> 1\u001b[0m clusters, stabilites, seeds \u001b[38;5;241m=\u001b[39m \u001b[43mparallel_clustering\u001b[49m\u001b[38;5;241;43m.\u001b[39;49m\u001b[43mcompute_parallel_clustering\u001b[49m\u001b[43m(\u001b[49m\u001b[43mflowintegralclustering\u001b[49m\u001b[43m,\u001b[49m\u001b[43m \u001b[49m\u001b[43mnum_repeat\u001b[49m\u001b[38;5;241;43m=\u001b[39;49m\u001b[38;5;241;43m3\u001b[39;49m\u001b[43m,\u001b[49m\u001b[43m \u001b[49m\u001b[43mnproc\u001b[49m\u001b[38;5;241;43m=\u001b[39;49m\u001b[38;5;241;43m3\u001b[39;49m\u001b[43m,\u001b[49m\u001b[43m \u001b[49m\n\u001b[1;32m      2\u001b[0m \u001b[43m                                \u001b[49m\u001b[43mverbose\u001b[49m\u001b[38;5;241;43m=\u001b[39;49m\u001b[38;5;28;43;01mTrue\u001b[39;49;00m\u001b[43m,\u001b[49m\u001b[43m \u001b[49m\u001b[43mn_meta_iter_max\u001b[49m\u001b[38;5;241;43m=\u001b[39;49m\u001b[38;5;241;43m1000\u001b[39;49m\u001b[43m,\u001b[49m\u001b[43m \u001b[49m\n\u001b[1;32m      3\u001b[0m \u001b[43m                                \u001b[49m\u001b[43mn_sub_iter_max\u001b[49m\u001b[38;5;241;43m=\u001b[39;49m\u001b[38;5;241;43m1000\u001b[39;49m\u001b[43m,\u001b[49m\u001b[43m \u001b[49m\n\u001b[1;32m      4\u001b[0m \u001b[43m                                \u001b[49m\u001b[43mclust_verbose\u001b[49m\u001b[38;5;241;43m=\u001b[39;49m\u001b[38;5;28;43;01mFalse\u001b[39;49;00m\u001b[43m,\u001b[49m\u001b[43m \u001b[49m\u001b[43mprint_num_loops\u001b[49m\u001b[38;5;241;43m=\u001b[39;49m\u001b[38;5;28;43;01mFalse\u001b[39;49;00m\u001b[43m)\u001b[49m\n",
      "File \u001b[0;32m~/Documents/GitHub/flow_stability/parallel_clustering.py:46\u001b[0m, in \u001b[0;36mcompute_parallel_clustering\u001b[0;34m(clustering, num_repeat, nproc, verbose, n_meta_iter_max, n_sub_iter_max, clust_verbose, print_num_loops)\u001b[0m\n\u001b[1;32m     43\u001b[0m \u001b[38;5;66;03m# create arrays to share between processes\u001b[39;00m\n\u001b[1;32m     45\u001b[0m p1raw \u001b[38;5;241m=\u001b[39m RawArray(\u001b[38;5;124m'\u001b[39m\u001b[38;5;124md\u001b[39m\u001b[38;5;124m'\u001b[39m, clustering\u001b[38;5;241m.\u001b[39mp1)\n\u001b[0;32m---> 46\u001b[0m p2raw \u001b[38;5;241m=\u001b[39m RawArray(\u001b[38;5;124m'\u001b[39m\u001b[38;5;124md\u001b[39m\u001b[38;5;124m'\u001b[39m, \u001b[43mclustering\u001b[49m\u001b[38;5;241;43m.\u001b[39;49m\u001b[43mp2\u001b[49m)\n\u001b[1;32m     47\u001b[0m N \u001b[38;5;241m=\u001b[39m clustering\u001b[38;5;241m.\u001b[39mnum_nodes\n\u001b[1;32m     49\u001b[0m \u001b[38;5;28;01mif\u001b[39;00m \u001b[38;5;28mtype\u001b[39m(clustering) \u001b[38;5;129;01mis\u001b[39;00m Clustering:\n",
      "\u001b[0;31mAttributeError\u001b[0m: 'FlowIntegralClustering' object has no attribute 'p2'"
     ]
    }
   ],
   "source": [
    "clusters, stabilites, seeds = parallel_clustering.compute_parallel_clustering(flowintegralclustering, num_repeat=3, nproc=3, \n",
    "                                verbose=True, n_meta_iter_max=1000, \n",
    "                                n_sub_iter_max=1000, \n",
    "                                clust_verbose=False, print_num_loops=False)"
   ]
  },
  {
   "cell_type": "code",
   "execution_count": 8,
   "metadata": {},
   "outputs": [
    {
     "ename": "AttributeError",
     "evalue": "'FlowIntegralClustering' object has no attribute 'p2'",
     "output_type": "error",
     "traceback": [
      "\u001b[0;31m---------------------------------------------------------------------------\u001b[0m",
      "\u001b[0;31mAttributeError\u001b[0m                            Traceback (most recent call last)",
      "Cell \u001b[0;32mIn[8], line 1\u001b[0m\n\u001b[0;32m----> 1\u001b[0m \u001b[43mrun_multi_louvain\u001b[49m\u001b[43m(\u001b[49m\u001b[43mclustering\u001b[49m\u001b[38;5;241;43m=\u001b[39;49m\u001b[43mflowintegralclustering\u001b[49m\u001b[43m,\u001b[49m\u001b[43m \u001b[49m\u001b[43mnum_repeat\u001b[49m\u001b[38;5;241;43m=\u001b[39;49m\u001b[38;5;241;43m3\u001b[39;49m\u001b[43m)\u001b[49m\n",
      "File \u001b[0;32m~/Documents/GitHub/flow_stability/FlowStability.py:2482\u001b[0m, in \u001b[0;36mrun_multi_louvain\u001b[0;34m(clustering, num_repeat, **kwargs)\u001b[0m\n\u001b[1;32m   2476\u001b[0m n_loops \u001b[38;5;241m=\u001b[39m []\n\u001b[1;32m   2478\u001b[0m \u001b[38;5;28;01mfor\u001b[39;00m seed \u001b[38;5;129;01min\u001b[39;00m seeds:\n\u001b[1;32m   2479\u001b[0m     \n\u001b[1;32m   2480\u001b[0m     \u001b[38;5;66;03m# create a copy of clustering with a different seed\u001b[39;00m\n\u001b[1;32m   2481\u001b[0m     c \u001b[38;5;241m=\u001b[39m clustering\u001b[38;5;241m.\u001b[39m\u001b[38;5;18m__class__\u001b[39m(p1\u001b[38;5;241m=\u001b[39mclustering\u001b[38;5;241m.\u001b[39mp1,\n\u001b[0;32m-> 2482\u001b[0m                              p2\u001b[38;5;241m=\u001b[39m\u001b[43mclustering\u001b[49m\u001b[38;5;241;43m.\u001b[39;49m\u001b[43mp2\u001b[49m,\n\u001b[1;32m   2483\u001b[0m                              S\u001b[38;5;241m=\u001b[39mclustering\u001b[38;5;241m.\u001b[39m_S,\n\u001b[1;32m   2484\u001b[0m                              T\u001b[38;5;241m=\u001b[39mclustering\u001b[38;5;241m.\u001b[39mT,\n\u001b[1;32m   2485\u001b[0m                              rnd_seed\u001b[38;5;241m=\u001b[39mseed)\n\u001b[1;32m   2487\u001b[0m     n_loop \u001b[38;5;241m=\u001b[39m c\u001b[38;5;241m.\u001b[39mfind_louvain_clustering(\u001b[38;5;241m*\u001b[39m\u001b[38;5;241m*\u001b[39mkwargs)\n\u001b[1;32m   2489\u001b[0m     n_loops\u001b[38;5;241m.\u001b[39mappend(n_loop)\n",
      "\u001b[0;31mAttributeError\u001b[0m: 'FlowIntegralClustering' object has no attribute 'p2'"
     ]
    }
   ],
   "source": [
    "run_multi_louvain(clustering=flowintegralclustering, num_repeat=3)"
   ]
  },
  {
   "cell_type": "code",
   "execution_count": null,
   "metadata": {},
   "outputs": [],
   "source": [
    "for i in range(len(lamdas)):\n",
    "    list_forw_flows[i].find_louvain_clustering()"
   ]
  },
  {
   "cell_type": "code",
   "execution_count": null,
   "metadata": {},
   "outputs": [],
   "source": [
    "list_forw_flows[18].clustering[0]"
   ]
  },
  {
   "cell_type": "markdown",
   "metadata": {},
   "source": [
    "### Generating/Saving/Loading static networks"
   ]
  },
  {
   "cell_type": "code",
   "execution_count": null,
   "metadata": {},
   "outputs": [],
   "source": [
    "# #Generating Networks\n",
    "\n",
    "static_net_adj = net.compute_static_adjacency_matrix()\n",
    "\n",
    "#weighted\n",
    "#Combinatorial Laplacian\n",
    "static_net_weighted_heat = StaticTempNetwork(times = net.times, adjacency = static_net_adj)\n",
    "static_net_weighted_heat.compute_laplacian_matrices(random_walk = False)\n",
    "# for i in lamdas:\n",
    "#     static_net_weighted_heat.compute_inter_transition_matrices(lamda=i, dense_expm=False, use_sparse_stoch=False)\n",
    "#     static_net_weighted_heat.compute_transition_matrices(lamda=i)\n",
    "\n",
    "#Random Walk Laplacian\n",
    "static_net_weighted = StaticTempNetwork(times = net.times, adjacency = static_net_adj)\n",
    "static_net_weighted.compute_laplacian_matrices(random_walk = True)\n",
    "# for i in lamdas:\n",
    "#     static_net_weighted.compute_inter_transition_matrices(lamda=i, dense_expm=False, use_sparse_stoch=False)\n",
    "#     static_net_weighted.compute_transition_matrices(lamda=i)\n",
    "\n",
    "\n",
    "#unweighted\n",
    "#entries are sum of durations of events, need to set to 1\n",
    "static_net_adj = static_net_adj.toarray()\n",
    "static_net_adj[static_net_adj != 0] = 1\n",
    "static_net_adj = csr_matrix(static_net_adj)\n",
    "\n",
    "#Combinatorial Laplacian\n",
    "static_net_heat = StaticTempNetwork(times = net.times, adjacency = static_net_adj)\n",
    "static_net_heat.compute_laplacian_matrices(random_walk = False)\n",
    "# for i in lamdas:\n",
    "#     static_net_heat.compute_inter_transition_matrices(lamda=i, dense_expm=False, use_sparse_stoch=False)\n",
    "#     static_net_heat.compute_transition_matrices(lamda=i)\n",
    "\n",
    "#Random Walk Laplacian\n",
    "static_net = StaticTempNetwork(times = net.times, adjacency = static_net_adj)\n",
    "static_net.compute_laplacian_matrices(random_walk = True)\n",
    "# for i in lamdas:\n",
    "#     static_net.compute_inter_transition_matrices(lamda=i, dense_expm=False, use_sparse_stoch=False)\n",
    "#     static_net.compute_transition_matrices(lamda=i)"
   ]
  },
  {
   "cell_type": "code",
   "execution_count": null,
   "metadata": {},
   "outputs": [],
   "source": [
    "#Saving Networks\n",
    "static_net_weighted_heat.save('fig3_network_static_weighted_heat')\n",
    "static_net_weighted.save('fig3_network_static_weighted')\n",
    "static_net_heat.save('fig3_network_static_heat')\n",
    "static_net.save('fig3_network_static')"
   ]
  },
  {
   "cell_type": "code",
   "execution_count": null,
   "metadata": {},
   "outputs": [],
   "source": [
    "# #Loading Networks\n",
    "# static_net_weighted_heat = StaticTempNetwork.load('fig3_network_static_weighted_heat')\n",
    "# static_net_weighted = StaticTempNetwork.load('fig3_network_static_weighted')\n",
    "# static_net_heat = StaticTempNetwork.load('fig3_network_static_heat')\n",
    "# static_net = StaticTempNetwork.load('fig3_network_static')"
   ]
  },
  {
   "cell_type": "code",
   "execution_count": null,
   "metadata": {},
   "outputs": [],
   "source": [
    "def one_time(s):\n",
    "    one_time_s = []\n",
    "    for key in s.keys():\n",
    "        for i in s[key]:\n",
    "            one_time_s.append(i)\n",
    "    return one_time_s\n",
    "\n",
    "def derivative(v1, v2):\n",
    "    assert len(v1) == len(v2), \"Error: in order to compute the numerical derivative, the two varibales need to have the same lenght.\"\n",
    "    derivative = []\n",
    "    for i, vi in enumerate(v1[1:]):\n",
    "        m1 =(vi - v1[i-1])/(v2[i]-v2[i-1])\n",
    "        m2 =(v1[i+1] - vi)/(v2[i+1]-v2[i])\n",
    "        derivative.append((m1+m2)/2)\n",
    "    return derivative"
   ]
  },
  {
   "cell_type": "markdown",
   "metadata": {},
   "source": [
    "# Unweighted Static Network"
   ]
  },
  {
   "cell_type": "markdown",
   "metadata": {},
   "source": [
    "### Spectral vNS"
   ]
  },
  {
   "cell_type": "code",
   "execution_count": null,
   "metadata": {},
   "outputs": [],
   "source": [
    "for i in lamdas:\n",
    "    static_net_heat.compute_spectral_vonNeumann_entropy(lamda=i, force_csr=True, time_domain = static_net_heat.times[-1:])"
   ]
  },
  {
   "cell_type": "code",
   "execution_count": null,
   "metadata": {},
   "outputs": [],
   "source": [
    "plt.subplot(1, 2, 1)\n",
    "plt.plot(lamdas, one_time(static_net_heat.spectral_vNS))\n",
    "\n",
    "plt.subplot(1, 2, 2)\n",
    "plt.plot(lamdas, one_time(static_net_heat.spectral_vNS))\n",
    "plt.yscale('log')\n",
    "plt.title('Spectral vNS')"
   ]
  },
  {
   "cell_type": "markdown",
   "metadata": {},
   "source": [
    "### Von Neumann Entropy"
   ]
  },
  {
   "cell_type": "code",
   "execution_count": null,
   "metadata": {},
   "outputs": [],
   "source": [
    "for i in lamdas:\n",
    "    static_net_heat.compute_vonNeumann_entropy(lamda=i, force_csr=True, time_domain = static_net_heat.times[-1:])"
   ]
  },
  {
   "cell_type": "code",
   "execution_count": null,
   "metadata": {},
   "outputs": [],
   "source": [
    "plt.subplot(1, 2, 1)\n",
    "plt.plot(lamdas, one_time(static_net_heat.vNS))\n",
    "\n",
    "plt.subplot(1, 2, 2)\n",
    "plt.plot(lamdas, one_time(static_net_heat.vNS))\n",
    "plt.yscale('log')\n",
    "plt.title('vNS')"
   ]
  },
  {
   "cell_type": "code",
   "execution_count": null,
   "metadata": {},
   "outputs": [],
   "source": [
    "#comparison between the two\n",
    "\n",
    "print(one_time(static_net_heat.vNS))\n",
    "print(one_time(static_net_heat.spectral_vNS))"
   ]
  },
  {
   "cell_type": "markdown",
   "metadata": {},
   "source": [
    "## Derivatives"
   ]
  },
  {
   "cell_type": "code",
   "execution_count": null,
   "metadata": {},
   "outputs": [],
   "source": [
    "St = []\n",
    "for j, lamda in enumerate(lamdas):\n",
    "    St = one_time(static_net_heat.vNS)\n",
    "\n",
    "v1 = St\n",
    "v2 = between_lamdas\n",
    "ds_dt = derivative(v1, v2)\n",
    "\n",
    "plt.subplot(1, 2, 1)\n",
    "plt.plot(lamdas[1:], ds_dt, label='t = ')\n",
    "\n",
    "plt.subplot(1, 2, 2)\n",
    "plt.plot(lamdas[1:], ds_dt, label='t = ')\n",
    "plt.xscale('log')\n",
    "\n",
    "plt.legend(fontsize='xx-small', loc='upper left', bbox_to_anchor=(1.05, 1))\n",
    "plt.title('Static Network: d(Spectral vNS) / dlamda')\n",
    "#plt.savefig('./figures/fig3_recap_entropy_plots/fig3_dspectral_vNS_dlamda.eps', format='eps')\n",
    "\n",
    "plt.show()"
   ]
  },
  {
   "cell_type": "markdown",
   "metadata": {},
   "source": [
    "# Weighted Static network"
   ]
  },
  {
   "cell_type": "code",
   "execution_count": null,
   "metadata": {},
   "outputs": [],
   "source": [
    "for i in lamdas:\n",
    "    static_net_weighted_heat.compute_spectral_vonNeumann_entropy(lamda=i, force_csr=True, time_domain = static_net_weighted_heat.times[-1:])"
   ]
  },
  {
   "cell_type": "code",
   "execution_count": null,
   "metadata": {},
   "outputs": [],
   "source": [
    "for i in lamdas:\n",
    "    static_net_weighted_heat.compute_vonNeumann_entropy(lamda=i, force_csr=True, time_domain = static_net_weighted_heat.times[-1:])"
   ]
  },
  {
   "cell_type": "code",
   "execution_count": null,
   "metadata": {},
   "outputs": [],
   "source": [
    "#comparison between the two\n",
    "\n",
    "print(one_time(static_net_weighted_heat.vNS))\n",
    "print(one_time(static_net_weighted_heat.spectral_vNS))"
   ]
  },
  {
   "cell_type": "code",
   "execution_count": null,
   "metadata": {},
   "outputs": [],
   "source": [
    "plt.subplot(1, 2, 1)\n",
    "plt.plot(lamdas, one_time(static_net_weighted_heat.vNS))\n",
    "\n",
    "plt.subplot(1, 2, 2)\n",
    "plt.plot(lamdas, one_time(static_net_weighted_heat.vNS))\n",
    "plt.yscale('log')\n",
    "plt.title('vNS')"
   ]
  },
  {
   "cell_type": "code",
   "execution_count": null,
   "metadata": {},
   "outputs": [],
   "source": [
    "for j, lamda in enumerate(lamdas):\n",
    "    St = one_time(static_net_weighted_heat.vNS)\n",
    "\n",
    "    v1 = St\n",
    "    v2 = between_lamdas\n",
    "    ds_dt = derivative(v1, v2)\n",
    "\n",
    "plt.subplot(1, 2, 1)\n",
    "plt.plot(lamdas[1:], ds_dt, label='t = ')\n",
    "\n",
    "plt.subplot(1, 2, 2)\n",
    "plt.plot(lamdas[1:], ds_dt, label='t = ')\n",
    "plt.xscale('log')\n",
    "\n",
    "plt.legend(fontsize='xx-small', loc='upper left', bbox_to_anchor=(1.05, 1))\n",
    "plt.title('Static Network: d(vNS) / dlamda')\n",
    "#plt.savefig('./figures/fig3_recap_entropy_plots/fig3_dvNS_dlamda.eps', format='eps')\n",
    "\n",
    "plt.show()"
   ]
  },
  {
   "cell_type": "markdown",
   "metadata": {},
   "source": [
    "# Static Network Random Walk "
   ]
  },
  {
   "cell_type": "code",
   "execution_count": null,
   "metadata": {},
   "outputs": [],
   "source": [
    "for i in lamdas:\n",
    "    static_net.compute_vonNeumann_entropy(lamda=i, force_csr=True, time_domain = static_net_heat.times[-1:])"
   ]
  },
  {
   "cell_type": "code",
   "execution_count": null,
   "metadata": {},
   "outputs": [],
   "source": [
    "plt.subplot(1, 2, 1)\n",
    "plt.plot(lamdas, one_time(static_net.vNS))\n",
    "\n",
    "plt.subplot(1, 2, 2)\n",
    "plt.plot(lamdas, one_time(static_net.vNS))\n",
    "plt.yscale('log')\n",
    "plt.title('vNS')"
   ]
  },
  {
   "cell_type": "code",
   "execution_count": null,
   "metadata": {},
   "outputs": [],
   "source": [
    "St = []\n",
    "for j, lamda in enumerate(lamdas):\n",
    "    St = one_time(static_net.vNS)\n",
    "\n",
    "v1 = St\n",
    "v2 = between_lamdas\n",
    "ds_dt = derivative(v1, v2)\n",
    "\n",
    "plt.subplot(1, 2, 1)\n",
    "plt.plot(lamdas[1:], ds_dt, label='t = ')\n",
    "\n",
    "plt.subplot(1, 2, 2)\n",
    "plt.plot(lamdas[1:], ds_dt, label='t = ')\n",
    "plt.xscale('log')\n",
    "\n",
    "plt.legend(fontsize='xx-small', loc='upper left', bbox_to_anchor=(1.05, 1))\n",
    "plt.title('Static Network: d(vNS) / dlamda')\n",
    "#plt.savefig('./figures/fig3_recap_entropy_plots/fig3_dspectral_vNS_dlamda.eps', format='eps')\n",
    "\n",
    "plt.show()"
   ]
  },
  {
   "cell_type": "markdown",
   "metadata": {},
   "source": [
    "# Weighted Static Network Random Walk"
   ]
  },
  {
   "cell_type": "code",
   "execution_count": null,
   "metadata": {},
   "outputs": [],
   "source": [
    "for i in lamdas:\n",
    "    static_net_weighted.compute_vonNeumann_entropy(lamda=i, force_csr=True, time_domain = static_net_heat.times[-1:])"
   ]
  },
  {
   "cell_type": "code",
   "execution_count": null,
   "metadata": {},
   "outputs": [],
   "source": [
    "plt.subplot(1, 2, 1)\n",
    "plt.plot(lamdas, one_time(static_net_weighted.vNS))\n",
    "\n",
    "plt.subplot(1, 2, 2)\n",
    "plt.plot(lamdas, one_time(static_net_weighted.vNS))\n",
    "plt.yscale('log')\n",
    "plt.title('vNS')"
   ]
  },
  {
   "cell_type": "code",
   "execution_count": null,
   "metadata": {},
   "outputs": [],
   "source": [
    "St = []\n",
    "for j, lamda in enumerate(lamdas):\n",
    "    St = one_time(static_net_weighted.vNS)\n",
    "\n",
    "v1 = St\n",
    "v2 = between_lamdas\n",
    "ds_dt = derivative(v1, v2)\n",
    "\n",
    "plt.subplot(1, 2, 1)\n",
    "plt.plot(lamdas[1:], ds_dt, label='t = ')\n",
    "\n",
    "plt.subplot(1, 2, 2)\n",
    "plt.plot(lamdas[1:], ds_dt, label='t = ')\n",
    "plt.xscale('log')\n",
    "\n",
    "plt.legend(fontsize='xx-small', loc='upper left', bbox_to_anchor=(1.05, 1))\n",
    "plt.title('Static Network: d(vNS) / dlamda')\n",
    "#plt.savefig('./figures/fig3_recap_entropy_plots/fig3_dspectral_vNS_dlamda.eps', format='eps')\n",
    "\n",
    "plt.show()"
   ]
  },
  {
   "cell_type": "code",
   "execution_count": null,
   "metadata": {},
   "outputs": [],
   "source": [
    "with open('test_lamda100.000000', 'rb') as f:\n",
    "    pickle_test = pickle.load(f)"
   ]
  },
  {
   "cell_type": "code",
   "execution_count": null,
   "metadata": {},
   "outputs": [],
   "source": [
    "pickle_test.keys()"
   ]
  },
  {
   "cell_type": "code",
   "execution_count": null,
   "metadata": {},
   "outputs": [],
   "source": [
    "len(pickle_test['vNS'])"
   ]
  },
  {
   "cell_type": "code",
   "execution_count": null,
   "metadata": {},
   "outputs": [],
   "source": [
    "pickle_test['vNS']"
   ]
  },
  {
   "cell_type": "code",
   "execution_count": null,
   "metadata": {},
   "outputs": [],
   "source": [
    "tuple([round(lamda, 6) for lamda in lamdas ])"
   ]
  },
  {
   "cell_type": "code",
   "execution_count": null,
   "metadata": {},
   "outputs": [],
   "source": [
    "file='fig3_lamdas'\n",
    "lamdasf6= [round(lamda, 6) for lamda in lamdas ]\n",
    "with open(file, \"w\") as output:\n",
    "    output.write('(')\n",
    "    for lamda in lamdasf6[:-1]:\n",
    "        output.write(str(lamda) + ' ' )\n",
    "    output.write(str(lamdasf6[-1]) + ')')"
   ]
  }
 ],
 "metadata": {
  "kernelspec": {
   "display_name": "flow_stability_env",
   "language": "python",
   "name": "python3"
  },
  "language_info": {
   "codemirror_mode": {
    "name": "ipython",
    "version": 3
   },
   "file_extension": ".py",
   "mimetype": "text/x-python",
   "name": "python",
   "nbconvert_exporter": "python",
   "pygments_lexer": "ipython3",
   "version": "3.11.4"
  }
 },
 "nbformat": 4,
 "nbformat_minor": 2
}
